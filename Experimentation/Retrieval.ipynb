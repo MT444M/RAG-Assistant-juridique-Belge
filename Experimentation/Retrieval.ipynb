{
 "cells": [
  {
   "cell_type": "code",
   "execution_count": 1,
   "metadata": {},
   "outputs": [],
   "source": [
    "from pymilvus import MilvusClient\n",
    "from pymilvus import CollectionSchema, FieldSchema, DataType\n",
    "\n",
    "\n",
    "import pandas as pd\n",
    "from tqdm import tqdm\n",
    "import numpy as np\n",
    "from typing import Dict , List, Any\n",
    "import time\n",
    "import json\n",
    "\n",
    "\n",
    "\n",
    "from FlagEmbedding import BGEM3FlagModel\n",
    "embeddings_dim = 1024\n"
   ]
  },
  {
   "cell_type": "markdown",
   "metadata": {},
   "source": [
    "### Create Collection"
   ]
  },
  {
   "cell_type": "code",
   "execution_count": 62,
   "metadata": {},
   "outputs": [
    {
     "data": {
      "text/plain": [
       "['articles_collection_L2',\n",
       " 'articles_collectionPartition_IP',\n",
       " 'articles_collectionPartition_COSINE',\n",
       " 'articles_collection_IP',\n",
       " 'articles_collection_COSINE',\n",
       " 'articles_collectionPartition_L2']"
      ]
     },
     "execution_count": 62,
     "metadata": {},
     "output_type": "execute_result"
    }
   ],
   "source": [
    "client.list_collections()"
   ]
  },
  {
   "cell_type": "code",
   "execution_count": 61,
   "metadata": {},
   "outputs": [],
   "source": [
    "# client.drop_collection(\"articles_collection\")"
   ]
  },
  {
   "cell_type": "code",
   "execution_count": 63,
   "metadata": {},
   "outputs": [],
   "source": [
    "client = MilvusClient(uri=\"http://localhost:19530\")"
   ]
  },
  {
   "cell_type": "code",
   "execution_count": 64,
   "metadata": {},
   "outputs": [],
   "source": [
    "\n",
    "collection_name = 'articles_collection'\n",
    "\n",
    "id_field = FieldSchema(name=\"id\", dtype=DataType.INT64, is_primary=True)\n",
    "text_field = FieldSchema(name=\"article\", dtype=DataType.VARCHAR, max_length=65535)\n",
    "reference_field = FieldSchema(name=\"reference\", dtype=DataType.VARCHAR, max_length=1000)\n",
    "embedding_field = FieldSchema(name=\"embedding_articles\", dtype=DataType.FLOAT16_VECTOR, dim=embeddings_dim)\n",
    "\n",
    "schema = CollectionSchema(fields=[id_field, text_field, reference_field, embedding_field], description=\"collection d'articles de loi\")\n",
    "\n",
    "client.create_collection(collection_name = collection_name, schema=schema)"
   ]
  },
  {
   "cell_type": "markdown",
   "metadata": {},
   "source": [
    "##### Prep Indexing"
   ]
  },
  {
   "cell_type": "code",
   "execution_count": 65,
   "metadata": {},
   "outputs": [],
   "source": [
    "#  set the indexing\n",
    "index_params = MilvusClient.prepare_index_params()\n",
    "\n",
    "# Add an index on the vector field.\n",
    "index_params.add_index(\n",
    "    field_name=\"embedding_articles\",\n",
    "    metric_type=\"COSINE\",\n",
    "    index_type=\"FLAT\",\n",
    "    index_name=\"vector_index\",\n",
    "    params={}   #128 clusters units, 8 cluster search\n",
    ")\n",
    "\n",
    "client.create_index(\n",
    "    collection_name=\"articles_collection\",\n",
    "    index_params=index_params,\n",
    "    sync=False # Whether to wait for index creation to complete before returning. Defaults to True.\n",
    ")\n"
   ]
  },
  {
   "cell_type": "markdown",
   "metadata": {},
   "source": [
    "### Create Partition and Insert entities"
   ]
  },
  {
   "cell_type": "markdown",
   "metadata": {},
   "source": [
    "##### Create Partitions"
   ]
  },
  {
   "cell_type": "code",
   "execution_count": 66,
   "metadata": {},
   "outputs": [],
   "source": [
    "# load data\n",
    "df_articles = pd.read_csv('articles.csv')"
   ]
  },
  {
   "cell_type": "markdown",
   "metadata": {},
   "source": [
    "Create new categories for partitions"
   ]
  },
  {
   "cell_type": "code",
   "execution_count": 67,
   "metadata": {},
   "outputs": [],
   "source": [
    "import pandas as pd\n",
    "\n",
    "# Define a mapping of codes to big categories\n",
    "code_to_category = {\n",
    "    \"Code Réglementaire Wallon de l'Action sociale et de la Santé\": \"Protection Sociale et Santé\",\n",
    "    \"Code Judiciaire\": \"Gouvernance et Législation\",\n",
    "    \"Code de Droit Economique\": \"Gouvernance et Législation\",\n",
    "    \"Code Civil\": \"Gouvernance et Législation\",\n",
    "    \"Code du Bien-être au Travail\": \"Protection Sociale et Santé\",\n",
    "    \"Code des Sociétés et des Associations\": \"Commerce et Affaires\",\n",
    "    \"Code de la Démocratie Locale et de la Décentralisation\": \"Administration Locale et Démocratie\",\n",
    "    \"Code Wallon de l'Action sociale et de la Santé\": \"Protection Sociale et Santé\",\n",
    "    \"Code de la Navigation\": \"Environnement et Infrastructures\",\n",
    "    \"Code de l'Eau intégré au Code Wallon de l'Environnement\": \"Environnement et Infrastructures\",\n",
    "    \"Code Wallon du Développement Territorial\": \"Environnement et Infrastructures\",\n",
    "    \"Code d'Instruction Criminelle\": \"Gouvernance et Législation\",\n",
    "    \"Code Pénal\": \"Gouvernance et Législation\",\n",
    "    \"Code de la Fonction Publique Wallonne\": \"Administration Publique\",\n",
    "    \"Code Wallon de l'Agriculture\": \"Environnement et Infrastructures\",\n",
    "    \"Code Bruxellois de l'Aménagement du Territoire\": \"Environnement et Infrastructures\",\n",
    "    \"Code Wallon de l'Environnement\": \"Environnement et Infrastructures\",\n",
    "    \"Code Wallon de l'Enseignement Fondamental et de l'Enseignement Secondaire\": \"Éducation\",\n",
    "    \"Code Pénal Social\": \"Protection Sociale et Santé\",\n",
    "    \"Code Wallon de l'Habitation Durable\": \"Logement et Développement Urbain\",\n",
    "    \"Code Bruxellois du Logement\": \"Logement et Développement Urbain\",\n",
    "    \"Code Forestier\": \"Environnement et Infrastructures\",\n",
    "    \"Code Ferroviaire\": \"Environnement et Infrastructures\",\n",
    "    \"Code Electoral\": \"Administration Locale et Démocratie\",\n",
    "    \"Code Bruxellois de l'Air, du Climat et de la Maîtrise de l'Energie\": \"Environnement et Infrastructures\",\n",
    "    \"La Constitution\": \"Gouvernance et Législation\",\n",
    "    \"Codes des Droits et Taxes Divers\": \"Impôts et Finance\",\n",
    "    \"Code de Droit International Privé\": \"Gouvernance et Législation\",\n",
    "    \"Code Wallon du Bien-être des animaux\": \"Protection Sociale et Santé\",\n",
    "    \"Code Electoral Communal Bruxellois\": \"Administration Locale et Démocratie\",\n",
    "    \"Code Consulaire\": \"Gouvernance et Législation\",\n",
    "    \"Code Rural\": \"Agriculture et Affaires Rurales\",\n",
    "    \"Code Pénal Militaire\": \"Gouvernance et Législation\",\n",
    "    \"Code de la Nationalité Belge\": \"Gouvernance et Législation\"\n",
    "}\n",
    "\n",
    "# Map the 'code' column to the new categories\n",
    "df_articles['big_category'] = df_articles['code'].map(code_to_category)"
   ]
  },
  {
   "cell_type": "code",
   "execution_count": 68,
   "metadata": {},
   "outputs": [],
   "source": [
    "import re\n",
    "\n",
    "def normalize_partition_name(name):\n",
    "    # Replace the spaces and dashes with underscores\n",
    "    name = re.sub(r'\\s+|-', '_', name)\n",
    "    # remove non-alphanumeric characters\n",
    "    name = re.sub(r'[^a-zA-Z0-9_]', '', name)\n",
    "    return name\n",
    "\n",
    "# Appliquer cette fonction aux noms des codes\n",
    "df_articles['normalized_cat'] = df_articles['big_category'].apply(normalize_partition_name)\n"
   ]
  },
  {
   "cell_type": "code",
   "execution_count": 70,
   "metadata": {},
   "outputs": [
    {
     "data": {
      "text/plain": [
       "array(['Environnement_et_Infrastructures',\n",
       "       'Logement_et_Dveloppement_Urbain', 'Gouvernance_et_Lgislation',\n",
       "       'Administration_Locale_et_Dmocratie', 'Protection_Sociale_et_Sant',\n",
       "       'Agriculture_et_Affaires_Rurales', 'ducation',\n",
       "       'Administration_Publique', 'Commerce_et_Affaires',\n",
       "       'Impts_et_Finance'], dtype=object)"
      ]
     },
     "execution_count": 70,
     "metadata": {},
     "output_type": "execute_result"
    }
   ],
   "source": [
    "codes"
   ]
  },
  {
   "cell_type": "code",
   "execution_count": 69,
   "metadata": {},
   "outputs": [],
   "source": [
    "# create the partitions\n",
    "codes = df_articles['normalized_cat'].unique()\n",
    "\n",
    "for code in codes:\n",
    "    client.create_partition(collection_name=\"articles_collection\",\n",
    "                            partition_name=code)"
   ]
  },
  {
   "cell_type": "markdown",
   "metadata": {},
   "source": [
    "##### Insert the entities"
   ]
  },
  {
   "cell_type": "code",
   "execution_count": 71,
   "metadata": {},
   "outputs": [],
   "source": [
    "def load_embeddings_from_file(filepath: str) -> Dict[int, np.ndarray]:\n",
    "    # Load the npz file\n",
    "    data = np.load(filepath)\n",
    "    \n",
    "    # Convert arrays back to dictionary\n",
    "    embeddings_dict = {\n",
    "        int(id_): emb for id_, emb in zip(data['ids'], data['embeddings']) \n",
    "    }\n",
    "    \n",
    "    print(f\"Successfully loaded {len(embeddings_dict)} embeddings\")\n",
    "    \n",
    "    return embeddings_dict\n",
    "        "
   ]
  },
  {
   "cell_type": "code",
   "execution_count": 72,
   "metadata": {},
   "outputs": [
    {
     "name": "stdout",
     "output_type": "stream",
     "text": [
      "Successfully loaded 22633 embeddings\n"
     ]
    }
   ],
   "source": [
    "# load the embeddings\n",
    "embeddings_dict = load_embeddings_from_file('embeddings_bgem3.npz')"
   ]
  },
  {
   "cell_type": "code",
   "execution_count": 73,
   "metadata": {},
   "outputs": [],
   "source": [
    "# Create the entities\n",
    "def process_embeddings_in_chunks_and_partitions(\n",
    "    df_articles: pd.DataFrame,\n",
    "    loaded_embeddings: Dict[int, np.ndarray],\n",
    "    chunk_size: int = 1000\n",
    ") -> Dict[str, List[Dict[str, Any]]]:\n",
    "\n",
    "    # Initialize dictionary for partitioned entities\n",
    "    partitioned_entities = {}\n",
    "\n",
    "    # Process data in chunks with progress bar\n",
    "    with tqdm(total=len(df_articles), desc=\"Processing entities\") as pbar:\n",
    "        for chunk_start in range(0, len(df_articles), chunk_size):\n",
    "            # Get chunk of dataframe\n",
    "            chunk_end = min(chunk_start + chunk_size, len(df_articles))\n",
    "            df_chunk = df_articles.iloc[chunk_start:chunk_end]\n",
    "\n",
    "            # Process chunk\n",
    "            for _, row in df_chunk.iterrows():\n",
    "                partition = row['normalized_cat']\n",
    "                embedding = loaded_embeddings.get(row['id'])\n",
    "                if embedding is not None:\n",
    "                    entity = {\n",
    "                        \"id\": row['id'],\n",
    "                        \"article\": row['article'],\n",
    "                        \"reference\": row['reference'],\n",
    "                        \"embedding_articles\": np.array(embedding, dtype=np.float16)  # np.array of float16 to meet Milvus requirements\n",
    "                    }\n",
    "                    if partition not in partitioned_entities:\n",
    "                        partitioned_entities[partition] = []\n",
    "                    partitioned_entities[partition].append(entity)\n",
    "\n",
    "            # Update progress bar\n",
    "            pbar.update(len(df_chunk))\n",
    "\n",
    "    print(f\"Processed entities into {len(partitioned_entities)} partitions.\")\n",
    "    return partitioned_entities\n"
   ]
  },
  {
   "cell_type": "code",
   "execution_count": 74,
   "metadata": {},
   "outputs": [
    {
     "name": "stderr",
     "output_type": "stream",
     "text": [
      "Processing entities: 100%|██████████| 22633/22633 [00:01<00:00, 13273.58it/s]\n"
     ]
    },
    {
     "name": "stdout",
     "output_type": "stream",
     "text": [
      "Processed entities into 10 partitions.\n"
     ]
    }
   ],
   "source": [
    "partition_entities = process_embeddings_in_chunks_and_partitions(df_articles, embeddings_dict)"
   ]
  },
  {
   "cell_type": "code",
   "execution_count": 75,
   "metadata": {},
   "outputs": [],
   "source": [
    "def insert_entities_in_chunks(client, collection_name, partition_entities, batch_size=1000):\n",
    "    for partition, entities in partition_entities.items():\n",
    "        print(f\"Inserting entities into partition: {partition}\")\n",
    "        for i in range(0, len(entities), batch_size):\n",
    "            batch = entities[i:i + batch_size]\n",
    "            try:\n",
    "                client.insert(data=batch, collection_name=collection_name, partition_name=partition)\n",
    "            except Exception as e:\n",
    "                print(f\"Error during insertion for batch {i // batch_size + 1} in partition {partition}: {e}\")\n",
    "\n"
   ]
  },
  {
   "cell_type": "code",
   "execution_count": 76,
   "metadata": {},
   "outputs": [
    {
     "name": "stdout",
     "output_type": "stream",
     "text": [
      "Inserting entities into partition: Environnement_et_Infrastructures\n",
      "Inserting entities into partition: Logement_et_Dveloppement_Urbain\n",
      "Inserting entities into partition: Gouvernance_et_Lgislation\n",
      "Inserting entities into partition: Administration_Locale_et_Dmocratie\n",
      "Inserting entities into partition: Protection_Sociale_et_Sant\n",
      "Inserting entities into partition: Agriculture_et_Affaires_Rurales\n",
      "Inserting entities into partition: ducation\n",
      "Inserting entities into partition: Administration_Publique\n",
      "Inserting entities into partition: Commerce_et_Affaires\n",
      "Inserting entities into partition: Impts_et_Finance\n"
     ]
    }
   ],
   "source": [
    "# Example usage\n",
    "insert_entities_in_chunks(client, collection_name, partition_entities, batch_size=1000)"
   ]
  },
  {
   "cell_type": "markdown",
   "metadata": {},
   "source": [
    "-------------"
   ]
  },
  {
   "cell_type": "markdown",
   "metadata": {},
   "source": [
    "### Test search: Retrieve"
   ]
  },
  {
   "cell_type": "code",
   "execution_count": 136,
   "metadata": {},
   "outputs": [
    {
     "name": "stdout",
     "output_type": "stream",
     "text": [
      "['_default', 'Environnement_et_Infrastructures', 'Logement_et_Dveloppement_Urbain', 'Gouvernance_et_Lgislation', 'Administration_Locale_et_Dmocratie', 'Protection_Sociale_et_Sant', 'Agriculture_et_Affaires_Rurales', 'ducation', 'Administration_Publique', 'Commerce_et_Affaires', 'Impts_et_Finance']\n"
     ]
    }
   ],
   "source": [
    "res = client.list_partitions(collection_name=\"articles_collection\")\n",
    "print(res)"
   ]
  },
  {
   "cell_type": "markdown",
   "metadata": {},
   "source": [
    "##### Embedding Model"
   ]
  },
  {
   "cell_type": "code",
   "execution_count": 78,
   "metadata": {},
   "outputs": [
    {
     "data": {
      "application/vnd.jupyter.widget-view+json": {
       "model_id": "1f299f24771d4f68af3d828cbe8084b8",
       "version_major": 2,
       "version_minor": 0
      },
      "text/plain": [
       "Fetching 30 files:   0%|          | 0/30 [00:00<?, ?it/s]"
      ]
     },
     "metadata": {},
     "output_type": "display_data"
    },
    {
     "name": "stderr",
     "output_type": "stream",
     "text": [
      "c:\\Users\\mthia\\anaconda3\\envs\\AI_App\\Lib\\site-packages\\FlagEmbedding\\BGE_M3\\modeling.py:335: FutureWarning: You are using `torch.load` with `weights_only=False` (the current default value), which uses the default pickle module implicitly. It is possible to construct malicious pickle data which will execute arbitrary code during unpickling (See https://github.com/pytorch/pytorch/blob/main/SECURITY.md#untrusted-models for more details). In a future release, the default value for `weights_only` will be flipped to `True`. This limits the functions that could be executed during unpickling. Arbitrary objects will no longer be allowed to be loaded via this mode unless they are explicitly allowlisted by the user via `torch.serialization.add_safe_globals`. We recommend you start setting `weights_only=True` for any use case where you don't have full control of the loaded file. Please open an issue on GitHub for any issues related to this experimental feature.\n",
      "  colbert_state_dict = torch.load(os.path.join(model_dir, 'colbert_linear.pt'), map_location='cpu')\n",
      "c:\\Users\\mthia\\anaconda3\\envs\\AI_App\\Lib\\site-packages\\FlagEmbedding\\BGE_M3\\modeling.py:336: FutureWarning: You are using `torch.load` with `weights_only=False` (the current default value), which uses the default pickle module implicitly. It is possible to construct malicious pickle data which will execute arbitrary code during unpickling (See https://github.com/pytorch/pytorch/blob/main/SECURITY.md#untrusted-models for more details). In a future release, the default value for `weights_only` will be flipped to `True`. This limits the functions that could be executed during unpickling. Arbitrary objects will no longer be allowed to be loaded via this mode unless they are explicitly allowlisted by the user via `torch.serialization.add_safe_globals`. We recommend you start setting `weights_only=True` for any use case where you don't have full control of the loaded file. Please open an issue on GitHub for any issues related to this experimental feature.\n",
      "  sparse_state_dict = torch.load(os.path.join(model_dir, 'sparse_linear.pt'), map_location='cpu')\n"
     ]
    }
   ],
   "source": [
    "bge_m3 = BGEM3FlagModel('BAAI/bge-m3',  \n",
    "                       use_fp16=True, \n",
    "                       device='cuda')\n"
   ]
  },
  {
   "cell_type": "code",
   "execution_count": 79,
   "metadata": {},
   "outputs": [],
   "source": [
    "def generate_embedding(article):\n",
    "    embedding = bge_m3.encode([article], batch_size=12, max_length=8*1024)[\"dense_vecs\"]\n",
    "    return embedding[0]"
   ]
  },
  {
   "cell_type": "code",
   "execution_count": 111,
   "metadata": {},
   "outputs": [],
   "source": [
    "df_questions = pd.read_csv('questions_train.csv')\n",
    "\n",
    "\n",
    "df_questions['complet_question'] = df_questions.apply(lambda row: row['question'] if pd.isna(row['extra_description']) else row['question'] + \" \" + row['extra_description'], axis=1)"
   ]
  },
  {
   "cell_type": "code",
   "execution_count": 117,
   "metadata": {},
   "outputs": [],
   "source": [
    "# Define the mapping from mid-categories to big categories\n",
    "mid_to_big_category = {\n",
    "    \"Famille\": [\"Protection Sociale et Santé\", \"Éducation\"],\n",
    "    \"Logement\": [\"Logement et Développement Urbain\", \"Environnement et Infrastructures\"],\n",
    "    \"Argent\": [\"Commerce et Affaires\", \"Impôts et Finance\"],\n",
    "    \"Justice\": [\"Gouvernance et Législation\", \"Administration Locale et Démocratie\"],\n",
    "    \"Etrangers\": [\"Gouvernance et Législation\", \"Protection Sociale et Santé\"],\n",
    "    \"Protection sociale\": [\"Protection Sociale et Santé\", \"Gouvernance et Législation\"],\n",
    "    \"Travail\": [\"Protection Sociale et Santé\", \"Commerce et Affaires\"]\n",
    "}\n",
    "\n",
    "# Function to map mid-category to big categories\n",
    "def map_to_big_category(mid_cat):\n",
    "    return mid_to_big_category.get(mid_cat, [\"Unknown\"])\n",
    "\n",
    "# Apply the mapping to create a new column\n",
    "df_questions['big_category'] = df_questions['category'].apply(map_to_big_category)\n",
    "\n"
   ]
  },
  {
   "cell_type": "code",
   "execution_count": 86,
   "metadata": {},
   "outputs": [],
   "source": [
    "m = 3\n",
    "query_vectors = generate_embedding(df_questions['complet_quesiton'].iloc[m])"
   ]
  },
  {
   "cell_type": "code",
   "execution_count": 27,
   "metadata": {},
   "outputs": [
    {
     "data": {
      "text/plain": [
       "array(['Environnement_et_Infrastructures',\n",
       "       'Logement_et_Dveloppement_Urbain', 'Gouvernance_et_Lgislation',\n",
       "       'Administration_Locale_et_Dmocratie', 'Protection_Sociale_et_Sant',\n",
       "       'Agriculture_et_Affaires_Rurales', 'ducation',\n",
       "       'Administration_Publique', 'Commerce_et_Affaires',\n",
       "       'Impts_et_Finance'], dtype=object)"
      ]
     },
     "execution_count": 27,
     "metadata": {},
     "output_type": "execute_result"
    }
   ],
   "source": [
    "codes"
   ]
  },
  {
   "cell_type": "code",
   "execution_count": 88,
   "metadata": {},
   "outputs": [
    {
     "name": "stdout",
     "output_type": "stream",
     "text": [
      "['Logement et Développement Urbain', 'Environnement et Infrastructures']\n",
      "['Logement_et_Dveloppement_Urbain', 'Environnement_et_Infrastructures']\n"
     ]
    }
   ],
   "source": [
    "# selected_partitions = [\"Protection_Sociale_et_Sant\"]\n",
    "selected_partitions =  df_questions['big_category'].iloc[m]\n",
    "\n",
    "normalized_selected_partitions = [re.sub(r'\\s+|-', '_', partition) for partition in selected_partitions]\n",
    "normalized_selected_partitions = [re.sub(r'[^a-zA-Z0-9_]', '', partition) for partition in normalized_selected_partitions]\n",
    "\n",
    "\n",
    "\n",
    "print(selected_partitions)\n",
    "print(normalized_selected_partitions)"
   ]
  },
  {
   "cell_type": "code",
   "execution_count": 122,
   "metadata": {},
   "outputs": [],
   "source": [
    "client.load_partitions(collection_name = collection_name,\n",
    "                                    partition_names= normalized_selected_partitions)\n",
    "\n",
    "search_results = client.search(\n",
    "    collection_name= collection_name,\n",
    "    data = [query_vectors],  \n",
    "    partition_names= normalized_selected_partitions,\n",
    "    limit=20,  \n",
    "    search_params={\"metric_type\": \"COSINE\", \"params\":{}},\n",
    "    output_fields= ['id', 'article']\n",
    ")"
   ]
  },
  {
   "cell_type": "code",
   "execution_count": 92,
   "metadata": {},
   "outputs": [
    {
     "name": "stdout",
     "output_type": "stream",
     "text": [
      "12012,12030,12031,12032,12033,12034,12035\n",
      "[\n",
      "   {\n",
      "      \"id\": 12154,\n",
      "      \"distance\": 0.6632996797561646,\n",
      "      \"entity\": {\n",
      "         \"id\": 12154,\n",
      "         \"article\": \"La société doit procéder au recrutement d'un référent social chargé d'assurer le lien avec les acteurs sociaux locaux pour offrir un accompagnement social aux locataires de logements d'utilité publique gérés par la société, en veillant particulièrement à ce que l'accompagnement des personnes en transition entre les modes d'hébergement et le logement social accompagné soit assuré.Le Gouvernement détermine les conditions de recrutement du référent social ainsi que les modalités de mise en réseau de l'accompagnement social.Le Gouvernement subventionne la rémunération du référent social dans les conditions qu'il détermine.\"\n",
      "      }\n",
      "   },\n",
      "   {\n",
      "      \"id\": 12053,\n",
      "      \"distance\": 0.6588654518127441,\n",
      "      \"entity\": {\n",
      "         \"id\": 12053,\n",
      "         \"article\": \"Le Gouvernementpeut accorder une aide à toute société de logement de service public qui acquiert un bâtiment non améliorable en vue de le démolir et d'affecter le terrain ainsi libéré à la construction de logements, et accessoirement, dans les limites fixées par le Gouvernement, à des équipements d'intérêt collectif en ce compris les éléments constitutifs d'un réseau de chaleur faisant partie intégrante d'un ensemble de logements.Le Gouvernementintervient dans le coût d'acquisition et de démolition du bâtiment.\"\n",
      "      }\n",
      "   },\n",
      "   {\n",
      "      \"id\": 12061,\n",
      "      \"distance\": 0.6533462405204773,\n",
      "      \"entity\": {\n",
      "         \"id\": 12061,\n",
      "         \"article\": \"Le Gouvernement peut déterminer d'autres opérations pour lesquelles une aide peut être accordée par le Gouvernementaux sociétés de logement de service public, en raison d'événements exceptionnels ou en vue d'assurer la conservation ou l'amélioration des logements.\"\n",
      "      }\n",
      "   }\n",
      "]\n"
     ]
    }
   ],
   "source": [
    "print(df_questions['article_ids'].iloc[m])\n",
    "formatted_result = json.dumps(search_results[0], indent=3, ensure_ascii=False)\n",
    "print(formatted_result)"
   ]
  },
  {
   "cell_type": "markdown",
   "metadata": {},
   "source": [
    "-----------"
   ]
  },
  {
   "cell_type": "code",
   "execution_count": 124,
   "metadata": {},
   "outputs": [
    {
     "name": "stdout",
     "output_type": "stream",
     "text": [
      "[\"La société doit procéder au recrutement d'un référent social chargé d'assurer le lien avec les acteurs sociaux locaux pour offrir un accompagnement social aux locataires de logements d'utilité publique gérés par la société, en veillant particulièrement à ce que l'accompagnement des personnes en transition entre les modes d'hébergement et le logement social accompagné soit assuré.Le Gouvernement détermine les conditions de recrutement du référent social ainsi que les modalités de mise en réseau de l'accompagnement social.Le Gouvernement subventionne la rémunération du référent social dans les conditions qu'il détermine.\", \"Le Gouvernementpeut accorder une aide à toute société de logement de service public qui acquiert un bâtiment non améliorable en vue de le démolir et d'affecter le terrain ainsi libéré à la construction de logements, et accessoirement, dans les limites fixées par le Gouvernement, à des équipements d'intérêt collectif en ce compris les éléments constitutifs d'un réseau de chaleur faisant partie intégrante d'un ensemble de logements.Le Gouvernementintervient dans le coût d'acquisition et de démolition du bâtiment.\", \"Le Gouvernement peut déterminer d'autres opérations pour lesquelles une aide peut être accordée par le Gouvernementaux sociétés de logement de service public, en raison d'événements exceptionnels ou en vue d'assurer la conservation ou l'amélioration des logements.\", \"§ 1er. Le Gouvernementpeut accorder une aide à toute société de logement de service public qui crée un logement de transit.Le bâtiment créé avec l'aide du Gouvernementest affecté au logement de transit pendant une période d'au moins neuf années.§ 2. La mise à disposition d'un logement de transit est complétée par un accompagnement des occupants, visant à favoriser le transfert vers un logement stable.\", \"S'il échet, par dérogation aux dispositions du Décret relatif au bail d'habitation, le Gouvernement fixe les conditions de mise en gestion du logement.Ces conditions concernent :1° les normes auxquelles doivent répondre les logements;2° l'admission des candidats locataires;3° le mode de calcul du loyer des logements donnés en location, en tenant compte notamment des ressources et des charges de famille des locataires, ainsi que du degré de confort et de l'ancienneté de ces logements;4° les dispositions relatives au contrat de bail, notamment à la durée du bail, à la durée des congés, aux redevances et charges, à la garantie locative et aux sanctions en cas de non-respect des dispositions régissant le régime locatif;5° les dispositions relatives aux modalités de contrôle de la gestion de l'opérateur immobilier.\", \"Lorsqu'une aide est octroyée à une personne morale en exécution du programme visé à l'article 188, l'octroi de l'aide, pour les opérations visées à l'article 29, § 1er, 1°, est subordonnée au respect des conditions suivantes :1° La personne morale soumet, pour approbation, l'avant-projet urbanistique et architectural relatif à la conception des logements, bâtiments et équipements à créer, réhabiliter, restructurer, améliorer ou conserver selon les conditions et modalités arrêtées par le Gouvernement;2° Les décisions arrêtant les conditions des marchés publics de travaux, fournitures et services dont le montant est supérieur à celui fixé en application de l'article 42, § 1er, 1°, a), de la loi du 17 juin 2016 relative aux marchés publics sont soumises pour approbation selon les conditions et modalités déterminées par le Gouvernement.Toute décision portant sur l'attribution des marchés susvisés peut être suspendue ou annulée selon les conditions et modalités déterminées par le Gouvernement;3° Toute décision portant sur l'attribution des marchés publics de travaux, fournitures et services dont le montant est égal ou inférieur à celui fixé en application de l'article 42, § 1er, 1°, a), de la loi du 17 juin 2016 relative aux marchés publics peut être suspendue ou annulée selon les conditions et modalités déterminées par le Gouvernement;4° Par décision motivée, en fonction de l'ampleur de l'objet du marché et du résultat de l'audit réalisé auprès de la personne morale, les décisions portant sur le choix du mode de passation, l'arrêt des conditions et l'attribution des marchés peuvent être soumis à des avis supplémentaires selon les conditions et modalités déterminées par le Gouvernement.\", \"Tout pouvoir public relevant du champ d'activité de la société, tout centre d'insertion socioprofessionnelle agréé en vertu du décret du 10 juillet 2013 relatif aux centres d'insertion socioprofessionnelle ou tout organisme à finalité sociale, peut prendre en location un logement d'utilité publique, géré par une société de logement de service public afin de le mettre à disposition, sous sa seule responsabilité, d'un ménage de catégorie 1 et 2.Le nombre de logements pouvant être pris ainsi en location est limité à 5% du patrimoine de la société de logement de service public, parmi les logements déterminés par celle-ci, sur la base de critères objectifs dument motivés.Ce pourcentage ne tient pas compte des logements conventionnés dans le cadre d'un projet spécifique autorisés par la Société wallonne du Logement.Sur la proposition de la Société wallonne du Logement, le Gouvernement fixe les conditions de mise en location de ces logements.\", \"La présente section s'applique aux logements collectifs , aux petits logements individuels et aux habitations légèresloués ou mis en location à titre de résidence principale ou avec la vocation principale d'hébergement d'étudiants.Toutefois, les dispositions de la présente section ne s'appliquent pas :1° aux logements situés dans le bâtiment où le bailleur a établi sa résidence principale et qui sont loués ou mis en location à deux ménages au plus, pour autant que le nombre total d'occupants des biens loués ne dépasse par quatre personnes;2° aux logements de type unifamilial occupés par moins de 5 personnes majeures ne constituant pas un seul et même ménage au sens de l'article 1er, 28° du présent Code, liées par un contrat de colocation.\", \"§ 1er. La société de logement de service public, ci-après dénommée la société, est une personne morale de droit public.Pour bénéficier des dispositions du présent chapitre et du chapitre IV du titre II, la société doit être agréée par la Société wallonne du logement et être constituée sous forme de société coopérative à responsabilité limitée, soumise au Code des sociétés, à l'exception des matières réglées par le présent Code. La Région, les provinces, les intercommunales, les communes, les centres publics d'action sociale, les personnes morales de droit privé, les organisations du monde du travail et les personnes physiques sont admis à souscrire au capital d'une société. § 2. Le Gouvernement fixe les conditions d'agrément concernant :1° l'objet social;2° les statuts;3° au besoin, le plan de gestion.\", \"Avant toute mise en location d'un logement visé à la présente section, le bailleur doit être titulaire d'un permis de location.Le logement doit :1° respecter les critères de salubrité et les critères relatifs à la structure du logement et à sa dimension fixés par le Gouvernement sur la base du présent Code;1°bis respecter l'obligation d'équipement en matière de détecteurs d'incendie;2° respecter les règlements communaux en matière de salubrité ainsi que les règlements en matière de sécurité incendie; Ceux-ci peuvent être, préalablement à leur adoption, soumis pour avis à l'administration. 3° garantir l'inviolabilité du domicile et le respect de la vie privée, notamment :a) par un système de fermeture à clé des locaux à usage individuel;b) par des boîtes aux lettres fermant à clé, à l'exception des logements dont la vocation principale est l'hébergement d'étudiants.° avoir été construit, aménagé ou créé dans le respect des dispositions applicables en matière d'aménagement du territoire et d'urbanisme.5° disposer du certificat de performance énergétique du bâtiment lorsque ce certificat est exigé par la législation en la matière, ainsi que de la preuve du contrôle des installations de chauffage exigé par la législation en la matière.\", \"On entend par réalisation d'un ensemble visé à l'article 69, une ou plusieurs des opérations suivantes :1° la restructuration d'un bâtiment;2° l'adaptation ou la réhabilitation d'un logement améliorable;3° la démolition d'un logement non améliorable et la reconstruction d'un logement sur le terrain ainsi libéré;4° la construction d'un logement;5° l'acquisition d'un bâtiment destiné au logement qui n'a jamais été occupé ou dont la construction n'est pas achevée6° le lotissement de parcelles de terrain en vue de permettre à des particuliers d'acquérir un droit réel sur l'une de ces parcelles pour y construire ou faire construire pour leur compte un logement, ou pour en acquérir la propriété en vertu d'une convention conclue avec une entreprise privée, quelle que soit la nature ou la qualification de cette convention;7° la remise en état d'un terrain bâti en vue, principalement, d'y rénover ou créer des logements.\", 'Le Gouvernementpeut accorder la subvention, dans le respect de la sous-section 2 de la présente section.Le Gouvernement fixe les conditions et les modalités de mise en oeuvre de la présente sous-section.', '§ 1er. Dans le but de servir la politique foncière agricole conformément aux objectifs prévus à l\\'article D.1er, le Gouvernement peut acquérir, au moyen du fonds budgétaire institué en vertu de la section 5 du présent chapitre, des biens immobiliers agricoles dans le cadre :1° d\\'une vente de gré à gré;2° d\\'une vente publique;3° de l\\'exercice du droit de préemption dont la Région wallonne est titulaire en vertu de la section 3 du présent chapitre;4° de l\\'exercice du droit d\\'expropriation dont la Région wallonne est titulaire en vertu de la section 4 du présent chapitre.§ 2. Le prix d\\'acquisition correspond, dans le cadre :1° d\\'une vente de gré à gré : au maximum au prix estimé;2° d\\'une vente publique : au maximum au prix estimé, sauf s\\'il est nécessaire de mettre un prix supérieur pour lutter contre la spéculation;3° de l\\'exercice du droit de préemption : au prix proposé par l\\'acheteur et si nécessaire, à un prix supérieur à celui estimé.En cas d\\'exercice du droit d\\'expropriation dont la Région wallonne est titulaire en vertu de la section 4 du présent chapitre, l\\'indemnité est fixée conformément au décret du 22 novembre 2018 relatif à la procédure d\\'expropriation.§ 3. Pour l\\'application du paragraphe 2, on entend par \" prix estimé \", la valeur estimée à la demande de l\\'Administration, par le Comité d\\'acquisition, par le receveur de l\\'enregistrement, par un notaire, par un expert géomètre immobilier inscrit au tableau du conseil fédéral des géomètres-experts, ou par un architecte inscrit à l\\'Ordre des Architectes.', \"Les membres du personnel de la Société ne peuvent cumuler leurs fonctions avec celles  d'administrateur, de directeur-gérant ou de membre du personnel d'une société de logement de service public, d'administrateur de la Société, de commissaire visées à l'article 115 et de réviseur visées à l'article 116.public.\", \"Pacte de colocation§ 1er. Les colocataires établissent un pacte de colocation afin de formaliser les aspects de la vie en communauté et les modalités pratiques de ce mode d'habitat.§ 2. Le pacte peut prévoir l'obligation de procéder à un état des lieux intermédiaire lors du départ anticipé d'un colocataire afin de déterminer les responsabilités de chacun et de ventiler les frais de réparation locative.§ 3. En cas de départ anticipé d'un colocataire, une adaptation formelle du pacte est signée par les colocataires.\", \"La Société peut ester en justice à la poursuite et à la diligence de son organe d'administration statutairement désigné.\", \"§ 1er. Sur la proposition de la Société wallonne du Logement, le Gouvernement fixe les conditions d'élaboration, d'exécution et d'évaluation des contrats d'objectifs, à passer entre la Société wallonne du Logement et la société.Le contrat d'objectifs fait référence aux matières suivantes : administrative, financière, immobilière, locative, sociale, ressources humaines, gouvernance, communication et information. Le contrat d'objectifs est arrêté par le Conseil d'administration de la société, qui le soumet ensuite pour approbation à la Société wallonne du Logement.§ 2. Les contrats d'objectifs sont établis pour une période de cinq ans et sont évalués annuellement.\", 'Les opérateurs immobiliers communiquent au collège communal concerné au moins une fois par an, à la date fixée par celui-ci ou, à défaut, le 30 décembre :1° la liste des logements pour lesquels il a été fait application des dispositions des sections 1/1 et 2;2° pour chaque logement, le résultat des procédures initiées en application des dispositions des sections 1/1 et 2.', \"§ 1er. La perte de l'agrément intervient :1° soit à la demande du conseil d'administration du Guichet, moyennant un préavis de six mois notifié à la Société par pli recommandé à la poste;2° soit à son expiration;3° soit par la liquidation de la personne morale;4° soit en raison de la faillite de la personne morale;5° soit par le retrait de l'agrément visé à l'article 178.1 ou son non renouvellement.§ 2. En cas de perte de l'agrément, la personne morale est tenue de se conformer aux mesures conservatoires et aux modalités de fins d'agrément arrêtées par le Gouvernement.\", \"§ 1er. Le Gouvernementpeut accorder une aide à toute société de logement de service public qui crée un logement d'insertion.Le bâtiment créé avec l'aide du Gouvernementest affecté au logement d'insertion pendant une période d'au moins neuf années.§ 2. La mise à disposition d'un logement d'insertion est complétée par un accompagnement social des occupants.\"]\n"
     ]
    }
   ],
   "source": [
    "entity_ids = [result[\"entity\"][\"article\"] for result in search_results[0]]\n",
    "print(entity_ids)"
   ]
  },
  {
   "cell_type": "markdown",
   "metadata": {},
   "source": [
    "#### ALL Predictions"
   ]
  },
  {
   "cell_type": "code",
   "execution_count": 137,
   "metadata": {},
   "outputs": [],
   "source": [
    "def retrieve_all_predictions(df_questions, client, collection_name):\n",
    "    predictions_dict = {}\n",
    "\n",
    "    # all partitions\n",
    "    all_partitions = client.list_partitions(collection_name=collection_name)\n",
    "\n",
    "    for m in tqdm(range(len(df_questions))):\n",
    "        # Generate the query vectors\n",
    "        query_vectors = generate_embedding(df_questions['complet_question'].iloc[m])\n",
    "        \n",
    "        # # Select and normalize partitions\n",
    "        # selected_partitions = df_questions['big_category'].iloc[m]\n",
    "        # normalized_selected_partitions = [re.sub(r'\\s+|-', '_', partition) for partition in selected_partitions]\n",
    "        # normalized_selected_partitions = [re.sub(r'[^a-zA-Z0-9_]', '', partition) for partition in normalized_selected_partitions]\n",
    "\n",
    "        # Load partitions into the client\n",
    "        client.load_partitions(collection_name=collection_name, partition_names= all_partitions[1:]) # remove the default partition\n",
    "        \n",
    "        # Search for results in the collection\n",
    "        search_results = client.search(\n",
    "            collection_name=collection_name,\n",
    "            data=[query_vectors],\n",
    "            partition_names= all_partitions[1:],\n",
    "            limit=20,\n",
    "            search_params={\"metric_type\": \"COSINE\", \"params\": {}},\n",
    "            output_fields=['id', 'article']\n",
    "        )\n",
    "        \n",
    "        # Collect predicted_ids and predictions_articles\n",
    "        predicted_ids = [result[\"entity\"][\"id\"] for result in search_results[0]]\n",
    "        predictions_articles = [result[\"entity\"][\"article\"] for result in search_results[0]]\n",
    "        \n",
    "        # Populate the dictionary\n",
    "        predictions_dict[m] = {\n",
    "            'predicted_ids': predicted_ids,\n",
    "            'predictions_articles': predictions_articles\n",
    "        }\n",
    "    \n",
    "    return predictions_dict\n"
   ]
  },
  {
   "cell_type": "code",
   "execution_count": 138,
   "metadata": {},
   "outputs": [
    {
     "name": "stderr",
     "output_type": "stream",
     "text": [
      "100%|██████████| 886/886 [01:06<00:00, 13.40it/s]\n"
     ]
    }
   ],
   "source": [
    "all_predicted_dict = retrieve_all_predictions(df_questions, client, collection_name)"
   ]
  },
  {
   "cell_type": "code",
   "execution_count": 135,
   "metadata": {},
   "outputs": [
    {
     "data": {
      "text/plain": [
       "{'predicted_ids': [20121,\n",
       "  20276,\n",
       "  19877,\n",
       "  20419,\n",
       "  22257,\n",
       "  19886,\n",
       "  20748,\n",
       "  19911,\n",
       "  22355,\n",
       "  20774,\n",
       "  20664,\n",
       "  19917,\n",
       "  22239,\n",
       "  22391,\n",
       "  20427,\n",
       "  19856,\n",
       "  19858,\n",
       "  20129,\n",
       "  20119,\n",
       "  22241],\n",
       " 'predictions_articles': [\"§ 1er. Les conditions d'émission ou l'assemblée générale des obligataires peuvent désigner un ou plusieurs représentants des obligataires faisant partie de la même émission ou du même programme d'émission. Dans les limites des articles 1984 à 2010 du Code civil, ces représentants peuvent engager tous les obligataires de cette émission ou de ce programme d'émission à l'égard de tiers. Ils peuvent notamment représenter les obligataires dans les procédures d'insolvabilité, en cas de saisie ou dans tout autre cas de concours, dans lequel ils interviennent en leur nom mais pour le compte des obligataires, sans divulguer l'identité de ceux-ci.§ 2. Les conditions d'émission ou l'assemblée générale des obligataires peuvent prévoir en outre que ce représentant intervient également en son nom propre, mais pour le compte des obligataires, en tant que bénéficiaire de privilèges ou sûretés constitués en garantie de l'emprunt obligataire.Les représentants peuvent exercer tous les pouvoirs des obligataires pour le compte desquels ils agissent. La représentation et les actes accomplis par les représentants peuvent être opposés aux tiers, y compris aux créanciers des représentants. Tous les droits qui découlent de la représentation, y compris les sûretés, font partie du patrimoine des obligataires.§ 3. La désignation et les pouvoirs du représentant sont définis dans les conditions d'émission ou par l'assemblée générale des obligataires qui délibère et décide conformément à l'article 5:115. La preuve de son pouvoir peut être établie par la seule présentation d'un texte des conditions d'émission signé par un représentant de la société ou d'une copie du procès-verbal de l'assemblée générale, conformément à l'article 5:117.L'assemblée générale des obligataires peut révoquer à tout moment le représentant, à condition qu'elle désigne en même temps un ou plusieurs nouveaux représentants. L'assemblée générale délibère et décide conformément à l'article 5:115.Le représentant exerce ses pouvoirs dans l'intérêt exclusif des obligataires et doit leur rendre compte selon les règles établies dans les conditions d'émission ou dans la décision de désignation.\",\n",
       "  \"§ 1er. Les conditions d'émission ou l'assemblée générale des obligataires peuvent désigner un ou plusieurs représentants des obligataires faisant partie de la même émission ou du même programme d'émission. Dans les limites des articles 1984 à 2010 du Code civil, ces représentants peuvent engager tous les obligataires de cette émission ou de ce programme d'émission à l'égard de tiers. Ils peuvent notamment représenter les obligataires dans les procédures d'insolvabilité, en cas de saisie ou dans tout autre cas de concours, dans lequel ils interviennent au nom et pour le compte des obligataires, mais sans divulguer l'identité de ceux-ci.§ 2. Les conditions d'émission ou l'assemblée générale des obligataires peuvent prévoir en outre que ce représentant intervient également en son nom propre, mais pour le compte des obligataires, en tant que bénéficiaire de privilèges ou sûretés constitués en garantie de l'emprunt obligataire.Les représentants peuvent exercer tous les pouvoirs des obligataires pour le compte desquels ils agissent. La représentation et les actes accomplis par le représentant peuvent être opposés aux tiers, y compris aux créanciers des représentants. Tous les droits qui découlent de la représentation, y compris les sûretés, font partie du patrimoine des obligataires.§ 3. La désignation et les pouvoirs du représentant sont définis dans les conditions d'émission ou par l'assemblée générale des obligataires qui délibère et décide conformément à l'article 6:100. La preuve de son pouvoir peut être établie par la seule présentation d'un texte des conditions d'émission signé par un représentant de la société ou d'une copie du procès-verbal de l'assemblée générale, conformément à l'article 6:102.L'assemblée générale des obligataires peut révoquer à tout moment le représentant, à condition qu'elle désigne en même temps un ou plusieurs nouveaux représentants. L'assemblée générale délibère et décide conformément à l'article 6:100.Le représentant exerce ses pouvoirs dans l'intérêt exclusif des obligataires et doit leur rendre compte selon les règles établies dans les conditions d'émission ou dans la décision de désignation.\",\n",
       "  \"§ 1er. Sauf disposition contraire dans les statuts, dans la décision de nominationou dans la décision judiciaire, le liquidateur a le pouvoir d'accomplir tous les actes nécessaires ou utiles à la liquidation de la société.Les statuts, la décision de nominationou la décision judiciaire peuvent limiter les pouvoirs du liquidateur. Pareille limitation peut être opposée aux tiers, moyennant dépôt et publication conformément aux articles 2:8 et 2:14, 1°.Par dérogation à l'alinéa 2, les limitations des pouvoirs du liquidateur intégrées dans les statuts, dans la décision de nominationou dans la décision judiciaire ne sont pas opposables aux tiers, s'il s'agit d'une société à responsabilité limitée, d'une société coopérative et d'une société anonyme, même si ces limitations ont été publiées.§ 2. Le liquidateur représente la société à l'égard des tiers, y compris en justice.Les statuts, la décision de nominationou la décision judiciaire peuvent apporter des restrictions à ce pouvoir de représentation. Pareille limitation peut être opposée aux tiers, moyennant dépôt et publication conformément aux articles 2:8 et 2:14, 1°.Par dérogation à l'alinéa 2, les limitations du pouvoir de représentation du liquidateur intégrées dans les statuts, dans la décision de nominationou dans la décision judiciaire ne sont pas opposables aux tiers, s'il s'agit d'une société à responsabilité limitée, d'une société coopérative et d'une société anonyme, même si cette limitation a été déposée et publiée conformément aux articles 2:8 et 2:14, 1°.§ 3. Le liquidateur ne peut aliéner les immeubles de la société que s'il juge la vente nécessaire au paiement des dettes sociales. Sans préjudice des dispositions de l'article 2:88, § 1er, 5°, les immeubles sont toujours aliénés par adjudication publique.\",\n",
       "  \"§ 1er. Les conditions d'émission ou l'assemblée générale des obligataires peuvent désigner un ou plusieurs représentants des obligataires faisant partie de la même émission ou du même programme d'émission. Dans les limites des articles 1984 à 2010 du Code civil, ces représentants peuvent engager tous les obligataires de cette émission ou de ce programme d'émission à l'égard de tiers. Ils peuvent notamment représenter les obligataires dans les procédures d'insolvabilité, en cas de saisie ou dans tout autre cas de concours, dans lequel ils interviennent en leur nom mais pour le compte des obligataires, sans divulguer l'identité de ceux-ci.§ 2. Les conditions d'émission ou l'assemblée générale des obligataires peuvent prévoir en outre que ces représentants interviennent également en leur nom, mais pour le compte des obligataires, en tant que bénéficiaires de privilèges ou sûretés constitués en garantie de l'emprunt obligataire.Les représentants peuvent exercer tous les pouvoirs des obligataires pour le compte desquels ils agissent. La représentation et les actes accomplis par les représentants peuvent être opposés aux tiers, y compris aux créanciers du représentant. Tous les droits qui découlent de la représentation, y compris les sûretés, font partie du patrimoine des obligataires.§ 3. La désignation et les pouvoirs du représentant sont définis dans les conditions d'émission ou par l'assemblée générale des obligataires, qui délibère et décide conformément à l'article 7:170. La preuve de son pouvoir peut être établie par la seule présentation du texte des conditions d'émission signé par un représentant de la société ou d'une copie du procès-verbal de l'assemblée générale, conformément à l'article 7:172.L'assemblée générale des obligataires peut révoquer à tout moment le représentant, à condition qu'elle désigne en même temps un ou plusieurs nouveaux représentants. L'assemblée générale délibère et décide conformément à l'article 7:170.Le représentant exerce ses pouvoirs dans l'intérêt exclusif des obligataires et doit leur rendre compte selon les règles établies dans les conditions d'émission ou dans la décision de désignation.\",\n",
       "  \"L'exécution de la contrainte ne peut être interrompue que par une action en justice.\",\n",
       "  \"Au cours des septième et treizième mois de la mise en liquidation, le liquidateur transmet au greffe du tribunal de l'entreprise où le siège de la société est établi un état détaillé de la situation de la liquidation, établi à la fin des sixième et douzième mois de la première année de la liquidation.Cet état détaillé, qui comporte notamment l'indication des recettes, des dépenses, des répartitions, ainsi que de ce qu'il reste à liquider, est versé au dossier de la société visé à l'article 2:7.A partir de la deuxième année de la liquidation, cet état détaillé n'est transmis au greffe et versé au dossier de société que tous les ans.\",\n",
       "  \"Lorsqu'un élément du patrimoine actif n'est pas attribué dans le projet d'apport et que l'interprétation du projet ne permet pas de décider de la répartition de cet élément, celui-ci ou sa contre-valeur est réparti entre toutes les sociétés concernées de manière proportionnelle à l'actif net attribué à chacune de celles-ci dans le projet d'apport.Lorsqu'un élément du patrimoine passif n'est pas attribué dans le projet d'apport et que l'interprétation du projet ne permet pas de décider de la répartition de cet élément, chacune des sociétés dans le cas de l'apport de branche d'activité ou, dans le cas de l'apport d'universalité, chacune des sociétés bénéficiaires, en est solidairement responsable.\",\n",
       "  \"§ 1er. Sauf disposition contraire dans les statuts ou dans la décision de nomination, les liquidateurs ont le pouvoir d'accomplir tous les actes nécessaires ou utiles à la liquidation de l'ASBL ou de l'AISBL.Les statuts ou la décision de nomination peuvent limiter les pouvoirs des liquidateurs. Pareille limitation ne peut être opposée aux tiers, même si elle est publiée.§ 2. Les liquidateurs représentent l'ASBL ou l'AISBL à l'égard des tiers, y compris en justice.Les statuts ou la décision de nomination peuvent apporter des restrictions à ce pouvoir de représentation. Pareilles restrictions ne sont pas opposables aux tiers, même si ces restrictions ont été déposées et publiées respectivement conformément aux articles 2:9 et 2:15 ou 2:10 et 2:16.§ 3. Les liquidateurs ne peuvent aliéner les immeubles de l'ASBL ou de l'AISBL que s'ils jugent la vente nécessaire au paiement des dettes de l'association. Sans préjudice des dispositions de l'article 2:122, § 1er, 5°, les immeubles sont toujours aliénés par adjudication publique.\",\n",
       "  \"Sont assujettis à une taxe annuelle, les établissements de crédit suivants :a) les établissements de crédit de droit belge inscrits sur la liste visée à l'article 14 de la loi du 25 avril 2014relative au statut et au contrôle des établissements de crédit;b) les établissements de crédit ressortissant d'un autre Etat de l'Espace économique européen et qui, exerçant en Belgique des activités conformément à l'article 312de la même loi, y ont établi une succursale;c) les établissements de crédit ressortissant d'un Etat qui n'est pas membre de l'Espace économique européen et qui, exerçant en Belgique des activités conformément à l'article 333de la même loi, y ont établi une succursale.\",\n",
       "  \"§ 1er. Les décisions des organes visés à l'article 13:2, §§ 1er et 2, ne produisent leurs effets que si la ou les personne(s) morale(s) bénéficiaire(s) de l'apport accepte(nt) l'apport.S'il s'agit d'une ASBL ou d'une AISBL, la décision doit être prise aux conditions requises à l'article 13:2, § 1er, s'il s'agit d'une fondation aux conditions requises au paragraphe 2 du même article et, s'il s'agit d'une autre personne morale, par l'organe compétent aux conditions requises par les dispositions légales, réglementaires ou statutaires qui lui sont applicables.§ 2. Les procès-verbaux des organes des parties à l'opération sont établis en la forme authentique à moins qu'il ne s'agisse d'une université ou d'une personne morale de droit public.§ 3. Ces proces-verbaux sont déposés et publiés par extraits conformément aux articles 2:9, 2:10, 2:11, 2:15, 2:16 ou 2:17 selon qu'il s'agit d'une ASBL, d'une AISBL ou d'une fondation et, le cas échéant, conformément aux règles applicables à la personne morale bénéficiaire de l'apport si elle a une autre forme légale.\",\n",
       "  \"La fusion ou la scission entraîne de plein droit et simultanément les effets juridiques suivants:1° par dérogation à l'article 2:76, alinéa 1er, les sociétés dissoutes cessent d'exister; toutefois, pour l'application des articles 2:44, 12:19 et 12:20, les sociétés dissoutes sont réputées exister durant le délai de six mois prévu par l'article 2:143, § 4, et, si une action en nullité est intentée, pendant la durée de l'instance jusqu'au moment où il sera statué sur cette action en nullité par une décision coulée en force de chose jugée;2° les associés ou les actionnaires des sociétés dissoutes deviennent associés ou actionnaires des sociétés bénéficiaires, le cas échéant, conformément à la répartition prévue au projet de scission;3° l'ensemble du patrimoine, activement et passivement, de chaque société dissoute est transféré aux sociétés bénéficiaires, le cas échéant, conformément à la répartition prévue au projet de scission ou conformément aux articles 12:60 et 12:76.L'alinéa 1er, 2°, n'est toutefois pas applicable aux opérations assimilées à la fusion par absorption ni aux opérations assimilées à la scission en vertu de l'article 12:8, 2°.Par dérogation à l'alinéa 1er, 3°, en cas d'opération assimilée à la scission, seule une partie du patrimoine, activement et passivement, de la société scindée est transférée aux sociétés bénéficiaires, conformément à la répartition prévue au projet de scission et dans le respect des articles 12:60 et 12:76.\",\n",
       "  \"Les liquidateurs de l'ASBL ou de l'AISBL doivent convoquer dans les trois semaines l'assemblée générale ou l'organe désigné par les statuts si un cinquième des membres en fait la demande. L'assemblée se tient au plus tard le quarantième jour suivant cette demande.\",\n",
       "  \"A l'exception du cas prévu à l'article 7, les procès-verbaux de vente publique d'objets mobiliers corporels dressés par les huissiers de justice, sont assujettis à un droit de 50 euros.\",\n",
       "  \"L 1951-06-13/02, art. 10> Lorsque le montant des droits ou taxescomprend une fraction d'un cent, cette fraction doit, pour chaque perception, être arrondie au cent supérieur ou inférieur, selon qu'elle atteint ou non 0,5 cent. alinéa 2 abrogé\",\n",
       "  \"A partir de l'émission des droits de souscription et jusqu'à la fin de la période d'exercice de ceux-ci, la société ne peut effectuer aucune opération dont l'effet serait de réduire les avantages attribués aux titulaires de droits de souscription par les conditions d'émission ou par la loi, sauf dans les cas spécialement prévus dans les conditions d'émission.En cas d'augmentation du capital par apports en numéraire, les titulaires de droits de souscription peuvent toutefois exercer leur droit de souscription et éventuellement participer éventuellement à la nouvelle émission en qualité d'actionnaires dans la mesure où ce droit appartient aux actionnaires existants, sauf disposition contraire expressément prévue dans les conditions d'émission.\",\n",
       "  \"Lors du dépôt de ses premières conclusions, le défendeur joint à celles-ci une copie des statuts coordonnés et une copie ou un extrait de toutes les conventions restreignant la cessibilité de ses titres.Le juge veille à respecter les restrictions qui résultent de ces dispositions statutaires et contractuelles lorsqu'il ordonne l'exclusion. Pour autant que les bénéficiaires aient été appelés à la cause, le juge peut:1° se substituer à toute partie ou à tout tiers désigné par les statuts ou les conventions pour fixer le prix d'exercice d'un droit de préemption;2° fixer le prix d'exercice du droit de préemption conformément à l'article 2:65, si les dispositions relatives au droit de préemption devaient donner lieu à un prix manifestement déraisonnable;3° moyennant l'octroi d'un escompte, réduire les délais d'exercice du droit de préemption;4° écarter l'application des clauses d'agrément applicables aux actionnaires.Pour autant que les bénéficiaires aient été appelés à la cause, le juge peut se prononcer sur la validité de toute convention ou disposition statutaire restreignant la cessibilité des titres dans le chef du défendeur ou, le cas échéant, ordonner le transfert de ces conventions aux acquéreurs des titres.\",\n",
       "  \"Tout actionnaire peut, pour de justes motifs, demander en justice que les actionnaires à l'origine de ces justes motifs reprennent tous ses titres.Si l'action est intentée par ou contre un titulaire d'une partie du droit de propriété sur les titres à reprendre, les autres titulaires du droit de propriété sur ces titres doivent être appelés à la cause.La circonstance que le défendeur cesse d'être actionnaire durant la procédure n'a pas d'incidence sur la poursuite de la procédure ni sur l'exercice des recours.L'article 2:66, alinéas 2 et 3, est d'application. L'article 2:66, alinéa 1er, est d'application par analogie au demandeur.\",\n",
       "  \"A partir de l'émission des droits de souscription et jusqu'à la fin de la période d'exercice, la société ne peut effectuer aucune opération dont l'effet serait de réduire les avantages attribués aux titulaires de droits de souscription par les conditions d'émission ou par la loi, sauf dans les cas spécialement prévus dans les conditions d'émission.En cas d'émission de nouvelles actions en rémunération d'apports en numéraire, les titulaires de droits de souscription peuvent toutefois exercer leur droit de souscription et éventuellement participer à la nouvelle émission en qualité d'actionnaires dans la mesure où ce droit appartient aux actionnaires existants, sauf disposition contraire expressément prévue dans les conditions d'émission.\",\n",
       "  \"§ 1er. Des certificats se rapportant à des actions , obligations convertibles ou droits de souscriptionpeuvent être émis, en collaboration ou non avec la société, par une personne morale qui conserve ou acquiert la propriété des titres auxquelsse rapportent les certificats et s'engage à réserver tout produit ou revenu de ces titresau titulaire des certificats. Ces certificats doivent être nominatifs.L'émetteur des certificats exerce tous les droits attachés aux titres auxquelsils se rapportent, en ce compris le droit de vote.L'émetteur des certificats se rapportant à des titres nominatifsest tenu de se faire connaître en cette qualité à la société qui a émis les titres certifiés.Celle-ci portera cette mention au registre concerné.L'émetteur de certificats se rapportant à des actionsmet en paiement immédiatement, sauf disposition contraire dans les conditions d'émission, sous déduction de ses frais éventuels, au titulaire de certificats les dividendes , l'éventuel produit du droit de souscriptionet le produit de liquidation éventuellement distribués par la société ainsi que toute somme provenant d'un remboursement de l'apport.Sauf disposition contraire dans les conditions d'émission, l'émetteur de certificats ne peut céder les titres auxquelsse rapportent les certificats.Les certificats sont échangeables en actions , obligations ou droits de souscription auxquelsils se rapportent. L'échangeabilité peut être exclue pour une durée déterminée ou indéterminée dans les conditions d'émission.Nonobstant toute disposition contraire, l'échange peut être obtenu à tout moment par chaque titulaire de certificats en cas d'inexécution des obligations de l'émetteur à son égard ou lorsque ses intérêts sont gravement méconnus.§ 2. En cas de faillite de l'émetteur de certificats ou de toute autre situation de concours, les certificats sont échangés de plein droit nonobstant toute disposition contraire des conditions d'émission et les titulaires de certificats exercent collectivement leur revendication sur l'universalité des titres certifiés de la même catégorie et classe émispar la même société, appartenant à l'émetteur de certificats.Si, dans le cas visé à l'alinéa précédent, cette universalité est insuffisante pour assurer la restitution intégrale des titres, elle sera répartie entre les titulaires de certificats en proportion de leurs droits.\",\n",
       "  \"Sont assujettis à un droit de 0,15 euro:1° les actes de prêt ou d'ouverture de crédit consentis par des banquiers et ceux contenant obligation ou reconnaissance de somme ou nantissement au profit de banquiers, lorsqu'ils ne sont pas autrement tarifés;2° les récépissés ou autres écrits, signés ou non signés, que délivrent à des particuliers les banquiers, les agents de change et les agents de change correspondants, pour constater une remise ou un dépôt de titres ou pièces; les récépissés de titres ou pièces qui leur sont délivrés par les particuliers;3° les arrêtés et extraits de compte, signés ou non signés, dressés par les banquiers à destination des particuliers, non compris les états de situation qui sont délivrés au titulaire d'un compte à titre de simple renseignement et sans mention d'intérêts, entre les dates fixées pour l'envoi périodique des extraits de compte;4° les récépissés ou certificats, signés ou non signés, constatant le dépôt de titres en vue d'assister à une assemblée d'actionnaires ou d'obligataires et les décharges données lors du retrait de ces titres;Sont assimilées aux banquiers, toutes personnes physiques ou morales qui reçoivent habituellement des dépôts de sommes.\"]}"
      ]
     },
     "execution_count": 135,
     "metadata": {},
     "output_type": "execute_result"
    }
   ],
   "source": [
    "all_predicted_dict[885]"
   ]
  },
  {
   "cell_type": "code",
   "execution_count": 139,
   "metadata": {},
   "outputs": [
    {
     "name": "stdout",
     "output_type": "stream",
     "text": [
      "Predictions saved in compressed format!\n"
     ]
    }
   ],
   "source": [
    "import gzip\n",
    "\n",
    "# Store the result in a compressed JSON file\n",
    "with gzip.open('all_predictions_collectionALL.json.gz', 'wt', encoding='utf-8') as f:\n",
    "    json.dump(all_predicted_dict, f)\n",
    "\n",
    "print('Predictions saved in compressed format!')\n"
   ]
  }
 ],
 "metadata": {
  "kernelspec": {
   "display_name": "AI_App",
   "language": "python",
   "name": "python3"
  },
  "language_info": {
   "codemirror_mode": {
    "name": "ipython",
    "version": 3
   },
   "file_extension": ".py",
   "mimetype": "text/x-python",
   "name": "python",
   "nbconvert_exporter": "python",
   "pygments_lexer": "ipython3",
   "version": "3.12.7"
  }
 },
 "nbformat": 4,
 "nbformat_minor": 2
}
