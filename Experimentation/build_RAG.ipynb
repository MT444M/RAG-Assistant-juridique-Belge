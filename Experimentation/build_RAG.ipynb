{
 "cells": [
  {
   "cell_type": "markdown",
   "metadata": {},
   "source": [
    "# Build Judical RAG system "
   ]
  },
  {
   "cell_type": "markdown",
   "metadata": {},
   "source": [
    "### Load the VectorDB"
   ]
  },
  {
   "cell_type": "code",
   "execution_count": 23,
   "metadata": {},
   "outputs": [],
   "source": [
    "from pymilvus import MilvusClient, Collection, connections\n",
    "\n",
    "import pandas as pd\n",
    "import tqdm.autonotebook as tqdm\n",
    "import numpy as np\n",
    "import json\n",
    "import re\n",
    "from typing import List, Optional\n",
    "\n",
    "\n",
    "\n",
    "\n",
    "from FlagEmbedding import BGEM3FlagModel\n"
   ]
  },
  {
   "cell_type": "code",
   "execution_count": 3,
   "metadata": {},
   "outputs": [],
   "source": [
    "# declare client\n",
    "client = MilvusClient(uri=\"http://localhost:19530\")\n",
    "\n",
    "# Step 1: Connect to Milvus\n",
    "connections.connect(\"default\", host=\"localhost\", port=\"19530\")\n",
    "\n",
    "# load the collection of law articles\n",
    "collection_name = \"RSchunk_articles_collection\"\n",
    "collection = Collection(collection_name)\n",
    "\n",
    "# activate the collection\n",
    "collection = collection.load()\n"
   ]
  },
  {
   "cell_type": "markdown",
   "metadata": {},
   "source": [
    "### Load the Embeddings model"
   ]
  },
  {
   "cell_type": "code",
   "execution_count": 4,
   "metadata": {},
   "outputs": [
    {
     "data": {
      "application/vnd.jupyter.widget-view+json": {
       "model_id": "5a9a4e34495a4d3a8f36c5e33e57416d",
       "version_major": 2,
       "version_minor": 0
      },
      "text/plain": [
       "Fetching 30 files:   0%|          | 0/30 [00:00<?, ?it/s]"
      ]
     },
     "metadata": {},
     "output_type": "display_data"
    },
    {
     "name": "stderr",
     "output_type": "stream",
     "text": [
      "c:\\Users\\mthia\\anaconda3\\envs\\AI_App\\Lib\\site-packages\\FlagEmbedding\\BGE_M3\\modeling.py:335: FutureWarning: You are using `torch.load` with `weights_only=False` (the current default value), which uses the default pickle module implicitly. It is possible to construct malicious pickle data which will execute arbitrary code during unpickling (See https://github.com/pytorch/pytorch/blob/main/SECURITY.md#untrusted-models for more details). In a future release, the default value for `weights_only` will be flipped to `True`. This limits the functions that could be executed during unpickling. Arbitrary objects will no longer be allowed to be loaded via this mode unless they are explicitly allowlisted by the user via `torch.serialization.add_safe_globals`. We recommend you start setting `weights_only=True` for any use case where you don't have full control of the loaded file. Please open an issue on GitHub for any issues related to this experimental feature.\n",
      "  colbert_state_dict = torch.load(os.path.join(model_dir, 'colbert_linear.pt'), map_location='cpu')\n",
      "c:\\Users\\mthia\\anaconda3\\envs\\AI_App\\Lib\\site-packages\\FlagEmbedding\\BGE_M3\\modeling.py:336: FutureWarning: You are using `torch.load` with `weights_only=False` (the current default value), which uses the default pickle module implicitly. It is possible to construct malicious pickle data which will execute arbitrary code during unpickling (See https://github.com/pytorch/pytorch/blob/main/SECURITY.md#untrusted-models for more details). In a future release, the default value for `weights_only` will be flipped to `True`. This limits the functions that could be executed during unpickling. Arbitrary objects will no longer be allowed to be loaded via this mode unless they are explicitly allowlisted by the user via `torch.serialization.add_safe_globals`. We recommend you start setting `weights_only=True` for any use case where you don't have full control of the loaded file. Please open an issue on GitHub for any issues related to this experimental feature.\n",
      "  sparse_state_dict = torch.load(os.path.join(model_dir, 'sparse_linear.pt'), map_location='cpu')\n"
     ]
    }
   ],
   "source": [
    "bge_m3 = BGEM3FlagModel('BAAI/bge-m3',  \n",
    "                       use_fp16=True, \n",
    "                       device='cuda')"
   ]
  },
  {
   "cell_type": "code",
   "execution_count": 18,
   "metadata": {},
   "outputs": [],
   "source": [
    "def generate_embedding(query):\n",
    "    embedding = bge_m3.encode([query], batch_size=12, max_length=1024)[\"dense_vecs\"]\n",
    "    return embedding[0]"
   ]
  },
  {
   "cell_type": "markdown",
   "metadata": {},
   "source": [
    "### Load the LLM model"
   ]
  },
  {
   "cell_type": "code",
   "execution_count": 5,
   "metadata": {},
   "outputs": [],
   "source": [
    "import torch\n",
    "from my_token import token_key\n",
    "from transformers import AutoModelForCausalLM, BitsAndBytesConfig, AutoTokenizer"
   ]
  },
  {
   "cell_type": "code",
   "execution_count": 6,
   "metadata": {},
   "outputs": [],
   "source": [
    "quantization_config = BitsAndBytesConfig(\n",
    "    load_in_4bit=True,\n",
    "    bnb_4bit_use_double_quant=True,\n",
    "    bnb_4bit_quant_type=\"nf4\",\n",
    "    bnb_4bit_compute_dtype=torch.bfloat16\n",
    ")"
   ]
  },
  {
   "cell_type": "code",
   "execution_count": 7,
   "metadata": {},
   "outputs": [
    {
     "data": {
      "application/vnd.jupyter.widget-view+json": {
       "model_id": "62f3a843eb60494684b941845b34efca",
       "version_major": 2,
       "version_minor": 0
      },
      "text/plain": [
       "Loading checkpoint shards:   0%|          | 0/2 [00:00<?, ?it/s]"
      ]
     },
     "metadata": {},
     "output_type": "display_data"
    }
   ],
   "source": [
    "model_id = \"meta-llama/Llama-3.2-3B-Instruct\"\n",
    "\n",
    "model = AutoModelForCausalLM.from_pretrained(\n",
    "    model_id, \n",
    "    quantization_config=quantization_config,\n",
    "    device_map=\"cuda\",\n",
    ")\n",
    "\n",
    "tokenizer = AutoTokenizer.from_pretrained(model_id)"
   ]
  },
  {
   "cell_type": "markdown",
   "metadata": {},
   "source": [
    "##### Generation: Multi Queries"
   ]
  },
  {
   "cell_type": "code",
   "execution_count": 8,
   "metadata": {},
   "outputs": [],
   "source": [
    "question = \"comment payer mes impots en belgique ?\"\n"
   ]
  },
  {
   "cell_type": "code",
   "execution_count": 9,
   "metadata": {},
   "outputs": [],
   "source": [
    "prompt_multiQuery = f\"\"\"À partir de la question de base '{question}', \n",
    "génère 3 nouvelles questions connexes qui explorent différents aspects ou angles du sujet.\n",
    "Assure-toi que chaque nouvelle question apporte une perspective unique ou approfondit un élément spécifique de la question initiale.\n",
    "Donne uniquement les questions, sans explications ni commentaires supplémentaires.\n",
    "Format de réponse attendu :\n",
    "1. [Question 1]\n",
    "2. [Question 2]\n",
    "3. [Question 3]\n",
    "\n",
    "\"\"\""
   ]
  },
  {
   "cell_type": "code",
   "execution_count": 135,
   "metadata": {},
   "outputs": [],
   "source": [
    "prompt_hyde = f\"\"\"Génère une réponse hypothétique concise mais informative à la question suivante :\n",
    "\n",
    "Question : {question}\n",
    "\n",
    "Fournissez seulement une réponse qui pourrait plausiblement apparaître dans un document pertinent. La réponse doit être factuelle, directe et informative.\n",
    "\n",
    "Réponse hypothétique :\n",
    "\"\"\""
   ]
  },
  {
   "cell_type": "code",
   "execution_count": 66,
   "metadata": {},
   "outputs": [
    {
     "data": {
      "text/plain": [
       "\"À partir de la question de base 'Peut-on saisir tous mes revenus si je n'arrive plus à payer mes dettes?', \\ngénère 3 nouvelles questions connexes qui explorent différents aspects ou angles du sujet.\\nAssure-toi que chaque nouvelle question apporte une perspective unique ou approfondit un élément spécifique de la question initiale.\\nDonne uniquement les questions, sans explications ni commentaires supplémentaires.\\nFormat de réponse attendu :\\n1. [Question 1]\\n2. [Question 2]\\n3. [Question 3]\\n\\n\""
      ]
     },
     "execution_count": 66,
     "metadata": {},
     "output_type": "execute_result"
    }
   ],
   "source": [
    "prompt_multiQuery"
   ]
  },
  {
   "cell_type": "code",
   "execution_count": 10,
   "metadata": {},
   "outputs": [
    {
     "name": "stderr",
     "output_type": "stream",
     "text": [
      "Starting from v4.46, the `logits` model output will have the same type as the model (except at train time, where it will always be FP32)\n"
     ]
    },
    {
     "name": "stdout",
     "output_type": "stream",
     "text": [
      "1. Quelle est la durée d'attente pour les impôts en Belgique?\n",
      "2. Quels sont les documents nécessaires pour payer les impôts en Belgique?\n",
      "3. Quels sont les avantages fiscaux pour les étudiants en Belgique?\n",
      "34\n"
     ]
    }
   ],
   "source": [
    "# Tokenisation du prompt, envoi sur GPU\n",
    "input_ids = tokenizer(prompt_multiQuery, return_tensors=\"pt\").to(0)\n",
    "\n",
    "# Génération de nouvelles questions\n",
    "out = model.generate(\n",
    "    **input_ids,\n",
    "    max_new_tokens=250,  # Ajuste selon tes besoins\n",
    "    pad_token_id=tokenizer.eos_token_id,\n",
    "    do_sample=True  # Active le sampling pour plus de diversité\n",
    ")\n",
    "\n",
    "# Décodage uniquement de la partie générée (ignore le prompt d'entrée)\n",
    "generated_tokens = out[0][input_ids['input_ids'].shape[-1]:]  # On découpe pour ignorer le prompt\n",
    "generated_text = tokenizer.decode(generated_tokens, skip_special_tokens=True)\n",
    "\n",
    "# Affichage des questions générées\n",
    "print(generated_text)\n",
    "print(len(generated_text.split()))"
   ]
  },
  {
   "cell_type": "code",
   "execution_count": 146,
   "metadata": {},
   "outputs": [
    {
     "data": {
      "text/plain": [
       "\"Si vous ne payez pas vos impots en Belgique, vous risquez de faire l'objet d'une procédure de recouvrement et de sanctions. Vous serez tenu de payer des pénalités et des intérêts, ainsi que des frais de recouvrement. En cas de défaut de paiement répété, vous pourriez être soumis à des mesures de confiscation de biens ou de rétention de vos revenus. Il est recommandé de s'assurer de vos obligations fiscales et de les honorer régulièrement pour éviter ces conséquences. Il est également possible de contacter l'administration fiscale belge ou d'obtenir de l'aide auprès d'un professionnel pour vous aider à gérer vos impôts.\""
      ]
     },
     "execution_count": 146,
     "metadata": {},
     "output_type": "execute_result"
    }
   ],
   "source": [
    "hyde_response = generated_text.split(\"Réponse hypothétique :\")[-1].strip()\n",
    "# Ajouter une condition pour s'arrêter après \"\\n\\n\" \n",
    "hyde_response = hyde_response.split(\"\\n\\n\")[0].strip()\n",
    "hyde_response"
   ]
  },
  {
   "cell_type": "code",
   "execution_count": null,
   "metadata": {},
   "outputs": [],
   "source": [
    "def process_questions_and_get_embeddings(base_question, generated_text, bge_m3, method='standard'):\n",
    "    if method == 'hyde':\n",
    "        # Extraire la réponse hypothétique\n",
    "        hyde_response = generated_text.split(\"Réponse hypothétique :\")[-1].strip()\n",
    "        # Ajouter une condition pour s'arrêter après \"\\n\\n\" \n",
    "        hyde_response = hyde_response.split(\"\\n\\n\")[0].strip()\n",
    "        \n",
    "        # Combiner la question de base avec la réponse hypothétique\n",
    "        combined_text = f\"Question : {base_question}\\nRéponse : {hyde_response}\"\n",
    "        \n",
    "        # Créer l'embedding pour la combinaison question-réponse\n",
    "        embedding = bge_m3.encode([combined_text], batch_size=12, max_length=1024)[\"dense_vecs\"][0]\n",
    "        \n",
    "        return [embedding], combined_text  # Retourner une liste avec un seul embedding\n",
    "    \n",
    "    else:  # méthode standard (multi-query)\n",
    "        # Extraire les nouvelles questions\n",
    "        new_questions = re.findall(r'\\d+\\.\\s*(.*)', generated_text)\n",
    "        # print(new_questions)\n",
    "        \n",
    "        # Combiner la question de base avec les nouvelles questions\n",
    "        all_questions = [base_question] + new_questions\n",
    "        \n",
    "        # Créer les embeddings pour chaque question\n",
    "        embeddings = []\n",
    "        for question in all_questions:\n",
    "            embedding = bge_m3.encode([question], batch_size=12, max_length=1024)[\"dense_vecs\"][0]\n",
    "            embeddings.append(embedding)\n",
    "        \n",
    "        return embeddings\n",
    "\n"
   ]
  },
  {
   "cell_type": "code",
   "execution_count": 12,
   "metadata": {},
   "outputs": [],
   "source": [
    "# Obtenir les embeddings pour la méthode standard\n",
    "embeddings_standard = process_questions_and_get_embeddings(question, generated_text, bge_m3, method='standard')\n",
    "\n",
    "# Obtenir les embeddings pour la méthode HyDE\n",
    "# embeddings_hyde, combined_text = process_questions_and_get_embeddings(question, generated_text, bge_m3, method='hyde')"
   ]
  },
  {
   "cell_type": "markdown",
   "metadata": {},
   "source": [
    "### Search"
   ]
  },
  {
   "cell_type": "code",
   "execution_count": 13,
   "metadata": {},
   "outputs": [
    {
     "name": "stdout",
     "output_type": "stream",
     "text": [
      "['_default', 'Code_Judiciaire', 'Code_de_la_Dmocratie_Locale_et_de_la_Dcentralisation', 'Code_de_Droit_Economique', 'La_Constitution', 'Code_Civil', 'Code_de_la_Navigation', 'Code_Pnal_Militaire', 'Code_dInstruction_Criminelle', 'Code_Wallon_de_lAgriculture', 'Code_du_Bien_tre_au_Travail', 'Code_Rglementaire_Wallon_de_lAction_sociale_et_de_la_Sant', 'Code_Bruxellois_de_lAmnagement_du_Territoire', 'Code_Wallon_de_lAction_sociale_et_de_la_Sant', 'Code_de_la_Fonction_Publique_Wallonne', 'Code_Wallon_de_lEnseignement_Fondamental_et_de_lEnseignement_Secondaire', 'Code_des_Socits_et_des_Associations', 'Code_Wallon_du_Dveloppement_Territorial', 'Code_Pnal', 'Code_de_lEau_intgr_au_Code_Wallon_de_lEnvironnement', 'Code_Wallon_de_lEnvironnement', 'Code_Wallon_de_lHabitation_Durable', 'Code_Electoral', 'Code_Electoral_Communal_Bruxellois', 'Code_Consulaire', 'Code_Forestier', 'Code_Bruxellois_du_Logement', 'Code_Rural', 'Code_Ferroviaire', 'Codes_des_Droits_et_Taxes_Divers', 'Code_de_Droit_International_Priv', 'Code_Bruxellois_de_lAir_du_Climat_et_de_la_Matrise_de_lEnergie', 'Code_Wallon_du_Bien_tre_des_animaux', 'Code_Pnal_Social', 'Code_de_la_Nationalit_Belge']\n"
     ]
    }
   ],
   "source": [
    "res = client.list_partitions(collection_name=collection_name)\n",
    "print(res)\n",
    "selected_partitions = res[1:]"
   ]
  },
  {
   "cell_type": "code",
   "execution_count": 28,
   "metadata": {},
   "outputs": [],
   "source": [
    "client.load_partitions(collection_name = collection_name,\n",
    "                                    partition_names= selected_partitions)\n",
    "\n",
    "search_results = client.search(\n",
    "    collection_name= collection_name,\n",
    "    data = embeddings_standard,  \n",
    "    partition_names= selected_partitions,\n",
    "    limit=20,  \n",
    "    search_params={\"metric_type\": \"COSINE\", \"params\":{}},\n",
    "    output_fields= ['reference', 'article_id', 'chunk_article']\n",
    ")"
   ]
  },
  {
   "cell_type": "code",
   "execution_count": 29,
   "metadata": {},
   "outputs": [
    {
     "name": "stdout",
     "output_type": "stream",
     "text": [
      "[\n",
      "   {\n",
      "      \"id\": 21444,\n",
      "      \"distance\": 0.6560348272323608,\n",
      "      \"entity\": {\n",
      "         \"reference\": \"Art. 201/9/2, Codes des Droits et Taxes Divers (Livre II, Titre X)\",\n",
      "         \"article_id\": 22351,\n",
      "         \"chunk_article\": \"§ 1er Les intermédiaires belges déposent une déclaration au bureau compétent, au plus tard le vingtième jour du troisième mois qui suit la fin de la période de référence.La taxe est payée le jour visé à l'alinéa 1er.Le Roi détermine les modalités de la déclaration 2 L'absence de déclaration, la déclaration tardive, inexacte ou incomplète ainsi que l'absence de paiement ou le paiement tardif sont punis d'une amende qui est établie en fonction de la nature et de la gravité de l'infraction, selon une échelle déterminée par le Roi et allant de 10 p.c à 200 p.c de la taxe due.En l'absence de mauvaise foi, il n'est pas dû d'amende\"\n",
      "      }\n",
      "   },\n",
      "   {\n",
      "      \"id\": 1692,\n",
      "      \"distance\": 0.6369006037712097,\n",
      "      \"entity\": {\n",
      "         \"reference\": \"Art. 201/9, Codes des Droits et Taxes Divers (Livre II, Titre X)\",\n",
      "         \"article_id\": 22349,\n",
      "         \"chunk_article\": \"§ 1er L'intermédiaire belge effectue la retenue, la déclaration et le paiement de la taxe\"\n",
      "      }\n",
      "   },\n",
      "   {\n",
      "      \"id\": 21119,\n",
      "      \"distance\": 0.6276707649230957,\n",
      "      \"entity\": {\n",
      "         \"reference\": \"Art. 158/2, Codes des Droits et Taxes Divers (Livre II, Titre II)\",\n",
      "         \"article_id\": 22289,\n",
      "         \"chunk_article\": \"Les intermédiaires non constitués ou non établis en Belgique peuvent, lorsqu'ils gèrent pour une personne physique un compte soumis à la présente taxe, faire agréer par le ministre des Finances ou son délégué un représentant responsable établi en Belgique Ce représentant s'engage solidairement, envers l'Etat belge, au paiement de la taxe par l'intermédiaire pour le compte du titulaire et à l'exécution de toutes les obligations dont l'intermédiaire est tenu conformément au présent titre.En cas de décès du représentant responsable, de retrait de son agrément ou d'un évènement entraînant son incapacité, il est pourvu immédiatement à son remplacement.Le Roi fixe les conditions et modalités d'agrément du représentant responsable.\"\n",
      "      }\n",
      "   },\n",
      "   {\n",
      "      \"id\": 23072,\n",
      "      \"distance\": 0.6241180896759033,\n",
      "      \"entity\": {\n",
      "         \"reference\": \"Art. 158/1, Codes des Droits et Taxes Divers (Livre II, Titre II)\",\n",
      "         \"article_id\": 22288,\n",
      "         \"chunk_article\": \"Dans tous les cas autres que ceux visés à l'article 157, le titulaire effectue lui-même la déclaration et le paiement de la taxe à moins qu'il puisse prouver que la taxe a déjà été retenue, déclarée et payée par un intermédiaire qui n'a pas été constitué ou n'est pas établi en Belgique.Par dérogation à l'article 152, 7°, le titulaire qui détient un ou plusieurs comptes-titres en indivision ou soit totalement, soit partiellement en usufruit ou en nue-propriété, peut reprendre dans sa déclaration la part dans l'indivision, dans l'usufruit ou dans la nue-propriété qui lui revient de manière légale ou contractuelle Il joint, à cette fin, les pièces justificatives qui déterminent la part légale ou contractuelle du titulaire, ainsi que celle des autres co-bénéficiaires dans l'indivision, l'usufruit ou la nue-propriété\"\n",
      "      }\n",
      "   },\n",
      "   {\n",
      "      \"id\": 16493,\n",
      "      \"distance\": 0.6192198395729065,\n",
      "      \"entity\": {\n",
      "         \"reference\": \"Art. 201/9, Codes des Droits et Taxes Divers (Livre II, Titre X)\",\n",
      "         \"article_id\": 22349,\n",
      "         \"chunk_article\": \"2 Dans tous les autres cas, le titulaire effectue lui-même la déclaration et le paiement de la taxe, sauf s'il prouve que la taxe a déjà été déclarée et payée par un intermédiaire, constitué ou établi en Belgique ou pas 3 Si un compte-titres est détenu par plusieurs titulaires, chaque titulaire peut déposer la déclaration pour tous les titulaires.Chaque titulaire est tenu solidairement au paiement de la taxe, des amendes et intérêts.\"\n",
      "      }\n",
      "   },\n",
      "   {\n",
      "      \"id\": 28067,\n",
      "      \"distance\": 0.6181586980819702,\n",
      "      \"entity\": {\n",
      "         \"reference\": \"Art. 201.21, Codes des Droits et Taxes Divers (Livre II, Titre XII)\",\n",
      "         \"article_id\": 22366,\n",
      "         \"chunk_article\": \".Pour l'application de l'alinéa 1er :1° les parts qui ont été placées à l'étranger par un intermédiaire financier ne peuvent être déduites des montants bruts placés en Belgique en cas d'achat à l'intervention d'un intermédiaire financier en Belgique ;2° lorsque l'organisme de placement a omis de fournir à l'administration les éléments utiles et nécessaires pour la perception de la taxe, et sans préjudice de l'application du Livre III, la taxe est due sur le total au 31 décembre de l'année précédente des montants bruts placés en Belgique.Le Roi peut fixer les éléments utiles et nécessaires pour la perception de la taxe 3\"\n",
      "      }\n",
      "   },\n",
      "   {\n",
      "      \"id\": 28066,\n",
      "      \"distance\": 0.6109782457351685,\n",
      "      \"entity\": {\n",
      "         \"reference\": \"Art. 201.21, Codes des Droits et Taxes Divers (Livre II, Titre XII)\",\n",
      "         \"article_id\": 22366,\n",
      "         \"chunk_article\": \"§ 1er En ce qui concerne les organismes de placement visés à l'article 20120, 1° et 2°, la taxe est due sur le total, au 31 décembre de l'année précédente, des montants nets placés en Belgique.Pour l'application de l'alinéa 1er :1° sont considérées comme placées en Belgique, les parts qui sont acquises à l'étranger pour le compte d'un habitant du Royaume ;2° lorsque l'organisme de placement a omis de fournir à l'administration les éléments utiles et nécessaires pour la perception de la taxe, et sans préjudice de l'application du Livre III, la taxe est due sur la valeur totale du patrimoine géré au 31 décembre de l'année précédente.Le Roi peut déterminer les éléments utiles et nécessaires pour la perception de la taxe 2 En ce qui concerne les organismes de placement visés à l'article 20120, 3°, la taxe est due sur le total au 31 décembre de l'année précédente des montants nets placés en Belgique, à partir de leur inscription auprès de l'Autorité des services et marchés financiers\"\n",
      "      }\n",
      "   },\n",
      "   {\n",
      "      \"id\": 21399,\n",
      "      \"distance\": 0.6101820468902588,\n",
      "      \"entity\": {\n",
      "         \"reference\": \"Art. 201/9/1, Codes des Droits et Taxes Divers (Livre II, Titre X)\",\n",
      "         \"article_id\": 22350,\n",
      "         \"chunk_article\": \"Les intermédiaires non constitués ou non établis en Belgique peuvent, lorsqu'ils gèrent un compte soumis à la taxe, faire agréer par le ministre des Finances ou son délégué un représentant responsable établi en Belgique Ce représentant s'engage solidairement envers l'Etat belge à la déclaration et au paiement de la taxe, ainsi qu'à l'exécution de toutes les obligations dont l'intermédiaire est tenu conformément au présent titre.En cas de décès du représentant responsable, de retrait de son agrément ou d'un évènement entraînant son incapacité à agir comme représentant, il doit être pourvu à son remplacement dans le mois.Le Roi détermine les conditions et les règles complémentaires de l'agrément du représentant responsable.\"\n",
      "      }\n",
      "   },\n",
      "   {\n",
      "      \"id\": 16737,\n",
      "      \"distance\": 0.6080551147460938,\n",
      "      \"entity\": {\n",
      "         \"reference\": \"Art. 183undecies, Codes des Droits et Taxes Divers (Livre II, Titre VI)\",\n",
      "         \"article_id\": 22319,\n",
      "         \"chunk_article\": \"Les entreprises d'assurances belges, les organismes de pension, les institutions de retraite professionnelle et les représentants en Belgique des entreprises d'assurances étrangèressont tenus de communiquer, sans déplacement, à toute réquisition des agentsde l'administration en charge de l'établissement ou de la perception et du recouvrement des taxes établies par le Livre II2leurs répertoires, registres, livres, polices, contrats et tous autres documents Tout refus de communication est puni d'une amende de 50 à 2.500 EUR.\"\n",
      "      }\n",
      "   },\n",
      "   {\n",
      "      \"id\": 21414,\n",
      "      \"distance\": 0.605278491973877,\n",
      "      \"entity\": {\n",
      "         \"reference\": \"Art. 157, Codes des Droits et Taxes Divers (Livre II, Titre II)\",\n",
      "         \"article_id\": 22287,\n",
      "         \"chunk_article\": \"Excepté en cas de transfert visé à l'article 154, § 2, alinéa 3, l'intermédiaire belge effectue la retenue libératoire, la déclaration et le paiement de la taxe si :1° la part du titulaire dans les comptes-titres visés à l'article 152, 1°, a) détenus auprès de l'intermédiaire belge est égale ou dépasse le montant visé à l'article 151, alinéa 2 ou si2° le titulaire a opté, au plus tard le dernier jour du deuxième mois qui suit la fin de la période de référence, pour la retenue libératoire sur les comptes-titres visés à l'article 152, 1°, a), par l'intermédiaire belge, lorsque la taxe n'a pas été retenue conformément au 1°.\"\n",
      "      }\n",
      "   },\n",
      "   {\n",
      "      \"id\": 12933,\n",
      "      \"distance\": 0.604926586151123,\n",
      "      \"entity\": {\n",
      "         \"reference\": \"Art. L3321-3, Code de la Démocratie Locale et de la Décentralisation (Livre III, Titre II, Chapitre UNIQUE)\",\n",
      "         \"article_id\": 17687,\n",
      "         \"chunk_article\": \"Les taxes sont soit recouvrées par voie de rôle, soit perçues au comptant contre remise d'une preuve de paiement.La taxe recouvrée par voie de rôle est payable dans les deux mois de l'envoi de l'avertissement-extrait de rôle.Lorsque la perception ne peut pas être effectuée au comptant, la taxe est enrôlée et est immédiatement exigible.\"\n",
      "      }\n",
      "   },\n",
      "   {\n",
      "      \"id\": 22384,\n",
      "      \"distance\": 0.5924119353294373,\n",
      "      \"entity\": {\n",
      "         \"reference\": \"Art. 183octies, Codes des Droits et Taxes Divers (Livre II, Titre VI)\",\n",
      "         \"article_id\": 22316,\n",
      "         \"chunk_article\": \"La taxe annuelle est payable dans les trois mois à compter de la décision de répartition des participations bénéficiaires.La taxe est acquittée par versement ou virement au compte courant postal du bureau compétent.Le jour du paiement, le redevable dépose à ce bureau une déclaration indiquant l'année d'imposition, la date de la décision de répartition, la base de perception, le taux et le montant de la taxe.Lorsque la taxe n'a pas été acquittée dans le délai fixé ci-dessus, l'intérêt est dû de plein droit à partir du jour où le paiement aurait dû être fait.Si la déclaration n'est pas déposée dans le délai fixé, il est encouru une amende de 2,50 EURpar semaine de retard Toute semaine commencée est comptée comme complète.\"\n",
      "      }\n",
      "   },\n",
      "   {\n",
      "      \"id\": 8262,\n",
      "      \"distance\": 0.5906624794006348,\n",
      "      \"entity\": {\n",
      "         \"reference\": \"Art. 1337octies, Code Judiciaire (Livre IV, Chapitre XIVbis)\",\n",
      "         \"article_id\": 5553,\n",
      "         \"chunk_article\": \"Le jugement est exécutoire par provision, nonobstant appel et sans caution.Le greffier envoie à la Banque Nationale de Belgique une copie certifiée conforme de tout jugement par lequel les facilités de paiement ont été accordées ou refusées.\"\n",
      "      }\n",
      "   },\n",
      "   {\n",
      "      \"id\": 34144,\n",
      "      \"distance\": 0.5905677080154419,\n",
      "      \"entity\": {\n",
      "         \"reference\": \"Art. 211bis, Codes des Droits et Taxes Divers (Livre III, Titre V)\",\n",
      "         \"article_id\": 22413,\n",
      "         \"chunk_article\": \".Les demandes de coopération, y compris les demandes de notification et les pièces annexées, peuvent être rédigées dans toute langue choisie d'un commun accord par l'autorité requise et l'autorité requérante Lesdites demandes ne sont accompagnées d'une traduction dans l'une des langues officielles de la Belgique que dans des cas particuliers et à condition que l'autorité compétente belge motive sa demande de traduction.Afin de satisfaire aux exigences de l'échange automatique prévu dans le § 6/1, 1° et 2, les informations qui doivent être communiquées sont enregistrées dans un répertoire central sécurisé destiné aux Etats membres concernant la coopération administrative dans le domaine fiscal mis au point et fourni, au plus tard le 31 décembre 2017, par la Commission Les autorités compétentes belges ont accès aux informations enregistrées dans ce répertoire.Avant que ce répertoire central sécurisé ne soit opérationnel, l'échange automatique prévu au § 6/1, 1° et 2°, est effectué conformément à l'alinéa 1er du présent paragraphe et selon les modalités pratiques applicables 25 Lorsque des informations vraisemblablement pertinentes pour l'administration et l'application de la législation belge relative aux droits et taxes divers sont communiquées par un pays tiers à l'autorité compétente belge, cette dernière peut, dans la mesure où un accord avec ce pays tiers l'autorise, transmettre ces informations aux autorités compétentes des Etats membres auxquels ces informations pourraient être utiles et à toute autorité compétente étrangère qui en fait la demande\"\n",
      "      }\n",
      "   },\n",
      "   {\n",
      "      \"id\": 23544,\n",
      "      \"distance\": 0.5889247059822083,\n",
      "      \"entity\": {\n",
      "         \"reference\": \"Art. 183, Codes des Droits et Taxes Divers (Livre II, Titre V)\",\n",
      "         \"article_id\": 22309,\n",
      "         \"chunk_article\": \"Les assureurs belges, les organismes de pension , institutions de retraite professionnelleet les personnes morales chargées de l'exécution de l'engagement de solidarité visé dans la loi du 28 avril 2003 relative aux pensions complémentaires et au régime fiscal de celles-ci et de certains avantages complémentaires en matière de sécurité sociale, de même que les représentants en Belgique des assureurs étrangers et les courtiers sont tenus de communiquer, sans déplacement, à toute réquisition des agentsde l'administration en charge de l'établissement ou de la perception et du recouvrement des taxes établies par le Livre II2leurs répertoires, registres, livres, polices, contrats et tous autres documents La même obligation est imposée aux preneurs d'assurance, s'ils sont commerçants, relativement aux polices, quittances et autres documents relatifs aux opérations d'assurance.Toute refus de communication est  puni d'une amende de 50 à 2.500 EUR\"\n",
      "      }\n",
      "   },\n",
      "   {\n",
      "      \"id\": 31257,\n",
      "      \"distance\": 0.5858064293861389,\n",
      "      \"entity\": {\n",
      "         \"reference\": \"Art. 201/4, Codes des Droits et Taxes Divers (Livre II, Titre X)\",\n",
      "         \"article_id\": 22344,\n",
      "         \"chunk_article\": \".La taxe n'est pas non plus due quant aux comptes-titres :1° détenus, directement ou indirectement, et exclusivement pour compte-propre, par des non-résidents qui n'affectent pas ces comptes-titres à un établissement belge visé à l'article 229 du Code des impôts sur les revenus 1992 dont ils disposent, auprès d'un dépositaire central de titres visé à l'article 198/1, § 6, 12°, du Code des impôts sur les revenus 1992, ou auprès d'une banque dépositaire agréée par la Banque nationale de Belgique en application de l'article 36/26/1, § 6, de la loi du 22 février 1998 fixant le statut organique de la Banque Nationale de Belgique ;2° détenus, pour le compte de tiers, par les intermédiaires, en couverture d'instruments financiers inscrits en compte-titres dans leurs livres ou en couverture de droits détenus par une institution, entité ou société visée à l'alinéa 4, auprès d'un autre intermédiaire ou auprès d'un dépositaire central de titres visé à l'article 2, alinéa 1er, point 1, du Règlement (UE) n° 909/2014 du Parlement européen et du Conseil du 23 juillet 2014 concernant l'amélioration du règlement de titres dans l'Union européenne et les dépositaires centraux de titres, et modifiant les Directives 98/26/CE et 2014/65/UE ainsi que le Règlement (UE) n° 236/2012\"\n",
      "      }\n",
      "   },\n",
      "   {\n",
      "      \"id\": 25969,\n",
      "      \"distance\": 0.5826942324638367,\n",
      "      \"entity\": {\n",
      "         \"reference\": \"Art. 211bis/8_DROIT_FUTUR, Codes des Droits et Taxes Divers (Livre III, Titre V)\",\n",
      "         \"article_id\": 22421,\n",
      "         \"chunk_article\": \"Lorsque le contribuable concerné a l'obligation de transmettre des informations concernant le dispositif transfrontière devant faire l'objet d'une déclaration aux autorités compétentes de plusieurs Etats membres, il doit transmettre ces informations à l'autorité belge compétente uniquement si la Belgique occupe la première place dans la liste ci-après :1° l'Etat membre dans lequel le contribuable concerné est résident à des fins fiscales ;2° l'Etat membre dans lequel le contribuable concerné possède un établissement stable qui bénéficie du dispositif ;3° l'Etat membre dans lequel le contribuable concerné perçoit des revenus ou réalise des bénéfices, bien qu'il ne soit pas résident à des fins fiscales dans un Etat membre et ne possède d'établissement stable dans aucun Etat membre ;4° l'Etat membre dans lequel le contribuable concerné exerce une activité, bien qu'il ne soit pas résident à des fins fiscales dans un Etat membre et ne possède d'établissement stable dans aucun Etat membre.Lorsque, en application de l'alinéa 1er, il existe une obligation de déclaration multiple, le contribuable concerné est dispensé de la transmission des informations s'il fournit une preuve écrite que ces mêmes informations ont été transmises dans un autre Etat membre.\"\n",
      "      }\n",
      "   },\n",
      "   {\n",
      "      \"id\": 21245,\n",
      "      \"distance\": 0.5824867486953735,\n",
      "      \"entity\": {\n",
      "         \"reference\": \"Art. R112, Code Wallon de l'Environnement (Livre Ier, PartieVIII, Chapitre IV)\",\n",
      "         \"article_id\": 11941,\n",
      "         \"chunk_article\": \"Le paiement par bulletin de virement ou par voie électronique concerne les personnes ayant un domicile ou une résidence fixe en Belgique.Si le contrevenant est présent lors de la constatation de l'infraction, le formulaire de paiement peut lui être remis sur le champ.Si le contrevenant est absent, un exemplaire du formulaire dont le modèle figure en annexe X est envoyé à son domicile.Si le contrevenant accepte la transaction, il renvoie le formulaire dûment complété à l'agent dans un délai de cinq jours à dater de sa réception.En cas de non paiement malgré l'acceptation de la transaction, un rappel est envoyé Ce rappel fait courir les intérêts de retard.\"\n",
      "      }\n",
      "   },\n",
      "   {\n",
      "      \"id\": 26710,\n",
      "      \"distance\": 0.5818252563476562,\n",
      "      \"entity\": {\n",
      "         \"reference\": \"Art. 155, Codes des Droits et Taxes Divers (Livre II, Titre II)\",\n",
      "         \"article_id\": 22285,\n",
      "         \"chunk_article\": \"Les intermédiaires belges établissent, pour chaque titulaire, à chaque point de référence, le relevé visé à l'article 154, qui contient les informations suivantes :1° le nom et l'adresse du titulaire;2° le numéro de compte du titulaire;3° la part dans la valeur enregistrée des instruments financiers imposables qui, au moment du point de référence, sont détenus sur un ou plusieurs comptes-titres visés à l'article 152, 1°, a);4° la période au cours de laquelle la part dans la valeur visée au 3° a été calculée.Dans le respect des exigences formelles visées à l'alinéa 1er, les intermédiaires belges, excepté dans le cas d'un transfert visé à l'article 154, § 2, alinéa 3, établissent un aperçu à la fin de chaque période de référence qui reprend la valeur moyenne visée à l'article 154, la taxe finale due, le taux et, le cas échéant, les taxes déjà retenues Cet aperçu est communiqué au titulaire au plus tard le dernier jour du mois qui suit celui de la fin de la période de référence.L'intermédiaire belge offre la possibilité au titulaire, dans l'aperçu visé à l'alinéa 2, de retenir la taxe si sa part dans les comptes-titres visés à l'article 152, 1°, a) auprès de cet intermédiaire belge ne dépasse pas le montant visé à l'article 151, alinéa 2.\"\n",
      "      }\n",
      "   },\n",
      "   {\n",
      "      \"id\": 22572,\n",
      "      \"distance\": 0.5817736387252808,\n",
      "      \"entity\": {\n",
      "         \"reference\": \"Art. 10/54, Code Réglementaire Wallon de l'Action sociale et de la Santé (Livre III, PartiePREMIERE/1, Titre III, Chapitre IV, Section 6)\",\n",
      "         \"article_id\": 7283,\n",
      "         \"chunk_article\": \"Par dérogation à l'article 10/53, § 1er, le paiement par des chèques circulaires belges s'effectue annuellement, en décembre, pour les arrérages échus au cours de l'année, lorsque le montant global à payer par mois est inférieur à 25 euros.Le montant précité est lié à l'indice-pivot 107,20, base 2013 = 100, des prix à la consommation conformément aux dispositions de la loi du 2 août 1971 organisant un régime de liaison à l'indice des prix à la consommation des traitements, salaires, pensions, allocations et subventions à charge du Trésor public, de certaines prestations sociales, des limites de rémunération à prendre en considération pour le calcul de certaines cotisations de sécurité sociale des travailleurs, ainsi que des obligations imposées en matière sociale aux travailleurs indépendants.\"\n",
      "      }\n",
      "   }\n",
      "]\n"
     ]
    }
   ],
   "source": [
    "formatted_result = json.dumps(search_results[0], indent=3, ensure_ascii=False)\n",
    "print(formatted_result)"
   ]
  },
  {
   "cell_type": "code",
   "execution_count": 17,
   "metadata": {},
   "outputs": [
    {
     "name": "stdout",
     "output_type": "stream",
     "text": [
      "[22351, 22349, 22289, 22288, 22349, 22366, 22366, 22350, 22319, 22287, 17687, 22316, 5553, 22413, 22309, 22344, 22421, 11941, 22285, 7283]\n"
     ]
    }
   ],
   "source": [
    "predicted_ids = [result[\"entity\"][\"article_id\"] for result in search_results[0]]\n",
    "print(predicted_ids)"
   ]
  },
  {
   "cell_type": "code",
   "execution_count": null,
   "metadata": {},
   "outputs": [],
   "source": [
    "5853,5854,5855"
   ]
  },
  {
   "cell_type": "markdown",
   "metadata": {},
   "source": [
    "### Reranking "
   ]
  },
  {
   "cell_type": "code",
   "execution_count": 31,
   "metadata": {},
   "outputs": [],
   "source": [
    "def rerank_documents(question, search_results, bge_m3, max_length=1024, w_d=0.4, w_s=0.2, w_c=0.4):\n",
    "\n",
    "    # Extraire les textes des articles\n",
    "    articles = [result[\"entity\"][\"chunk_article\"] for result in search_results[0]]\n",
    "    references = [result[\"entity\"][\"reference\"] for result in search_results[0]]\n",
    "\n",
    "    \n",
    "    # Créer les paires question-article\n",
    "    sentence_pairs = [[question, article] for article in articles]\n",
    "\n",
    "    # Calculer les scores\n",
    "    scores = bge_m3.compute_score(\n",
    "        sentence_pairs,\n",
    "        max_passage_length=max_length,\n",
    "        weights_for_different_modes=[w_d, w_s, w_c]  # [dense, sparse, colbert]\n",
    "    )\n",
    "    \n",
    "    print(len(articles))\n",
    "\n",
    "\n",
    "# Combiner les scores avec les résultats originaux\n",
    "    ranked_results = [\n",
    "        (article, reference, score)\n",
    "        for article, reference, score in zip(articles, references, scores['colbert+sparse+dense'])\n",
    "    ]\n",
    "\n",
    "    # Trier les résultats par le nouveau score de reranking (du plus élevé au plus bas)\n",
    "    ranked_results.sort(key=lambda x: x[-1], reverse=True)\n",
    "\n",
    "\n",
    "    # Retourner les 3 meilleurs résultats (seulement les articles)\n",
    "    top_3_articles = [ (article, reference) for article, reference, _ in ranked_results[:3]]\n",
    "\n",
    "    return top_3_articles\n"
   ]
  },
  {
   "cell_type": "code",
   "execution_count": 32,
   "metadata": {},
   "outputs": [
    {
     "name": "stdout",
     "output_type": "stream",
     "text": [
      "20\n",
      "[(\"§ 1er Les intermédiaires belges déposent une déclaration au bureau compétent, au plus tard le vingtième jour du troisième mois qui suit la fin de la période de référence.La taxe est payée le jour visé à l'alinéa 1er.Le Roi détermine les modalités de la déclaration 2 L'absence de déclaration, la déclaration tardive, inexacte ou incomplète ainsi que l'absence de paiement ou le paiement tardif sont punis d'une amende qui est établie en fonction de la nature et de la gravité de l'infraction, selon une échelle déterminée par le Roi et allant de 10 p.c à 200 p.c de la taxe due.En l'absence de mauvaise foi, il n'est pas dû d'amende\", 'Art. 201/9/2, Codes des Droits et Taxes Divers (Livre II, Titre X)'), (\"§ 1er L'intermédiaire belge effectue la retenue, la déclaration et le paiement de la taxe\", 'Art. 201/9, Codes des Droits et Taxes Divers (Livre II, Titre X)'), (\"Les intermédiaires non constitués ou non établis en Belgique peuvent, lorsqu'ils gèrent pour une personne physique un compte soumis à la présente taxe, faire agréer par le ministre des Finances ou son délégué un représentant responsable établi en Belgique Ce représentant s'engage solidairement, envers l'Etat belge, au paiement de la taxe par l'intermédiaire pour le compte du titulaire et à l'exécution de toutes les obligations dont l'intermédiaire est tenu conformément au présent titre.En cas de décès du représentant responsable, de retrait de son agrément ou d'un évènement entraînant son incapacité, il est pourvu immédiatement à son remplacement.Le Roi fixe les conditions et modalités d'agrément du représentant responsable.\", 'Art. 158/2, Codes des Droits et Taxes Divers (Livre II, Titre II)')]\n"
     ]
    }
   ],
   "source": [
    "max_length = 1024  \n",
    "w_d, w_s, w_c = 0.4, 0.2, 0.4  \n",
    "\n",
    "\n",
    "# Supposons que search_results contient vos 10 résultats initiaux\n",
    "reranked_results = rerank_documents(question, search_results, bge_m3, max_length, w_d, w_s, w_c)\n",
    "print(reranked_results)\n"
   ]
  },
  {
   "cell_type": "markdown",
   "metadata": {},
   "source": [
    "# GENERATIVE"
   ]
  },
  {
   "cell_type": "code",
   "execution_count": 33,
   "metadata": {},
   "outputs": [],
   "source": [
    "def generate_legal_response(model, tokenizer, prompt_template, documents, question, \n",
    "                          max_new_tokens=400, temperature=0.7, top_p=0.9):\n",
    "    \"\"\"\n",
    "    Génère une réponse juridique basée sur les documents fournis.\n",
    "    \n",
    "    Args:\n",
    "        model: Le modèle LLM chargé\n",
    "        tokenizer: Le tokenizer associé\n",
    "        prompt_template: Le template du prompt avec {documents} et {question} comme placeholders\n",
    "        documents: Liste de tuples (contenu, référence)\n",
    "        question: Question de l'utilisateur\n",
    "        max_new_tokens: Nombre maximum de tokens à générer\n",
    "        temperature: Température pour le sampling\n",
    "        top_p: Valeur pour le nucleus sampling\n",
    "    \n",
    "    Returns:\n",
    "        str: Réponse générée\n",
    "    \"\"\"\n",
    "    # Formatage des documents avec leurs références\n",
    "    formatted_docs = []\n",
    "    for i, (content, reference) in enumerate(documents, 1):\n",
    "        formatted_doc = f\"Document {i}:\\nRéférence: {reference}\\nContenu: {content.strip()}\"\n",
    "        formatted_docs.append(formatted_doc)\n",
    "    \n",
    "    formatted_docs = \"\\n\\n\".join(formatted_docs)\n",
    "    \n",
    "    # Construction du prompt final\n",
    "    prompt = prompt_template.format(\n",
    "        documents=formatted_docs,\n",
    "        question=question\n",
    "    )\n",
    "    \n",
    "    # Tokenisation et envoi sur GPU\n",
    "    inputs = tokenizer(\n",
    "        prompt,\n",
    "        return_tensors=\"pt\",\n",
    "        truncation=True,\n",
    "        max_length=2048\n",
    "    ).to(\"cuda\")\n",
    "    \n",
    "    # Génération\n",
    "    with torch.no_grad():\n",
    "        outputs = model.generate(\n",
    "            **inputs,\n",
    "            max_new_tokens=max_new_tokens,\n",
    "            do_sample=True,\n",
    "            temperature=temperature,\n",
    "            top_p=top_p,\n",
    "            pad_token_id=tokenizer.eos_token_id,\n",
    "        )\n",
    "    \n",
    "    # Décodage uniquement de la partie générée\n",
    "    generated_tokens = outputs[0][inputs['input_ids'].shape[-1]:]\n",
    "    response = tokenizer.decode(generated_tokens, skip_special_tokens=True)\n",
    "    \n",
    "    return response.strip()\n"
   ]
  },
  {
   "cell_type": "code",
   "execution_count": 34,
   "metadata": {},
   "outputs": [
    {
     "name": "stdout",
     "output_type": "stream",
     "text": [
      "Pour payer ses impôts en Belgique, il faut déposer une déclaration au bureau compétent au plus tard le vingtième jour du troisième mois qui suit la fin de la période de référence. La taxe est payée le jour visé.\n",
      "\n",
      "La déclaration doit être faite par l'intermédiaire belge, qui effectue la retenue, la déclaration et le paiement de la taxe, conformément à l'article 201/9 du Code des Droits et Taxes Divers (Livre II, Titre X).\n",
      "\n",
      "En cas de décès du représentant responsable ou d'un évènement entraînant son incapacité, il est pourvu immédiatement à son remplacement, selon l'article 158/2 du Code des Droits et Taxes Divers (Livre II, Titre II).\n",
      "\n",
      "Références juridiques utilisées :\n",
      "\n",
      "- Art. 201/9, Codes des Droits et Taxes Divers (Livre II, Titre X)\n",
      "- Art. 158/2, Codes des Droits et Taxes Divers (Livre II, Titre II)\n",
      "\n",
      "Mention: Il est possible que d'autres dispositions ou réglementations applicables soient plus précises ou complètes, mais elles n'ont pas été mises en avant dans les documents fournis. Il est toujours recommandé de vérifier les informations avec une source officielle ou un expert juridique.\n"
     ]
    }
   ],
   "source": [
    "# Template du prompt adapté\n",
    "prompt_GEN = \"\"\"[CONTEXTE]\n",
    "Vous êtes un assistant juridique spécialisé dans le droit belge. Votre rôle est d'aider à comprendre et interpréter la législation belge en vous basant uniquement sur les documents fournis.\n",
    "\n",
    "[INSTRUCTIONS]\n",
    "1. Analysez attentivement les extraits de documents juridiques ci-dessous\n",
    "2. Répondez à la question en utilisant UNIQUEMENT les informations présentes dans ces documents\n",
    "3. Si certains aspects de la question ne peuvent pas être traités avec les documents fournis, indiquez-le clairement\n",
    "4. Privilégiez une réponse concise et directe\n",
    "5. Dans votre réponse, citez systématiquement les références juridiques exactes utilisées (Articles, Codes)\n",
    "\n",
    "[DOCUMENTS]\n",
    "{documents}\n",
    "\n",
    "[QUESTION]\n",
    "{question}\n",
    "\n",
    "[FORMAT DE RÉPONSE]\n",
    "- Réponse directe à la question\n",
    "- Citation systématique des références juridiques utilisées\n",
    "- Si des informations manquent, le mentionner brièvement\n",
    "\n",
    "[TONALITÉ]\n",
    "- Professionnel mais accessible\n",
    "- Factuel\n",
    "- Précis\n",
    "\n",
    "[RÉPONSE]\n",
    "\"\"\"\n",
    "\n",
    "response = generate_legal_response(\n",
    "    model=model,\n",
    "    tokenizer=tokenizer,\n",
    "    prompt_template=prompt_GEN,\n",
    "    documents= reranked_results ,\n",
    "    question=question\n",
    ")\n",
    "print(response)"
   ]
  }
 ],
 "metadata": {
  "kernelspec": {
   "display_name": "AI_App",
   "language": "python",
   "name": "python3"
  },
  "language_info": {
   "codemirror_mode": {
    "name": "ipython",
    "version": 3
   },
   "file_extension": ".py",
   "mimetype": "text/x-python",
   "name": "python",
   "nbconvert_exporter": "python",
   "pygments_lexer": "ipython3",
   "version": "3.12.7"
  }
 },
 "nbformat": 4,
 "nbformat_minor": 2
}
