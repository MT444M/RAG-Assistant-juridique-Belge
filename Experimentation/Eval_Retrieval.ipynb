{
 "cells": [
  {
   "cell_type": "markdown",
   "metadata": {},
   "source": [
    "## Evaluating Information Retrieval Models:"
   ]
  },
  {
   "cell_type": "code",
   "execution_count": 2,
   "metadata": {},
   "outputs": [],
   "source": [
    "import pandas as pd\n",
    "import numpy as np\n",
    "import matplotlib.pyplot as plt\n",
    "\n",
    "import json"
   ]
  },
  {
   "cell_type": "markdown",
   "metadata": {},
   "source": [
    "### Load Labels"
   ]
  },
  {
   "cell_type": "code",
   "execution_count": 3,
   "metadata": {},
   "outputs": [
    {
     "data": {
      "text/html": [
       "<div>\n",
       "<style scoped>\n",
       "    .dataframe tbody tr th:only-of-type {\n",
       "        vertical-align: middle;\n",
       "    }\n",
       "\n",
       "    .dataframe tbody tr th {\n",
       "        vertical-align: top;\n",
       "    }\n",
       "\n",
       "    .dataframe thead th {\n",
       "        text-align: right;\n",
       "    }\n",
       "</style>\n",
       "<table border=\"1\" class=\"dataframe\">\n",
       "  <thead>\n",
       "    <tr style=\"text-align: right;\">\n",
       "      <th></th>\n",
       "      <th>id</th>\n",
       "      <th>category</th>\n",
       "      <th>subcategory</th>\n",
       "      <th>question</th>\n",
       "      <th>extra_description</th>\n",
       "      <th>article_ids</th>\n",
       "    </tr>\n",
       "  </thead>\n",
       "  <tbody>\n",
       "    <tr>\n",
       "      <th>0</th>\n",
       "      <td>1102</td>\n",
       "      <td>Travail</td>\n",
       "      <td>Travail et parentalité</td>\n",
       "      <td>Je suis travailleur salarié(e). Puis-je refuse...</td>\n",
       "      <td>Pendant la grossesse</td>\n",
       "      <td>22225,22226,22227,22228,22229,22230,22231,2223...</td>\n",
       "    </tr>\n",
       "    <tr>\n",
       "      <th>1</th>\n",
       "      <td>91</td>\n",
       "      <td>Argent</td>\n",
       "      <td>Dettes</td>\n",
       "      <td>Peut-on saisir tous mes revenus ?</td>\n",
       "      <td>Procédures de récupération des dettes, Récupér...</td>\n",
       "      <td>5853,5854,5855</td>\n",
       "    </tr>\n",
       "    <tr>\n",
       "      <th>2</th>\n",
       "      <td>474</td>\n",
       "      <td>Famille</td>\n",
       "      <td>Situation de couples</td>\n",
       "      <td>Je suis marié(e). Nous sommes mariés. Dois-je ...</td>\n",
       "      <td>Mariage</td>\n",
       "      <td>1096,1097,1098,1108,1109,1110</td>\n",
       "    </tr>\n",
       "    <tr>\n",
       "      <th>3</th>\n",
       "      <td>836</td>\n",
       "      <td>Logement</td>\n",
       "      <td>Location en Wallonie</td>\n",
       "      <td>Je mets un kot en location (bail de droit comm...</td>\n",
       "      <td>Mettre un logement en location (Wallonie), Doi...</td>\n",
       "      <td>12012,12030,12031,12032,12033,12034,12035</td>\n",
       "    </tr>\n",
       "    <tr>\n",
       "      <th>4</th>\n",
       "      <td>1079</td>\n",
       "      <td>Travail</td>\n",
       "      <td>Maladie - incapacité de travail</td>\n",
       "      <td>Suis-je payé pendant la procédure du trajet de...</td>\n",
       "      <td>Rupture du contrat de travail pour force majeu...</td>\n",
       "      <td>21114,21115,21116,21117,21118,21119,21120,2112...</td>\n",
       "    </tr>\n",
       "  </tbody>\n",
       "</table>\n",
       "</div>"
      ],
      "text/plain": [
       "     id  category                      subcategory  \\\n",
       "0  1102   Travail           Travail et parentalité   \n",
       "1    91    Argent                           Dettes   \n",
       "2   474   Famille             Situation de couples   \n",
       "3   836  Logement             Location en Wallonie   \n",
       "4  1079   Travail  Maladie - incapacité de travail   \n",
       "\n",
       "                                            question  \\\n",
       "0  Je suis travailleur salarié(e). Puis-je refuse...   \n",
       "1                  Peut-on saisir tous mes revenus ?   \n",
       "2  Je suis marié(e). Nous sommes mariés. Dois-je ...   \n",
       "3  Je mets un kot en location (bail de droit comm...   \n",
       "4  Suis-je payé pendant la procédure du trajet de...   \n",
       "\n",
       "                                   extra_description  \\\n",
       "0                               Pendant la grossesse   \n",
       "1  Procédures de récupération des dettes, Récupér...   \n",
       "2                                            Mariage   \n",
       "3  Mettre un logement en location (Wallonie), Doi...   \n",
       "4  Rupture du contrat de travail pour force majeu...   \n",
       "\n",
       "                                         article_ids  \n",
       "0  22225,22226,22227,22228,22229,22230,22231,2223...  \n",
       "1                                     5853,5854,5855  \n",
       "2                      1096,1097,1098,1108,1109,1110  \n",
       "3          12012,12030,12031,12032,12033,12034,12035  \n",
       "4  21114,21115,21116,21117,21118,21119,21120,2112...  "
      ]
     },
     "execution_count": 3,
     "metadata": {},
     "output_type": "execute_result"
    }
   ],
   "source": [
    "df_questions = pd.read_csv('questions_train.csv')\n",
    "\n",
    "df_questions.head(5)"
   ]
  },
  {
   "cell_type": "code",
   "execution_count": 4,
   "metadata": {},
   "outputs": [],
   "source": [
    "all_ids_labels = []\n",
    "for article_ids in df_questions['article_ids']:\n",
    "    all_ids_labels.append(article_ids)\n"
   ]
  },
  {
   "cell_type": "code",
   "execution_count": 5,
   "metadata": {},
   "outputs": [
    {
     "data": {
      "text/plain": [
       "886"
      ]
     },
     "execution_count": 5,
     "metadata": {},
     "output_type": "execute_result"
    }
   ],
   "source": [
    "len(all_ids_labels)"
   ]
  },
  {
   "cell_type": "markdown",
   "metadata": {},
   "source": [
    "### Load Prediction"
   ]
  },
  {
   "cell_type": "code",
   "execution_count": 6,
   "metadata": {},
   "outputs": [],
   "source": [
    "with open('predictions_2.json', 'r') as f:\n",
    "    all_predictions = json.load(f)"
   ]
  },
  {
   "cell_type": "code",
   "execution_count": 7,
   "metadata": {},
   "outputs": [],
   "source": [
    "import json\n",
    "import gzip\n",
    "\n",
    "# # Load the predictions from the JSON file\n",
    "# with gzip.open('all_predictions.json.gz', 'rt', encoding='utf-8') as f:\n",
    "#     all_predictions = json.load(f)\n",
    "\n",
    "# Load the predictions from the JSON file\n",
    "with gzip.open('all_predictions_RSChunk.json.gz', 'rt', encoding='utf-8') as f:\n",
    "    all_predictions = json.load(f)\n",
    "\n"
   ]
  },
  {
   "cell_type": "code",
   "execution_count": 8,
   "metadata": {},
   "outputs": [
    {
     "name": "stdout",
     "output_type": "stream",
     "text": [
      "[[5729, 13774, 5815, 5779, 5790, 22384, 13238, 18949, 8104, 5706, 5856, 5775, 5722, 5786, 5711, 156, 2123, 5778, 15822, 18942, 13236, 5980, 13770, 5762, 5745, 18925, 8837, 14331, 5777, 13238, 5956, 15771, 5974, 5810, 5730, 18950, 5854, 5791, 18926, 17696], [1094, 1120, 1121, 1094, 1119, 1103, 1145, 1102, 1111, 1120, 1112, 1123, 1096, 1124, 1125, 1118, 1104, 1099, 1108, 1123, 1114, 1101, 1120, 1113, 1146, 5386, 1125, 1148, 1227, 939, 1075, 1161, 1110, 1089, 940, 1008, 937, 1174, 1093, 934]]\n"
     ]
    }
   ],
   "source": [
    "predicted_ids = []\n",
    "\n",
    "for i in range(len(all_predictions)):\n",
    "    predicted_ids.append(all_predictions[str(i)]['predicted_ids'])\n",
    "\n",
    "print(predicted_ids[1:3])"
   ]
  },
  {
   "cell_type": "markdown",
   "metadata": {},
   "source": [
    "### Eval Function"
   ]
  },
  {
   "cell_type": "code",
   "execution_count": 9,
   "metadata": {},
   "outputs": [],
   "source": [
    "def Eval_Retrieval(all_predictions, articles_ids, top_k=20):\n",
    "    # Assure que les articles_ids sont bien sous forme de liste d'ID (int) pour chaque requête\n",
    "    articles_ids = [list(map(int, ids.split(','))) for ids in articles_ids]\n",
    "    \n",
    "    # Initialize metrics\n",
    "    precisions = []\n",
    "    recalls = []\n",
    "    f1_scores = []\n",
    "    average_precisions = []\n",
    "    reciprocal_ranks = []\n",
    "\n",
    "    # Nombre total de questions\n",
    "    Q = len(all_predictions)\n",
    "\n",
    "    # Calcul des métriques pour chaque ensemble de prédictions\n",
    "    for preds, true_ids in zip(all_predictions, articles_ids):\n",
    "        # Limiter les prédictions à top_k résultats\n",
    "        preds = preds[:top_k]\n",
    "        \n",
    "        # Convertir les prédictions en set pour faciliter les calculs\n",
    "        preds_set = set(preds)\n",
    "        true_set = set(true_ids)\n",
    "\n",
    "        # Calcul des True Positives (TP), False Positives (FP), et False Negatives (FN)\n",
    "        tp = len(preds_set & true_set) # intersection (in both)\n",
    "        fp = len(preds_set - true_set)  # Difference (in pred but not in true)\n",
    "        fn = len(true_set - preds_set)  #Difference (in true but not in pred)\n",
    "\n",
    "        # Calcul Precision, Recall, F1-Score\n",
    "        precision = tp / (tp + fp) if (tp + fp) > 0 else 0\n",
    "        recall = tp / (tp + fn) if (tp + fn) > 0 else 0\n",
    "        f1 = (2 * precision * recall) / (precision + recall) if (precision + recall) > 0 else 0\n",
    "\n",
    "        precisions.append(precision)\n",
    "        recalls.append(recall)\n",
    "        f1_scores.append(f1)\n",
    "\n",
    "        # Calcul de l'Average Precision (AP)\n",
    "        ap = 0\n",
    "        relevant_count = 0\n",
    "        for rank, pred in enumerate(preds, 1):  # rank starts at 1\n",
    "            if pred in true_set:\n",
    "                relevant_count += 1\n",
    "                ap += relevant_count / rank\n",
    "        ap /= len(true_set) if len(true_set) > 0 else 1\n",
    "        average_precisions.append(ap)\n",
    "\n",
    "        # Calcul Mean Reciprocal Rank (MRR)\n",
    "        mrr = 0\n",
    "        for rank, pred in enumerate(preds, 1):\n",
    "            if pred in true_set:\n",
    "                mrr = 1 / rank\n",
    "                break\n",
    "        reciprocal_ranks.append(mrr)\n",
    "\n",
    "    # Calcul des métriques globales\n",
    "    mean_precision = sum(precisions) / Q\n",
    "    mean_recall = sum(recalls) / Q\n",
    "    mean_f1 = sum(f1_scores) / Q\n",
    "    mean_ap = sum(average_precisions) / Q\n",
    "    mean_mrr = sum(reciprocal_ranks) / Q\n",
    "\n",
    "    # Retourner les métriques sous forme de dictionnaire\n",
    "    return {\n",
    "        \"mean_precision\": mean_precision,\n",
    "        \"mean_recall\": mean_recall,\n",
    "        \"mean_f1_score\": mean_f1,\n",
    "        \"MAP\": mean_ap,\n",
    "        \"MRR\": mean_mrr\n",
    "    }\n"
   ]
  },
  {
   "cell_type": "code",
   "execution_count": 12,
   "metadata": {},
   "outputs": [
    {
     "name": "stdout",
     "output_type": "stream",
     "text": [
      "{\n",
      "    \"mean_precision\": 0.19582392776523702,\n",
      "    \"mean_recall\": 0.19493667246510607,\n",
      "    \"mean_f1_score\": 0.1553632677653987,\n",
      "    \"MAP\": 0.1925122599578059,\n",
      "    \"MRR\": 0.3306997742663657\n",
      "}\n"
     ]
    }
   ],
   "source": [
    "metrics = Eval_Retrieval(predicted_ids, all_ids_labels, top_k=3)\n",
    "\n",
    "format_metrics = json.dumps(metrics, indent=4)\n",
    "print(format_metrics)"
   ]
  },
  {
   "cell_type": "code",
   "execution_count": 8,
   "metadata": {},
   "outputs": [
    {
     "name": "stdout",
     "output_type": "stream",
     "text": [
      "{\n",
      "    \"mean_precision\": 0.1455793829947329,\n",
      "    \"mean_recall\": 0.2374931901131348,\n",
      "    \"mean_f1_score\": 0.13913758057231745,\n",
      "    \"MAP\": 0.19823666815625512,\n",
      "    \"MRR\": 0.32904439428141463\n",
      "}\n"
     ]
    }
   ],
   "source": [
    "metrics = Eval_Retrieval(predicted_ids, all_ids_labels, top_k=5)\n",
    "\n",
    "format_metrics = json.dumps(metrics, indent=4)\n",
    "print(format_metrics)"
   ]
  },
  {
   "cell_type": "code",
   "execution_count": 30,
   "metadata": {},
   "outputs": [
    {
     "name": "stdout",
     "output_type": "stream",
     "text": [
      "{\n",
      "    \"mean_precision\": 0.056094808126410836,\n",
      "    \"mean_recall\": 0.22770241505769426,\n",
      "    \"mean_f1_score\": 0.06633374001609073,\n",
      "    \"MAP\": 0.07571223066018752,\n",
      "    \"MRR\": 0.1817468067896123\n",
      "}\n"
     ]
    }
   ],
   "source": [
    "metrics = Eval_Retrieval(predicted_ids, all_ids_labels, top_k=20)\n",
    "\n",
    "format_metrics = json.dumps(metrics, indent=4)\n",
    "print(format_metrics)\n"
   ]
  },
  {
   "cell_type": "code",
   "execution_count": 26,
   "metadata": {},
   "outputs": [
    {
     "name": "stdout",
     "output_type": "stream",
     "text": [
      "{\n",
      "    \"mean_precision\": 0.05146726862302483,\n",
      "    \"mean_recall\": 0.05169027307757119,\n",
      "    \"mean_f1_score\": 0.034377427779609115,\n",
      "    \"MAP\": 0.028122523460075988,\n",
      "    \"MRR\": 0.09048156508653123\n",
      "}\n"
     ]
    }
   ],
   "source": [
    "metrics = Eval_Retrieval(predicted_ids, all_ids_labels, top_k=5)\n",
    "\n",
    "format_metrics = json.dumps(metrics, indent=4)\n",
    "print(format_metrics)\n"
   ]
  },
  {
   "cell_type": "code",
   "execution_count": 26,
   "metadata": {},
   "outputs": [
    {
     "name": "stdout",
     "output_type": "stream",
     "text": [
      "{\n",
      "    \"mean_precision\": 0.1363431151241535,\n",
      "    \"mean_recall\": 0.24542927585976157,\n",
      "    \"mean_f1_score\": 0.13602369048546678,\n",
      "    \"MAP\": 0.16525724725154028,\n",
      "    \"MRR\": 0.32565838976674194\n",
      "}\n"
     ]
    }
   ],
   "source": [
    "metrics = Eval_Retrieval(all_predictions['predictions'], all_ids_labels, top_k=5)\n",
    "\n",
    "format_metrics = json.dumps(metrics, indent=4)\n",
    "print(format_metrics)"
   ]
  }
 ],
 "metadata": {
  "kernelspec": {
   "display_name": "AI_App",
   "language": "python",
   "name": "python3"
  },
  "language_info": {
   "codemirror_mode": {
    "name": "ipython",
    "version": 3
   },
   "file_extension": ".py",
   "mimetype": "text/x-python",
   "name": "python",
   "nbconvert_exporter": "python",
   "pygments_lexer": "ipython3",
   "version": "3.12.7"
  }
 },
 "nbformat": 4,
 "nbformat_minor": 2
}
