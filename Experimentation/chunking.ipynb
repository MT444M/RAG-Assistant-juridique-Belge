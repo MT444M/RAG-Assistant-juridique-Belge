{
 "cells": [
  {
   "cell_type": "code",
   "execution_count": 34,
   "metadata": {},
   "outputs": [],
   "source": [
    "# basic splitter\n",
    "from langchain_text_splitters import RecursiveCharacterTextSplitter\n",
    "import seaborn as sns\n",
    "import pandas as pd\n",
    "import matplotlib.pyplot as plt\n",
    "\n",
    "from tqdm.autonotebook import tqdm"
   ]
  },
  {
   "cell_type": "markdown",
   "metadata": {},
   "source": [
    "### Recursive Text Chunking"
   ]
  },
  {
   "cell_type": "markdown",
   "metadata": {},
   "source": [
    "### Load the articles "
   ]
  },
  {
   "cell_type": "code",
   "execution_count": 2,
   "metadata": {},
   "outputs": [],
   "source": [
    "df_articles = pd.read_csv('articles.csv')"
   ]
  },
  {
   "cell_type": "code",
   "execution_count": 8,
   "metadata": {},
   "outputs": [
    {
     "name": "stdout",
     "output_type": "stream",
     "text": [
      "90\n",
      "Les plans, les programmes et les documents d'orientation politique élaborés par la Région, des pouvoirs publics régionaux ou par des pouvoirs publics locaux en matière de logement, de mobilité ou de recherche et d'innovation, ainsi que les plans et programmes visés au CoBAT, s'inscrivent en conformité avec les objectifs poursuivis par le plan régional Air-Climat-énergie. Il en va de même des contrats de gestion et autres conventions conclus par la Région avec les pouvoirs publics régionaux. Le plan régional Air-Climat-Energie s'inscrit dans les objectifs du Plan Régional de Développement Durable.\n"
     ]
    }
   ],
   "source": [
    "ex_ = df_articles['article'].iloc[5]\n",
    "\n",
    "print(len(ex_.split()))\n",
    "print(ex_)\n",
    "\n"
   ]
  },
  {
   "cell_type": "markdown",
   "metadata": {},
   "source": [
    "---------"
   ]
  },
  {
   "cell_type": "markdown",
   "metadata": {},
   "source": [
    "### Create Text Splitter: Semantic-chunker"
   ]
  },
  {
   "cell_type": "code",
   "execution_count": 4,
   "metadata": {},
   "outputs": [],
   "source": [
    "from langchain_experimental.text_splitter import SemanticChunker\n",
    "from langchain_community.embeddings import HuggingFaceEmbeddings\n",
    "\n"
   ]
  },
  {
   "cell_type": "code",
   "execution_count": 11,
   "metadata": {},
   "outputs": [],
   "source": [
    "model_name = \"BAAI/bge-m3\"\n",
    "# model_name = \"Lajavaness/bilingual-embedding-large\"\n",
    "encode_kwargs = {'normalize_embeddings': False,\n",
    "                 'batch_size': 8,}\n",
    "model_kwargs = {\n",
    "    'device': 'cuda',\n",
    "    # 'trust_remote_code': True  \n",
    "}\n",
    "\n",
    "hf_embeddings = HuggingFaceEmbeddings(\n",
    "        model_name=model_name,\n",
    "        model_kwargs=model_kwargs,\n",
    "        encode_kwargs=encode_kwargs,\n",
    "        show_progress = False,\n",
    "\n",
    "    )"
   ]
  },
  {
   "cell_type": "code",
   "execution_count": 14,
   "metadata": {},
   "outputs": [],
   "source": [
    "text_splitter = SemanticChunker(embeddings=hf_embeddings,\n",
    "                                breakpoint_threshold_type = 'percentile',\n",
    "                                # breakpoint_threshold_amount=95,  # cosine distance\n",
    "                                 #[\"\\n\\n\", \".\", \";\", \".§\"]\n",
    "                                sentence_split_regex =  r'\\n\\n\\s+|\\.\\s+|;\\s+|\\.§\\s+' # S+ == space \n",
    "                                )"
   ]
  },
  {
   "cell_type": "code",
   "execution_count": 9,
   "metadata": {},
   "outputs": [
    {
     "data": {
      "application/vnd.jupyter.widget-view+json": {
       "model_id": "7006186e49374f739084aee65c40b1d7",
       "version_major": 2,
       "version_minor": 0
      },
      "text/plain": [
       "Batches:   0%|          | 0/1 [00:00<?, ?it/s]"
      ]
     },
     "metadata": {},
     "output_type": "display_data"
    },
    {
     "name": "stdout",
     "output_type": "stream",
     "text": [
      "2\n",
      "Les plans, les programmes et les documents d'orientation politique élaborés par la Région, des pouvoirs publics régionaux ou par des pouvoirs publics locaux en matière de logement, de mobilité ou de recherche et d'innovation, ainsi que les plans et programmes visés au CoBAT, s'inscrivent en conformité avec les objectifs poursuivis par le plan régional Air-Climat-énergie Il en va de même des contrats de gestion et autres conventions conclus par la Région avec les pouvoirs publics régionaux\n"
     ]
    }
   ],
   "source": [
    "\n",
    "docs = text_splitter.create_documents([ex_])\n",
    "\n",
    "print(len(docs))\n",
    "print(docs[0].page_content)"
   ]
  },
  {
   "cell_type": "code",
   "execution_count": 10,
   "metadata": {},
   "outputs": [
    {
     "name": "stdout",
     "output_type": "stream",
     "text": [
      "Le plan régional Air-Climat-Energie s'inscrit dans les objectifs du Plan Régional de Développement Durable.\n"
     ]
    }
   ],
   "source": [
    "print(docs[1].page_content)"
   ]
  },
  {
   "cell_type": "markdown",
   "metadata": {},
   "source": [
    "-----------"
   ]
  },
  {
   "cell_type": "code",
   "execution_count": 12,
   "metadata": {},
   "outputs": [],
   "source": [
    "from tqdm.autonotebook import tqdm"
   ]
  },
  {
   "cell_type": "code",
   "execution_count": 15,
   "metadata": {},
   "outputs": [
    {
     "data": {
      "application/vnd.jupyter.widget-view+json": {
       "model_id": "7c8a7d23c5b441c89aec2f019082adc4",
       "version_major": 2,
       "version_minor": 0
      },
      "text/plain": [
       "Chunking articles:   0%|          | 0/22633 [00:00<?, ?it/s]"
      ]
     },
     "metadata": {},
     "output_type": "display_data"
    }
   ],
   "source": [
    "# List to store the chunked articles and metadata\n",
    "chunked_data = []\n",
    "\n",
    "# Iterate over each article in the DataFrame\n",
    "for _, row in tqdm(df_articles.iterrows(), total=len(df_articles), desc=\"Chunking articles\"):\n",
    "    article_text = row['article']\n",
    "    \n",
    "    # Perform chunking with SemanticChunker\n",
    "    docs = text_splitter.create_documents([article_text])\n",
    "    \n",
    "    # Append each chunk with its metadata to the list\n",
    "    for doc in docs:\n",
    "        chunked_data.append({\n",
    "            'article_id': row['id'],\n",
    "            'code': row['code'],\n",
    "            'reference': row['reference'],\n",
    "            'chunk': doc.page_content  # Access the chunk content\n",
    "        })\n",
    "\n",
    "# Create a new DataFrame with the chunked data and metadata\n",
    "df_chunked_articles = pd.DataFrame(chunked_data)"
   ]
  },
  {
   "cell_type": "code",
   "execution_count": 16,
   "metadata": {},
   "outputs": [],
   "source": [
    "df_chunked_articles.to_csv('chunked_articles.csv', index=True)"
   ]
  },
  {
   "cell_type": "markdown",
   "metadata": {},
   "source": [
    "### Load Chunked articles"
   ]
  },
  {
   "cell_type": "code",
   "execution_count": 26,
   "metadata": {},
   "outputs": [
    {
     "data": {
      "text/html": [
       "<div>\n",
       "<style scoped>\n",
       "    .dataframe tbody tr th:only-of-type {\n",
       "        vertical-align: middle;\n",
       "    }\n",
       "\n",
       "    .dataframe tbody tr th {\n",
       "        vertical-align: top;\n",
       "    }\n",
       "\n",
       "    .dataframe thead th {\n",
       "        text-align: right;\n",
       "    }\n",
       "</style>\n",
       "<table border=\"1\" class=\"dataframe\">\n",
       "  <thead>\n",
       "    <tr style=\"text-align: right;\">\n",
       "      <th></th>\n",
       "      <th>Unnamed: 0</th>\n",
       "      <th>article_id</th>\n",
       "      <th>code</th>\n",
       "      <th>reference</th>\n",
       "      <th>chunk</th>\n",
       "    </tr>\n",
       "  </thead>\n",
       "  <tbody>\n",
       "    <tr>\n",
       "      <th>0</th>\n",
       "      <td>0</td>\n",
       "      <td>1</td>\n",
       "      <td>Code Bruxellois de l'Air, du Climat et de la M...</td>\n",
       "      <td>Art. 1.1.1, Code Bruxellois de l'Air, du Clima...</td>\n",
       "      <td>Le présent Code règle une matière visée à l'ar...</td>\n",
       "    </tr>\n",
       "    <tr>\n",
       "      <th>1</th>\n",
       "      <td>1</td>\n",
       "      <td>2</td>\n",
       "      <td>Code Bruxellois de l'Air, du Climat et de la M...</td>\n",
       "      <td>Art. 1.1.2, Code Bruxellois de l'Air, du Clima...</td>\n",
       "      <td>Le présent Code transpose en Région de Bruxell...</td>\n",
       "    </tr>\n",
       "    <tr>\n",
       "      <th>2</th>\n",
       "      <td>2</td>\n",
       "      <td>3</td>\n",
       "      <td>Code Bruxellois de l'Air, du Climat et de la M...</td>\n",
       "      <td>Art. 1.2.1, Code Bruxellois de l'Air, du Clima...</td>\n",
       "      <td>Le présent Code poursuit les objectifs suivant...</td>\n",
       "    </tr>\n",
       "    <tr>\n",
       "      <th>3</th>\n",
       "      <td>3</td>\n",
       "      <td>4</td>\n",
       "      <td>Code Bruxellois de l'Air, du Climat et de la M...</td>\n",
       "      <td>Art. 1.3.1, Code Bruxellois de l'Air, du Clima...</td>\n",
       "      <td>Au sens du présent Code, il faut entendre par ...</td>\n",
       "    </tr>\n",
       "    <tr>\n",
       "      <th>4</th>\n",
       "      <td>4</td>\n",
       "      <td>5</td>\n",
       "      <td>Code Bruxellois de l'Air, du Climat et de la M...</td>\n",
       "      <td>Art. 1.4.1, Code Bruxellois de l'Air, du Clima...</td>\n",
       "      <td>Le plan régional Air-Climat-énergie, ci-après ...</td>\n",
       "    </tr>\n",
       "  </tbody>\n",
       "</table>\n",
       "</div>"
      ],
      "text/plain": [
       "   Unnamed: 0  article_id                                               code  \\\n",
       "0           0           1  Code Bruxellois de l'Air, du Climat et de la M...   \n",
       "1           1           2  Code Bruxellois de l'Air, du Climat et de la M...   \n",
       "2           2           3  Code Bruxellois de l'Air, du Climat et de la M...   \n",
       "3           3           4  Code Bruxellois de l'Air, du Climat et de la M...   \n",
       "4           4           5  Code Bruxellois de l'Air, du Climat et de la M...   \n",
       "\n",
       "                                           reference  \\\n",
       "0  Art. 1.1.1, Code Bruxellois de l'Air, du Clima...   \n",
       "1  Art. 1.1.2, Code Bruxellois de l'Air, du Clima...   \n",
       "2  Art. 1.2.1, Code Bruxellois de l'Air, du Clima...   \n",
       "3  Art. 1.3.1, Code Bruxellois de l'Air, du Clima...   \n",
       "4  Art. 1.4.1, Code Bruxellois de l'Air, du Clima...   \n",
       "\n",
       "                                               chunk  \n",
       "0  Le présent Code règle une matière visée à l'ar...  \n",
       "1  Le présent Code transpose en Région de Bruxell...  \n",
       "2  Le présent Code poursuit les objectifs suivant...  \n",
       "3  Au sens du présent Code, il faut entendre par ...  \n",
       "4  Le plan régional Air-Climat-énergie, ci-après ...  "
      ]
     },
     "execution_count": 26,
     "metadata": {},
     "output_type": "execute_result"
    }
   ],
   "source": [
    "df_chunked_articles = pd.read_csv('chunked_articles.csv')\n",
    "df_chunked_articles.head()"
   ]
  },
  {
   "cell_type": "code",
   "execution_count": 8,
   "metadata": {},
   "outputs": [
    {
     "name": "stdout",
     "output_type": "stream",
     "text": [
      "<class 'pandas.core.frame.DataFrame'>\n",
      "RangeIndex: 29927 entries, 0 to 29926\n",
      "Data columns (total 5 columns):\n",
      " #   Column      Non-Null Count  Dtype \n",
      "---  ------      --------------  ----- \n",
      " 0   Unnamed: 0  29927 non-null  int64 \n",
      " 1   article_id  29927 non-null  int64 \n",
      " 2   code        29927 non-null  object\n",
      " 3   reference   29927 non-null  object\n",
      " 4   chunk       29925 non-null  object\n",
      "dtypes: int64(2), object(3)\n",
      "memory usage: 1.1+ MB\n"
     ]
    }
   ],
   "source": [
    "df_chunked_articles.info()"
   ]
  },
  {
   "cell_type": "code",
   "execution_count": 28,
   "metadata": {},
   "outputs": [],
   "source": [
    "# Convert all entries in the 'chunk' column to strings\n",
    "df_chunked_articles['chunk'] = df_chunked_articles['chunk'].astype(str)\n",
    "\n",
    "# Now calculate the length of each chunk\n",
    "chunk_len = [len(chunk.split()) for chunk in df_chunked_articles['chunk']]\n",
    "\n"
   ]
  },
  {
   "cell_type": "code",
   "execution_count": 17,
   "metadata": {},
   "outputs": [
    {
     "data": {
      "image/png": "[encoded data removed]",
      "text/plain": [
       "<Figure size 1000x600 with 1 Axes>"
      ]
     },
     "metadata": {},
     "output_type": "display_data"
    }
   ],
   "source": [
    "# Plotting the histogram\n",
    "plt.figure(figsize=(10, 6))\n",
    "plt.hist(chunk_len, bins=30, color='blue', edgecolor='black')\n",
    "plt.title('Histogram of Chunk Lengths')\n",
    "plt.xlabel('Length of Chunk')\n",
    "plt.ylabel('Frequency')\n",
    "plt.grid(True)\n",
    "plt.show()"
   ]
  },
  {
   "cell_type": "code",
   "execution_count": 25,
   "metadata": {},
   "outputs": [
    {
     "name": "stdout",
     "output_type": "stream",
     "text": [
      "[187, 187, 187, 187, 187, 187, 187, 187, 187, 187, 187, 187, 187, 187, 187, 187, 187, 187, 187, 187, 188, 188, 188, 188, 188, 188, 188, 188, 188, 188, 188, 188, 188, 188, 188, 188, 188, 188, 188, 188, 188, 188, 188, 188, 188, 188, 188, 188, 188, 188, 188, 188, 188, 188, 188, 189, 189, 189, 189, 189, 189, 189, 189, 189, 189, 189, 189, 189, 189, 189, 189, 189, 189, 189, 189, 189, 189, 189, 189, 189, 190, 190, 190, 190, 190, 190, 190, 190, 190, 190, 190, 190, 190, 190, 190, 190, 190, 190, 190, 190, 190, 190, 190, 190, 190, 190, 190, 191, 191, 191, 191, 191, 191, 191, 191, 191, 191, 191, 191, 191, 191, 191, 191, 191, 191, 191, 191, 191, 191, 191, 191, 191, 191, 191, 191, 191, 191, 191, 191, 191, 191, 191, 191, 191, 191, 191, 191, 191, 191, 192, 192, 192, 192, 192, 192, 192, 192, 192, 192, 192, 192, 192, 192, 192, 192, 192, 192, 192, 192, 192, 192, 192, 192, 192, 192, 192, 192, 192, 192, 192, 192, 193, 193, 193, 193, 193, 193, 193, 193, 193, 193, 193, 193, 193, 193, 193, 193, 193, 193, 193, 193, 193, 193, 193, 193, 193, 193, 193, 193, 194, 194, 194, 194, 194, 194, 194, 194, 194, 194, 194, 194, 194, 194, 194, 194, 194, 194, 194, 194, 194, 194, 194, 194, 194, 194, 194, 194, 194, 194, 194, 194, 194, 194, 194, 194, 194, 194, 194, 194, 194, 195, 195, 195, 195, 195, 195, 195, 195, 195, 195, 195, 195, 195, 195, 195, 195, 195, 195, 195, 195, 195, 195, 195, 195, 195, 195, 195, 195, 195, 195, 195, 195, 195, 195, 195, 195, 196, 196, 196, 196, 196, 196, 196, 196, 196, 196, 196, 196, 196, 196, 196, 196, 196, 196, 196, 196, 196, 196, 196, 196, 196, 196, 196, 196, 196, 196, 196, 196, 196, 196, 196, 196, 196, 197, 197, 197, 197, 197, 197, 197, 197, 197, 197, 197, 197, 197, 197, 197, 197, 197, 197, 197, 197, 197, 197, 197, 197, 197, 197, 197, 197, 197, 197, 198, 198, 198, 198, 198, 198, 198, 198, 198, 198, 198, 198, 198, 198, 198, 198, 198, 198, 198, 198, 198, 198, 198, 198, 198, 198, 198, 198, 198, 198, 198, 198, 198, 198, 199, 199, 199, 199, 199, 199, 199, 199, 199, 199, 199, 199, 199, 199, 199, 199, 199, 199, 199, 199, 199, 199, 199, 199, 199, 199, 199, 199, 200, 200, 200, 200, 200, 200, 200, 200, 200, 200, 200, 200, 200, 200, 200, 200, 200, 200, 200, 200, 200, 200, 200, 200, 200, 200, 200, 200, 200, 200, 200, 200, 200, 200, 200, 200, 200, 200, 201, 201, 201, 201, 201, 201, 201, 201, 201, 201, 201, 201, 201, 201, 201, 201, 201, 201, 201, 201, 201, 201, 201, 201, 201, 201, 201, 201, 201, 201, 201, 201, 201, 201, 201, 201, 201, 201, 201, 201, 201, 202, 202, 202, 202, 202, 202, 202, 202, 202, 202, 202, 202, 202, 202, 202, 202, 202, 202, 202, 202, 202, 202, 202, 202, 202, 202, 203, 203, 203, 203, 203, 203, 203, 203, 203, 203, 203, 203, 203, 203, 203, 203, 203, 203, 203, 203, 203, 203, 203, 203, 203, 203, 203, 203, 204, 204, 204, 204, 204, 204, 204, 204, 204, 204, 204, 204, 204, 204, 204, 204, 204, 204, 204, 204, 204, 204, 204, 204, 204, 204, 204, 204, 204, 204, 204, 204, 204, 204, 204, 204, 204, 205, 205, 205, 205, 205, 205, 205, 205, 205, 205, 205, 205, 205, 205, 205, 205, 205, 205, 205, 205, 205, 205, 206, 206, 206, 206, 206, 206, 206, 206, 206, 206, 206, 206, 206, 206, 206, 206, 206, 206, 206, 206, 206, 206, 206, 206, 206, 206, 206, 206, 206, 207, 207, 207, 207, 207, 207, 207, 207, 207, 207, 207, 207, 207, 207, 207, 207, 207, 207, 207, 207, 207, 208, 208, 208, 208, 208, 208, 208, 208, 208, 208, 208, 208, 208, 208, 208, 208, 208, 208, 208, 208, 208, 208, 208, 208, 208, 208, 208, 208, 209, 209, 209, 209, 209, 209, 209, 209, 209, 209, 209, 209, 209, 209, 209, 209, 209, 209, 209, 209, 209, 209, 209, 209, 209, 209, 210, 210, 210, 210, 210, 210, 210, 210, 210, 210, 210, 210, 210, 210, 210, 210, 210, 210, 210, 210, 210, 210, 210, 210, 210, 210, 210, 210, 210, 210, 210, 210, 210, 210, 210, 210, 210, 211, 211, 211, 211, 211, 211, 211, 211, 211, 211, 211, 211, 211, 211, 211, 211, 211, 211, 211, 211, 211, 211, 211, 211, 211, 211, 211, 211, 211, 211, 212, 212, 212, 212, 212, 212, 212, 212, 212, 212, 212, 212, 212, 212, 212, 212, 213, 213, 213, 213, 213, 213, 213, 213, 213, 213, 213, 214, 214, 214, 214, 214, 214, 214, 214, 214, 214, 214, 214, 214, 214, 214, 214, 214, 214, 214, 214, 215, 215, 215, 215, 215, 215, 215, 215, 215, 215, 215, 215, 215, 215, 215, 215, 215, 215, 215, 215, 215, 215, 215, 215, 215, 215, 215, 215, 216, 216, 216, 216, 216, 216, 216, 216, 216, 216, 216, 216, 216, 216, 216, 216, 216, 216, 216, 216, 216, 216, 216, 216, 216, 216, 216, 216, 216, 217, 217, 217, 217, 217, 217, 217, 217, 217, 217, 217, 217, 217, 217, 217, 217, 217, 217, 217, 217, 217, 217, 217, 217, 217, 217, 217, 217, 218, 218, 218, 218, 218, 218, 218, 218, 218, 218, 218, 218, 218, 218, 218, 218, 218, 218, 218, 218, 218, 218, 218, 218, 218, 219, 219, 219, 219, 219, 219, 219, 219, 219, 219, 219, 219, 219, 219, 219, 219, 219, 219, 219, 219, 219, 219, 220, 220, 220, 220, 220, 220, 220, 220, 220, 220, 220, 220, 220, 220, 220, 220, 220, 220, 220, 220, 220, 221, 221, 221, 221, 221, 221, 221, 221, 221, 221, 221, 221, 221, 221, 221, 221, 221, 221, 221, 221, 221, 221, 221, 221, 221, 221, 221, 222, 222, 222, 222, 222, 222, 222, 222, 222, 222, 222, 222, 222, 222, 222, 223, 223, 223, 223, 223, 223, 223, 223, 223, 223, 223, 223, 223, 223, 223, 223, 223, 223, 223, 224, 224, 224, 224, 224, 224, 224, 224, 224, 224, 224, 224, 224, 224, 224, 224, 224, 224, 224, 224, 224, 224, 224, 224, 225, 225, 225, 225, 225, 225, 225, 225, 225, 225, 225, 225, 225, 225, 225, 225, 225, 225, 225, 225, 225, 225, 225, 225, 225, 225, 225, 226, 226, 226, 226, 226, 226, 226, 226, 226, 226, 226, 226, 226, 226, 226, 226, 226, 226, 226, 226, 226, 226, 226, 226, 226, 226, 226, 227, 227, 227, 227, 227, 227, 227, 227, 227, 227, 227, 227, 227, 227, 227, 227, 227, 227, 227, 227, 227, 227, 227, 227, 228, 228, 228, 228, 228, 228, 228, 228, 228, 228, 228, 228, 229, 229, 229, 229, 229, 229, 229, 229, 229, 229, 229, 229, 229, 229, 229, 229, 229, 229, 229, 230, 230, 230, 230, 230, 230, 230, 230, 230, 230, 230, 230, 230, 230, 230, 230, 230, 230, 230, 230, 230, 230, 230, 230, 230, 230, 230, 230, 230, 230, 230, 230, 230, 231, 231, 231, 231, 231, 231, 231, 231, 231, 231, 231, 231, 231, 231, 231, 231, 231, 231, 231, 232, 232, 232, 232, 232, 232, 232, 232, 232, 232, 232, 232, 232, 232, 232, 232, 232, 232, 232, 232, 232, 232, 232, 232, 232, 232, 233, 233, 233, 233, 233, 233, 233, 233, 233, 233, 233, 233, 233, 233, 233, 233, 233, 233, 233, 233, 233, 233, 233, 233, 234, 234, 234, 234, 234, 234, 234, 234, 234, 234, 234, 234, 234, 235, 235, 235, 235, 235, 235, 235, 235, 235, 235, 235, 235, 235, 235, 236, 236, 236, 236, 236, 236, 236, 236, 236, 236, 236, 236, 236, 236, 236, 236, 236, 236, 236, 236, 236, 236, 236, 236, 236, 236, 236, 236, 237, 237, 237, 237, 237, 237, 237, 237, 237, 237, 237, 237, 237, 237, 237, 237, 237, 238, 238, 238, 238, 238, 238, 238, 238, 238, 238, 238, 238, 238, 238, 238, 238, 238, 238, 238, 238, 239, 239, 239, 239, 239, 239, 239, 239, 239, 239, 239, 239, 239, 239, 239, 239, 239, 239, 239, 239, 239, 240, 240, 240, 240, 240, 240, 240, 240, 240, 240, 240, 240, 240, 240, 240, 240, 240, 240, 240, 240, 240, 241, 241, 241, 241, 241, 241, 241, 241, 241, 241, 241, 241, 241, 241, 241, 241, 241, 242, 242, 242, 242, 242, 242, 242, 242, 242, 242, 242, 242, 242, 242, 242, 242, 242, 243, 243, 243, 243, 243, 243, 243, 243, 243, 243, 243, 243, 243, 243, 243, 243, 243, 243, 243, 243, 243, 243, 243, 243, 243, 243, 244, 244, 244, 244, 244, 244, 244, 244, 244, 244, 244, 244, 244, 244, 244, 244, 244, 244, 244, 245, 245, 245, 245, 245, 245, 245, 245, 245, 245, 245, 245, 245, 245, 245, 245, 245, 245, 245, 245, 245, 245, 246, 246, 246, 246, 246, 246, 246, 246, 246, 246, 246, 246, 246, 246, 246, 246, 246, 246, 246, 246, 247, 247, 247, 247, 247, 247, 247, 247, 247, 247, 247, 247, 248, 248, 248, 248, 248, 248, 248, 248, 248, 248, 248, 248, 248, 248, 248, 248, 248, 248, 248, 249, 249, 249, 249, 249, 249, 249, 249, 249, 249, 249, 249, 249, 249, 249, 249, 249, 250, 250, 250, 250, 250, 250, 250, 250, 250, 250, 250, 250, 250, 250, 250, 250, 250, 250, 250, 251, 251, 251, 251, 251, 251, 251, 251, 251, 251, 251, 251, 251, 251, 251, 252, 252, 252, 252, 252, 252, 252, 252, 252, 252, 252, 252, 252, 252, 252, 252, 252, 252, 252, 252, 252, 253, 253, 253, 253, 253, 253, 253, 253, 253, 253, 253, 253, 253, 254, 254, 254, 254, 254, 254, 254, 254, 254, 254, 254, 254, 255, 255, 255, 255, 255, 255, 255, 255, 255, 255, 256, 256, 256, 256, 256, 256, 256, 256, 256, 256, 256, 256, 256, 256, 256, 256, 256, 256, 256, 256, 256, 257, 257, 257, 257, 257, 257, 257, 257, 257, 257, 257, 257, 257, 257, 257, 258, 258, 258, 258, 258, 258, 258, 258, 258, 259, 259, 259, 259, 259, 259, 259, 259, 259, 260, 260, 260, 260, 260, 260, 260, 260, 260, 260, 260, 260, 260, 260, 260, 261, 261, 261, 261, 261, 261, 261, 261, 261, 261, 261, 261, 261, 261, 261, 261, 262, 262, 262, 262, 262, 262, 262, 262, 262, 262, 262, 262, 262, 262, 262, 262, 263, 263, 263, 263, 263, 263, 263, 263, 263, 263, 263, 263, 263, 263, 263, 263, 263, 263, 263, 263, 264, 264, 264, 264, 264, 264, 264, 264, 264, 264, 264, 264, 264, 264, 264, 264, 264, 264, 264, 264, 264, 265, 265, 265, 265, 265, 265, 266, 266, 266, 266, 266, 266, 266, 266, 266, 266, 267, 267, 267, 267, 267, 267, 267, 267, 267, 267, 267, 267, 267, 268, 268, 268, 268, 268, 268, 268, 268, 268, 268, 268, 268, 268, 268, 268, 268, 268, 269, 269, 269, 269, 269, 269, 269, 269, 269, 269, 269, 269, 269, 269, 269, 269, 269, 270, 270, 270, 270, 270, 270, 270, 270, 270, 270, 270, 270, 270, 271, 271, 271, 271, 271, 271, 271, 271, 271, 271, 271, 271, 271, 271, 272, 272, 272, 272, 272, 272, 272, 272, 272, 272, 272, 273, 273, 273, 273, 273, 273, 273, 273, 273, 273, 273, 273, 273, 274, 274, 274, 274, 274, 274, 274, 274, 274, 274, 274, 274, 274, 274, 274, 274, 274, 274, 274, 275, 275, 275, 275, 275, 275, 276, 276, 276, 276, 276, 276, 276, 276, 276, 276, 276, 276, 276, 276, 276, 276, 277, 277, 277, 277, 277, 277, 277, 277, 277, 277, 278, 278, 278, 278, 278, 278, 278, 278, 278, 278, 278, 278, 279, 279, 279, 279, 279, 279, 279, 279, 279, 279, 279, 279, 280, 280, 280, 280, 280, 280, 280, 280, 280, 280, 280, 280, 280, 280, 280, 280, 281, 281, 281, 281, 281, 281, 281, 281, 281, 281, 281, 281, 281, 281, 281, 281, 282, 282, 282, 282, 282, 282, 282, 282, 282, 282, 282, 282, 282, 282, 283, 283, 283, 283, 283, 283, 283, 283, 283, 283, 283, 283, 283, 283, 283, 284, 284, 284, 284, 284, 284, 284, 284, 284, 284, 285, 285, 285, 285, 285, 285, 285, 285, 285, 285, 285, 285, 285, 285, 285, 286, 286, 286, 286, 286, 286, 286, 286, 286, 286, 286, 286, 286, 287, 287, 287, 287, 287, 287, 287, 287, 287, 287, 287, 287, 287, 288, 288, 288, 288, 288, 288, 288, 288, 288, 288, 288, 288, 288, 288, 289, 289, 289, 289, 289, 289, 289, 289, 289, 289, 290, 290, 290, 290, 290, 290, 290, 290, 290, 290, 290, 290, 290, 291, 291, 291, 291, 291, 291, 291, 291, 291, 291, 291, 292, 292, 292, 292, 292, 292, 292, 292, 292, 292, 292, 292, 292, 293, 293, 293, 293, 293, 293, 293, 293, 293, 293, 293, 294, 294, 294, 294, 294, 294, 294, 294, 295, 295, 295, 295, 295, 295, 295, 295, 296, 296, 296, 296, 296, 296, 296, 296, 296, 297, 297, 297, 297, 297, 297, 297, 297, 297, 298, 298, 298, 298, 298, 298, 298, 298, 298, 298, 298, 298, 299, 299, 299, 299, 299, 299, 299, 299, 299, 299, 300, 300, 300, 300, 300, 300, 300, 301, 301, 301, 301, 301, 301, 301, 301, 301, 301, 301, 301, 301, 301, 302, 302, 302, 302, 302, 302, 302, 302, 302, 302, 302, 303, 303, 303, 303, 303, 303, 303, 303, 303, 303, 303, 303, 303, 303, 304, 304, 304, 304, 304, 304, 304, 304, 304, 304, 305, 305, 305, 305, 305, 305, 305, 305, 306, 306, 306, 306, 306, 306, 306, 306, 306, 306, 307, 307, 307, 307, 307, 307, 307, 307, 307, 307, 307, 307, 307, 308, 308, 308, 308, 308, 308, 308, 308, 308, 308, 308, 308, 308, 308, 308, 308, 309, 309, 309, 309, 309, 309, 309, 309, 309, 309, 310, 310, 310, 310, 310, 311, 311, 311, 311, 311, 311, 311, 311, 311, 311, 311, 311, 311, 312, 312, 312, 312, 312, 313, 313, 313, 313, 313, 313, 313, 313, 313, 313, 313, 313, 314, 314, 314, 314, 314, 314, 314, 315, 315, 315, 315, 315, 315, 315, 315, 316, 316, 316, 316, 316, 316, 316, 316, 316, 316, 317, 317, 317, 317, 317, 317, 317, 317, 318, 318, 318, 318, 318, 318, 318, 318, 318, 318, 318, 318, 318, 318, 318, 318, 318, 319, 319, 319, 319, 319, 319, 319, 319, 319, 319, 320, 320, 320, 320, 320, 320, 320, 320, 320, 321, 321, 321, 321, 321, 321, 322, 322, 322, 322, 322, 322, 322, 322, 323, 323, 323, 323, 323, 323, 323, 323, 323, 323, 323, 323, 323, 323, 323, 324, 324, 324, 324, 324, 324, 324, 324, 324, 324, 324, 324, 324, 325, 325, 325, 325, 325, 325, 326, 326, 326, 326, 326, 326, 326, 326, 326, 327, 327, 327, 327, 327, 328, 328, 328, 328, 328, 328, 328, 328, 329, 329, 329, 329, 329, 329, 329, 329, 329, 329, 329, 329, 329, 330, 330, 330, 330, 330, 330, 330, 330, 331, 331, 331, 331, 331, 331, 331, 331, 331, 331, 331, 331, 332, 332, 332, 332, 332, 332, 332, 332, 332, 333, 333, 333, 333, 333, 333, 333, 333, 333, 333, 333, 334, 334, 334, 334, 334, 335, 335, 335, 335, 335, 335, 335, 335, 335, 336, 336, 336, 336, 336, 336, 336, 336, 336, 336, 336, 336, 337, 337, 337, 337, 337, 338, 338, 338, 338, 338, 338, 338, 338, 338, 338, 338, 338, 338, 339, 339, 339, 339, 339, 339, 340, 340, 340, 340, 340, 340, 340, 340, 340, 340, 341, 341, 341, 341, 341, 341, 341, 342, 342, 342, 342, 342, 342, 342, 343, 343, 343, 343, 343, 343, 343, 344, 344, 344, 344, 344, 344, 344, 345, 345, 345, 345, 345, 345, 345, 345, 345, 346, 346, 346, 346, 346, 346, 346, 346, 347, 347, 347, 347, 348, 348, 348, 348, 348, 348, 348, 349, 349, 349, 349, 349, 350, 350, 350, 350, 350, 350, 350, 350, 350, 350, 350, 350, 351, 351, 351, 351, 351, 352, 352, 352, 352, 352, 353, 353, 353, 353, 353, 353, 353, 353, 353, 354, 354, 354, 354, 354, 354, 354, 355, 355, 355, 355, 355, 355, 355, 356, 356, 356, 356, 356, 356, 356, 356, 356, 357, 357, 357, 357, 357, 357, 357, 358, 358, 358, 358, 358, 358, 358, 359, 359, 359, 359, 359, 360, 360, 360, 360, 360, 360, 360, 360, 360, 360, 361, 361, 361, 361, 361, 361, 361, 361, 361, 361, 361, 362, 362, 362, 362, 362, 362, 362, 362, 363, 363, 363, 363, 363, 363, 363, 363, 363, 363, 364, 364, 364, 364, 364, 364, 364, 365, 365, 365, 365, 365, 365, 365, 365, 365, 365, 365, 365, 366, 366, 366, 366, 366, 367, 367, 367, 368, 368, 368, 368, 368, 368, 368, 368, 369, 369, 369, 369, 369, 369, 369, 369, 369, 370, 370, 370, 370, 370, 370, 370, 370, 371, 371, 371, 371, 371, 371, 371, 371, 371, 371, 372, 372, 372, 372, 372, 372, 372, 372, 373, 373, 373, 373, 373, 374, 374, 374, 374, 375, 375, 375, 375, 375, 375, 375, 375, 376, 376, 376, 376, 376, 376, 376, 376, 376, 376, 376, 376, 376, 377, 377, 377, 377, 377, 377, 377, 378, 378, 379, 379, 379, 379, 379, 380, 380, 380, 380, 380, 380, 381, 381, 381, 381, 381, 381, 381, 381, 382, 382, 382, 382, 382, 382, 382, 382, 382, 382, 383, 383, 383, 383, 384, 384, 384, 384, 384, 384, 384, 384, 384, 384, 384, 384, 385, 385, 386, 386, 386, 386, 386, 387, 387, 387, 387, 387, 387, 387, 388, 388, 388, 388, 389, 389, 389, 390, 390, 391, 391, 391, 391, 391, 392, 392, 392, 392, 392, 392, 392, 392, 393, 393, 393, 393, 393, 394, 394, 394, 394, 394, 394, 395, 395, 395, 395, 395, 396, 396, 396, 396, 396, 396, 396, 396, 396, 397, 397, 397, 397, 397, 397, 398, 398, 398, 399, 399, 399, 399, 399, 400, 400, 400, 400, 400, 401, 401, 401, 401, 401, 401, 401, 401, 402, 402, 402, 402, 403, 403, 403, 403, 403, 403, 403, 403, 403, 403, 404, 404, 404, 404, 404, 404, 404, 404, 405, 405, 405, 405, 405, 405, 405, 405, 405, 405, 405, 406, 406, 406, 406, 406, 406, 407, 407, 407, 407, 407, 407, 407, 407, 407, 408, 408, 408, 408, 409, 409, 409, 409, 409, 409, 410, 410, 410, 410, 410, 410, 411, 411, 411, 411, 412, 412, 412, 412, 412, 412, 413, 413, 413, 414, 414, 414, 415, 415, 415, 415, 416, 416, 416, 416, 416, 416, 416, 416, 417, 417, 418, 418, 418, 419, 419, 419, 419, 419, 419, 420, 420, 421, 421, 421, 421, 421, 421, 421, 422, 422, 423, 423, 423, 423, 423, 423, 424, 424, 424, 424, 424, 425, 425, 425, 425, 425, 426, 426, 426, 426, 426, 426, 426, 427, 427, 427, 427, 428, 428, 428, 428, 429, 429, 429, 429, 429, 429, 430, 430, 430, 430, 431, 431, 431, 431, 432, 432, 432, 432, 432, 432, 432, 433, 433, 433, 433, 434, 434, 434, 434, 435, 435, 435, 435, 436, 436, 436, 437, 437, 437, 437, 437, 437, 438, 438, 438, 439, 439, 439, 439, 440, 440, 440, 440, 440, 440, 441, 441, 442, 442, 443, 443, 443, 444, 444, 444, 444, 445, 445, 445, 445, 445, 446, 446, 446, 446, 447, 447, 447, 448, 448, 448, 449, 450, 450, 450, 451, 451, 452, 452, 452, 452, 453, 453, 453, 455, 455, 456, 456, 457, 457, 457, 457, 457, 457, 458, 459, 459, 460, 460, 460, 460, 461, 462, 462, 463, 463, 464, 464, 465, 465, 466, 466, 467, 467, 467, 467, 468, 468, 468, 469, 469, 469, 470, 470, 471, 472, 472, 472, 472, 472, 472, 472, 473, 473, 474, 474, 474, 474, 474, 475, 475, 476, 476, 476, 477, 477, 477, 477, 478, 478, 478, 479, 479, 479, 479, 480, 481, 481, 481, 481, 482, 482, 483, 483, 484, 484, 484, 484, 485, 485, 485, 486, 486, 487, 487, 487, 487, 488, 489, 489, 489, 490, 490, 490, 490, 491, 491, 491, 491, 492, 492, 492, 493, 494, 495, 496, 497, 498, 498, 498, 498, 499, 499, 499, 499, 499, 500, 500, 500, 500, 500, 500, 501, 501, 501, 501, 501, 502, 503, 503, 503, 503, 503, 503, 503, 504, 504, 504, 504, 506, 506, 507, 507, 508, 508, 508, 508, 508, 509, 510, 511, 511, 511, 512, 512, 512, 512, 513, 513, 515, 515, 516, 516, 517, 517, 517, 517, 517, 518, 518, 518, 519, 519, 519, 519, 519, 520, 520, 520, 520, 521, 521, 521, 521, 522, 522, 522, 523, 523, 523, 524, 524, 524, 524, 524, 524, 525, 525, 525, 526, 526, 527, 527, 527, 528, 528, 528, 528, 529, 529, 530, 530, 531, 531, 531, 531, 531, 531, 532, 532, 532, 533, 533, 534, 534, 534, 534, 535, 535, 535, 536, 536, 537, 537, 537, 538, 538, 539, 540, 540, 540, 541, 541, 542, 542, 543, 543, 543, 544, 544, 544, 544, 545, 545, 546, 547, 547, 548, 549, 549, 550, 550, 550, 550, 550, 551, 551, 552, 552, 553, 554, 554, 554, 554, 555, 555, 555, 557, 558, 558, 558, 558, 559, 559, 560, 560, 560, 560, 560, 561, 561, 561, 561, 561, 562, 562, 562, 563, 563, 564, 564, 564, 565, 566, 567, 569, 569, 569, 571, 572, 573, 573, 573, 573, 573, 574, 576, 576, 576, 577, 579, 579, 579, 579, 580, 581, 581, 581, 581, 581, 582, 583, 585, 585, 585, 586, 586, 587, 587, 587, 588, 591, 591, 593, 593, 596, 596, 597, 598, 599, 599, 599, 600, 600, 602, 603, 604, 604, 605, 607, 607, 607, 607, 608, 610, 610, 612, 612, 614, 614, 614, 615, 615, 616, 616, 617, 617, 617, 618, 618, 618, 619, 619, 620, 620, 622, 623, 624, 624, 625, 625, 627, 627, 628, 629, 631, 631, 632, 632, 633, 633, 634, 634, 635, 635, 636, 637, 637, 638, 639, 639, 640, 641, 642, 642, 643, 643, 647, 648, 648, 648, 648, 649, 650, 651, 651, 652, 653, 653, 654, 655, 655, 655, 655, 656, 657, 658, 660, 661, 661, 662, 663, 663, 664, 664, 664, 664, 665, 665, 665, 666, 668, 669, 670, 671, 672, 674, 674, 675, 676, 677, 678, 679, 679, 683, 684, 685, 686, 687, 687, 688, 688, 689, 689, 690, 691, 692, 692, 692, 695, 696, 696, 697, 698, 701, 701, 701, 701, 702, 703, 704, 704, 705, 706, 706, 707, 708, 708, 709, 711, 711, 711, 712, 712, 712, 712, 713, 713, 714, 715, 716, 716, 717, 718, 718, 718, 719, 720, 720, 724, 725, 726, 727, 727, 728, 728, 729, 730, 731, 733, 733, 734, 738, 739, 739, 739, 740, 741, 742, 742, 743, 745, 746, 746, 750, 751, 751, 752, 752, 754, 757, 759, 763, 764, 769, 770, 771, 771, 772, 774, 775, 776, 777, 777, 781, 782, 785, 785, 786, 788, 788, 788, 789, 791, 797, 797, 798, 800, 803, 805, 806, 809, 816, 818, 821, 824, 832, 834, 834, 835, 839, 840, 853, 861, 863, 864, 865, 866, 868, 871, 882, 885, 886, 887, 895, 895, 895, 905, 910, 912, 912, 913, 918, 920, 922, 923, 925, 928, 930, 931, 935, 937, 952, 957, 965, 974, 984, 988, 994, 995, 1005, 1016, 1017, 1025, 1026, 1035, 1041, 1043, 1052, 1054, 1056, 1059, 1059, 1063, 1066, 1068, 1079, 1092, 1094, 1104, 1112, 1113, 1114, 1123, 1124, 1135, 1151, 1156, 1157, 1160, 1169, 1175, 1175, 1187, 1187, 1188, 1192, 1200, 1211, 1221, 1248, 1256, 1257, 1280, 1284, 1305, 1327, 1362, 1432, 1470, 1512, 1526, 1572, 1572, 1599, 1625, 1694, 1711, 1728, 1731, 1840, 1843, 2048, 2102, 2217, 2249, 2358, 2471, 2677, 3424, 4602, 5746]\n"
     ]
    }
   ],
   "source": [
    "sorted_chunk_len = sorted(chunk_len)\n",
    "max = sorted_chunk_len[-4000:]\n",
    "print(max)"
   ]
  },
  {
   "cell_type": "code",
   "execution_count": 27,
   "metadata": {},
   "outputs": [
    {
     "name": "stdout",
     "output_type": "stream",
     "text": [
      "580\n"
     ]
    }
   ],
   "source": [
    "# number of chunks that length is greater than 100\n",
    "chunk_500 = sum(i > 500 for i in chunk_len)\n",
    "print(chunk_500)\n"
   ]
  },
  {
   "cell_type": "code",
   "execution_count": 14,
   "metadata": {},
   "outputs": [],
   "source": [
    "# count the number of articles_ids that is count greater than 2\n",
    "ids_articles = df_chunked_articles['article_id'].value_counts()\n",
    "ids_articles = ids_articles[ids_articles > 2]\n"
   ]
  },
  {
   "cell_type": "code",
   "execution_count": 13,
   "metadata": {},
   "outputs": [
    {
     "data": {
      "image/png": "[encoded data removed]",
      "text/plain": [
       "<Figure size 800x400 with 1 Axes>"
      ]
     },
     "metadata": {},
     "output_type": "display_data"
    }
   ],
   "source": [
    "# display on graph the number of articles_ids that is count greater than 2\n",
    "\n",
    "plt.figure(figsize=(8, 4))\n",
    "plt.hist(ids_articles, bins=30, color='blue', edgecolor='black')\n",
    "plt.title('Histogram of Articles Ids that have more than 2 Chunks')\n",
    "plt.xlabel('Number of Articles')\n",
    "plt.ylabel('Frequency')\n",
    "plt.grid(True)\n",
    "plt.show()\n"
   ]
  },
  {
   "cell_type": "code",
   "execution_count": 16,
   "metadata": {},
   "outputs": [
    {
     "data": {
      "image/png": "[encoded data removed]",
      "text/plain": [
       "<Figure size 800x400 with 1 Axes>"
      ]
     },
     "metadata": {},
     "output_type": "display_data"
    }
   ],
   "source": [
    "# display on graph the number of articles_ids that is count greater than 2\n",
    "\n",
    "plt.figure(figsize=(8, 4))\n",
    "plt.hist(ids_articles, bins=30, color='blue', edgecolor='black')\n",
    "plt.title('Histogram of Articles Ids that have more than 3 Chunks')\n",
    "plt.xlabel('Number of Articles')\n",
    "plt.ylabel('Frequency')\n",
    "plt.grid(True)\n",
    "plt.show()"
   ]
  },
  {
   "cell_type": "code",
   "execution_count": 20,
   "metadata": {},
   "outputs": [
    {
     "name": "stdout",
     "output_type": "stream",
     "text": [
      "604\n"
     ]
    }
   ],
   "source": [
    "# number of chunks that length is less than 100\n",
    "chunk_100 = sum(i < 10 for i in chunk_len)\n",
    "print(chunk_100)"
   ]
  },
  {
   "cell_type": "code",
   "execution_count": 22,
   "metadata": {},
   "outputs": [
    {
     "name": "stdout",
     "output_type": "stream",
     "text": [
      "[1, 9, 2, 2, 2, 1, 1, 2, 1, 1, 1, 1, 1, 1, 5, 3, 1, 1, 1, 1, 1, 1, 1, 1, 1, 9, 9, 8, 1, 1, 1, 2, 1, 1, 1, 1, 5, 1, 1, 1, 8, 1, 1, 1, 1, 1, 1, 1, 1, 1, 1, 1, 1, 8, 6, 1, 6, 5, 2, 3, 9, 3, 8, 1, 9, 2, 3, 1, 1, 9, 1, 9, 2, 6, 2, 7, 8, 2, 7, 7, 7, 1, 2, 9, 7, 8, 1, 1, 9, 6, 1, 1, 1, 1, 9, 8, 7, 8, 7, 2, 6, 9, 1, 1, 5, 8, 8, 7, 8, 5, 8, 5, 9, 9, 6, 7, 6, 9, 9, 9, 8, 7, 1, 9, 9, 6, 1, 8, 7, 6, 6, 7, 1, 1, 2, 3, 6, 6, 7, 2, 8, 9, 1, 9, 3, 4, 2, 2, 2, 2, 7, 2, 1, 9, 2, 8, 1, 8, 8, 2, 1, 1, 1, 3, 3, 2, 6, 2, 2, 1, 1, 1, 5, 9, 8, 8, 9, 2, 7, 1, 8, 9, 8, 9, 8, 9, 8, 5, 7, 8, 4, 8, 6, 1, 1, 6, 2, 2, 2, 2, 8, 6, 8, 9, 8, 4, 8, 9, 9, 2, 2, 2, 9, 5, 8, 8, 8, 2, 2, 1, 8, 9, 7, 3, 8, 7, 5, 1, 3, 3, 1, 9, 9, 7, 7, 7, 4, 9, 9, 8, 3, 2, 1, 5, 8, 2, 2, 1, 7, 9, 2, 4, 7, 1, 2, 9, 1, 1, 2, 8, 9, 1, 2, 2, 9, 1, 1, 1, 1, 1, 8, 9, 9, 8, 1, 8, 8, 7, 7, 1, 1, 8, 8, 8, 1, 2, 7, 9, 1, 4, 1, 6, 9, 8, 2, 9, 2, 8, 9, 2, 2, 8, 4, 5, 2, 2, 1, 9, 7, 9, 9, 3, 3, 3, 9, 4, 4, 5, 9, 9, 2, 9, 9, 2, 2, 6, 2, 7, 9, 1, 1, 2, 5, 9, 6, 6, 9, 4, 4, 4, 4, 1, 2, 6, 6, 6, 6, 9, 9, 8, 6, 1, 1, 8, 5, 8, 1, 3, 5, 1, 6, 9, 7, 7, 9, 9, 5, 7, 9, 9, 1, 2, 7, 3, 7, 7, 8, 8, 8, 5, 6, 7, 2, 2, 2, 9, 9, 3, 1, 4, 7, 4, 1, 8, 8, 2, 6, 3, 3, 2, 7, 8, 9, 3, 8, 5, 5, 4, 8, 2, 5, 3, 1, 2, 4, 3, 2, 9, 7, 6, 8, 6, 3, 1, 8, 2, 2, 3, 2, 6, 8, 4, 1, 1, 7, 1, 3, 1, 4, 2, 5, 6, 9, 9, 1, 7, 7, 1, 2, 2, 2, 2, 9, 9, 7, 2, 5, 5, 2, 3, 3, 7, 1, 1, 5, 9, 1, 9, 9, 2, 6, 5, 8, 4, 9, 2, 9, 3, 9, 2, 8, 8, 6, 3, 4, 6, 6, 2, 2, 3, 3, 3, 1, 1, 1, 1, 7, 6, 6, 6, 1, 8, 2, 7, 2, 1, 2, 2, 2, 1, 8, 1, 5, 3, 7, 9, 1, 9, 7, 2, 3, 1, 2, 9, 7, 1, 1, 7, 4, 6, 7, 2, 1, 1, 8, 2, 9, 2, 8, 7, 8, 9, 9, 4, 4, 9, 9, 9, 2, 9, 6, 2, 8, 7, 7, 2, 8, 8, 7, 9, 1, 5, 5, 5, 8, 1, 6, 9, 2, 2, 4, 8, 9, 8, 8, 8, 8, 5, 1, 7, 8, 8, 3, 7, 7, 7, 2, 9, 8, 9, 3, 3, 2, 1, 2, 9, 6, 4, 8, 6, 7, 9, 4, 2]\n"
     ]
    }
   ],
   "source": [
    "# min number of chunks that length is less than 100\n",
    "chunk_10 = [i for i in chunk_len if i < 10]\n",
    "print(chunk_100)"
   ]
  },
  {
   "cell_type": "code",
   "execution_count": 32,
   "metadata": {},
   "outputs": [
    {
     "data": {
      "text/html": [
       "<div>\n",
       "<style scoped>\n",
       "    .dataframe tbody tr th:only-of-type {\n",
       "        vertical-align: middle;\n",
       "    }\n",
       "\n",
       "    .dataframe tbody tr th {\n",
       "        vertical-align: top;\n",
       "    }\n",
       "\n",
       "    .dataframe thead th {\n",
       "        text-align: right;\n",
       "    }\n",
       "</style>\n",
       "<table border=\"1\" class=\"dataframe\">\n",
       "  <thead>\n",
       "    <tr style=\"text-align: right;\">\n",
       "      <th></th>\n",
       "      <th>Unnamed: 0</th>\n",
       "      <th>article_id</th>\n",
       "      <th>code</th>\n",
       "      <th>reference</th>\n",
       "      <th>chunk</th>\n",
       "      <th>len_chunk</th>\n",
       "    </tr>\n",
       "  </thead>\n",
       "  <tbody>\n",
       "    <tr>\n",
       "      <th>6704</th>\n",
       "      <td>6704</td>\n",
       "      <td>5141</td>\n",
       "      <td>Code Judiciaire</td>\n",
       "      <td>Art. 1039, Code Judiciaire (Livre II, Titre ré...</td>\n",
       "      <td>1</td>\n",
       "      <td>1</td>\n",
       "    </tr>\n",
       "    <tr>\n",
       "      <th>655</th>\n",
       "      <td>655</td>\n",
       "      <td>433</td>\n",
       "      <td>Code Bruxellois de l'Aménagement du Territoire</td>\n",
       "      <td>Art. 213, Code Bruxellois de l'Aménagement du ...</td>\n",
       "      <td>(457)</td>\n",
       "      <td>1</td>\n",
       "    </tr>\n",
       "    <tr>\n",
       "      <th>683</th>\n",
       "      <td>683</td>\n",
       "      <td>451</td>\n",
       "      <td>Code Bruxellois de l'Aménagement du Territoire</td>\n",
       "      <td>Art. 230, Code Bruxellois de l'Aménagement du ...</td>\n",
       "      <td>(507)</td>\n",
       "      <td>1</td>\n",
       "    </tr>\n",
       "    <tr>\n",
       "      <th>18055</th>\n",
       "      <td>18055</td>\n",
       "      <td>13977</td>\n",
       "      <td>Code de Droit Economique</td>\n",
       "      <td>Art. III.26, Code de Droit Economique (Livre I...</td>\n",
       "      <td>3</td>\n",
       "      <td>1</td>\n",
       "    </tr>\n",
       "    <tr>\n",
       "      <th>11973</th>\n",
       "      <td>11973</td>\n",
       "      <td>9442</td>\n",
       "      <td>Code Réglementaire Wallon de l'Action sociale ...</td>\n",
       "      <td>Art. 1590, Code Réglementaire Wallon de l'Acti...</td>\n",
       "      <td>B.Sanctions</td>\n",
       "      <td>1</td>\n",
       "    </tr>\n",
       "  </tbody>\n",
       "</table>\n",
       "</div>"
      ],
      "text/plain": [
       "       Unnamed: 0  article_id  \\\n",
       "6704         6704        5141   \n",
       "655           655         433   \n",
       "683           683         451   \n",
       "18055       18055       13977   \n",
       "11973       11973        9442   \n",
       "\n",
       "                                                    code  \\\n",
       "6704                                     Code Judiciaire   \n",
       "655       Code Bruxellois de l'Aménagement du Territoire   \n",
       "683       Code Bruxellois de l'Aménagement du Territoire   \n",
       "18055                           Code de Droit Economique   \n",
       "11973  Code Réglementaire Wallon de l'Action sociale ...   \n",
       "\n",
       "                                               reference        chunk  \\\n",
       "6704   Art. 1039, Code Judiciaire (Livre II, Titre ré...            1   \n",
       "655    Art. 213, Code Bruxellois de l'Aménagement du ...        (457)   \n",
       "683    Art. 230, Code Bruxellois de l'Aménagement du ...        (507)   \n",
       "18055  Art. III.26, Code de Droit Economique (Livre I...            3   \n",
       "11973  Art. 1590, Code Réglementaire Wallon de l'Acti...  B.Sanctions   \n",
       "\n",
       "       len_chunk  \n",
       "6704           1  \n",
       "655            1  \n",
       "683            1  \n",
       "18055          1  \n",
       "11973          1  "
      ]
     },
     "execution_count": 32,
     "metadata": {},
     "output_type": "execute_result"
    }
   ],
   "source": [
    "# function that return the length of the chunk\n",
    "def len_chunk(chunk):\n",
    "    return len(chunk.split())\n",
    "# now column len chunk\n",
    "df_chunked_articles['len_chunk'] = df_chunked_articles['chunk'].apply(len_chunk)\n",
    "\n",
    "# sorted the df by len_chunk\n",
    "df_chunked_articles = df_chunked_articles.sort_values(by='len_chunk', ascending=True)\n",
    "df_chunked_articles.head(100)\n"
   ]
  },
  {
   "cell_type": "markdown",
   "metadata": {},
   "source": [
    "### Second Chunking: Recursive chunking "
   ]
  },
  {
   "cell_type": "code",
   "execution_count": 35,
   "metadata": {},
   "outputs": [],
   "source": [
    "splitter = RecursiveCharacterTextSplitter(\n",
    "        chunk_size=250,\n",
    "        chunk_overlap=10,\n",
    "        length_function= len_chunk,\n",
    "        separators=[\"\\n\\n\", \".\", \";\", \".§\"],\n",
    "        is_separator_regex=False\n",
    ")"
   ]
  },
  {
   "cell_type": "code",
   "execution_count": 36,
   "metadata": {},
   "outputs": [
    {
     "data": {
      "text/plain": [
       "[Document(metadata={}, page_content=\"Le présent Code règle une matière visée à l'article 39 de la Constitution.\")]"
      ]
     },
     "execution_count": 36,
     "metadata": {},
     "output_type": "execute_result"
    }
   ],
   "source": [
    "splitter.create_documents([df_chunked_articles['chunk'][0]])\n"
   ]
  },
  {
   "cell_type": "code",
   "execution_count": 49,
   "metadata": {},
   "outputs": [
    {
     "data": {
      "application/vnd.jupyter.widget-view+json": {
       "model_id": "89c599c78d12459ea3104d40921f2ccf",
       "version_major": 2,
       "version_minor": 0
      },
      "text/plain": [
       " RECURSIVE Chunking articles:   0%|          | 0/29927 [00:00<?, ?it/s]"
      ]
     },
     "metadata": {},
     "output_type": "display_data"
    }
   ],
   "source": [
    "# List to store the chunked articles and metadata\n",
    "Recursivechunked_data = []\n",
    "\n",
    "# Iterate over each article in the DataFrame\n",
    "for _, row in tqdm(df_chunked_articles.iterrows(), total=len(df_chunked_articles), desc=\" RECURSIVE Chunking articles\"):\n",
    "    chunk_text = row['chunk']\n",
    "    len_chunk = row['len_chunk']\n",
    "\n",
    "    if len_chunk > 250:\n",
    "        # Perform chunking with splitter recursive\n",
    "        docs = splitter.create_documents([chunk_text])\n",
    "        \n",
    "        # Append each chunk with its metadata to the list\n",
    "        for doc in docs:\n",
    "            Recursivechunked_data.append({\n",
    "                'article_id': row['article_id'],\n",
    "                'code': row['code'],\n",
    "                'reference': row['reference'],\n",
    "                'chunk': doc.page_content  # Access the chunk content\n",
    "            })\n",
    "    else:\n",
    "        Recursivechunked_data.append({\n",
    "            'article_id': row['article_id'],\n",
    "            'code': row['code'],\n",
    "            'reference': row['reference'],\n",
    "            'chunk': chunk_text  # Access the chunk content\n",
    "        })\n",
    "\n",
    "# Create a new DataFrame with the chunked data and metadata\n",
    "df_Recursivechunked_articles = pd.DataFrame(Recursivechunked_data)"
   ]
  },
  {
   "cell_type": "code",
   "execution_count": 38,
   "metadata": {},
   "outputs": [],
   "source": [
    "df_Recursivechunked_articles.to_csv('Recursivechunked_articles.csv', index=True)"
   ]
  },
  {
   "cell_type": "code",
   "execution_count": 40,
   "metadata": {},
   "outputs": [
    {
     "data": {
      "text/html": [
       "<div>\n",
       "<style scoped>\n",
       "    .dataframe tbody tr th:only-of-type {\n",
       "        vertical-align: middle;\n",
       "    }\n",
       "\n",
       "    .dataframe tbody tr th {\n",
       "        vertical-align: top;\n",
       "    }\n",
       "\n",
       "    .dataframe thead th {\n",
       "        text-align: right;\n",
       "    }\n",
       "</style>\n",
       "<table border=\"1\" class=\"dataframe\">\n",
       "  <thead>\n",
       "    <tr style=\"text-align: right;\">\n",
       "      <th></th>\n",
       "      <th>article_id</th>\n",
       "      <th>code</th>\n",
       "      <th>reference</th>\n",
       "      <th>chunk</th>\n",
       "    </tr>\n",
       "  </thead>\n",
       "  <tbody>\n",
       "    <tr>\n",
       "      <th>0</th>\n",
       "      <td>5141</td>\n",
       "      <td>Code Judiciaire</td>\n",
       "      <td>Art. 1039, Code Judiciaire (Livre II, Titre ré...</td>\n",
       "      <td>1</td>\n",
       "    </tr>\n",
       "    <tr>\n",
       "      <th>1</th>\n",
       "      <td>433</td>\n",
       "      <td>Code Bruxellois de l'Aménagement du Territoire</td>\n",
       "      <td>Art. 213, Code Bruxellois de l'Aménagement du ...</td>\n",
       "      <td>(457)</td>\n",
       "    </tr>\n",
       "  </tbody>\n",
       "</table>\n",
       "</div>"
      ],
      "text/plain": [
       "   article_id                                            code  \\\n",
       "0        5141                                 Code Judiciaire   \n",
       "1         433  Code Bruxellois de l'Aménagement du Territoire   \n",
       "\n",
       "                                           reference  chunk  \n",
       "0  Art. 1039, Code Judiciaire (Livre II, Titre ré...      1  \n",
       "1  Art. 213, Code Bruxellois de l'Aménagement du ...  (457)  "
      ]
     },
     "execution_count": 40,
     "metadata": {},
     "output_type": "execute_result"
    }
   ],
   "source": [
    "df_Recursivechunked_articles.head(2)"
   ]
  },
  {
   "cell_type": "code",
   "execution_count": 51,
   "metadata": {},
   "outputs": [],
   "source": [
    "# length of the chunk\n",
    "def len_chunk(chunk):\n",
    "    return len(chunk.split())\n",
    "\n",
    "df_Recursivechunked_articles['chunk'] = df_Recursivechunked_articles['chunk'].astype(str)\n",
    "df_Recursivechunked_articles['len_chunk'] = df_Recursivechunked_articles['chunk'].apply(len_chunk)"
   ]
  },
  {
   "cell_type": "code",
   "execution_count": 46,
   "metadata": {},
   "outputs": [
    {
     "data": {
      "text/html": [
       "<div>\n",
       "<style scoped>\n",
       "    .dataframe tbody tr th:only-of-type {\n",
       "        vertical-align: middle;\n",
       "    }\n",
       "\n",
       "    .dataframe tbody tr th {\n",
       "        vertical-align: top;\n",
       "    }\n",
       "\n",
       "    .dataframe thead th {\n",
       "        text-align: right;\n",
       "    }\n",
       "</style>\n",
       "<table border=\"1\" class=\"dataframe\">\n",
       "  <thead>\n",
       "    <tr style=\"text-align: right;\">\n",
       "      <th></th>\n",
       "      <th>article_id</th>\n",
       "      <th>code</th>\n",
       "      <th>reference</th>\n",
       "      <th>chunk</th>\n",
       "      <th>len_chunk</th>\n",
       "    </tr>\n",
       "  </thead>\n",
       "  <tbody>\n",
       "    <tr>\n",
       "      <th>0</th>\n",
       "      <td>5141</td>\n",
       "      <td>Code Judiciaire</td>\n",
       "      <td>Art. 1039, Code Judiciaire (Livre II, Titre ré...</td>\n",
       "      <td>1</td>\n",
       "      <td>1</td>\n",
       "    </tr>\n",
       "    <tr>\n",
       "      <th>29540</th>\n",
       "      <td>8899</td>\n",
       "      <td>Code Réglementaire Wallon de l'Action sociale ...</td>\n",
       "      <td>Art. 1314/99, Code Réglementaire Wallon de l'A...</td>\n",
       "      <td>.</td>\n",
       "      <td>1</td>\n",
       "    </tr>\n",
       "    <tr>\n",
       "      <th>29523</th>\n",
       "      <td>9844</td>\n",
       "      <td>Code Wallon de l'Action sociale et de la Santé</td>\n",
       "      <td>Art. 2/2, Code Wallon de l'Action sociale et d...</td>\n",
       "      <td>.</td>\n",
       "      <td>1</td>\n",
       "    </tr>\n",
       "    <tr>\n",
       "      <th>29513</th>\n",
       "      <td>9254</td>\n",
       "      <td>Code Réglementaire Wallon de l'Action sociale ...</td>\n",
       "      <td>Art. 1439, Code Réglementaire Wallon de l'Acti...</td>\n",
       "      <td>.11</td>\n",
       "      <td>1</td>\n",
       "    </tr>\n",
       "    <tr>\n",
       "      <th>29490</th>\n",
       "      <td>14266</td>\n",
       "      <td>Code de Droit Economique</td>\n",
       "      <td>Art. VI.97, Code de Droit Economique (Livre VI...</td>\n",
       "      <td>.</td>\n",
       "      <td>1</td>\n",
       "    </tr>\n",
       "    <tr>\n",
       "      <th>29454</th>\n",
       "      <td>18849</td>\n",
       "      <td>Code de la Navigation</td>\n",
       "      <td>Art. 2.2.3.9, Code de la Navigation (Livre 2, ...</td>\n",
       "      <td>.</td>\n",
       "      <td>1</td>\n",
       "    </tr>\n",
       "    <tr>\n",
       "      <th>29444</th>\n",
       "      <td>16404</td>\n",
       "      <td>Code de l'Eau intégré au Code Wallon de l'Envi...</td>\n",
       "      <td>Art. D161, Code de l'Eau intégré au Code Wallo...</td>\n",
       "      <td>.</td>\n",
       "      <td>1</td>\n",
       "    </tr>\n",
       "    <tr>\n",
       "      <th>29371</th>\n",
       "      <td>21926</td>\n",
       "      <td>Code du Bien-être au Travail</td>\n",
       "      <td>Art. VI.2-5, Code du Bien-être au Travail (Liv...</td>\n",
       "      <td>.</td>\n",
       "      <td>1</td>\n",
       "    </tr>\n",
       "    <tr>\n",
       "      <th>29346</th>\n",
       "      <td>7095</td>\n",
       "      <td>Code Pénal Social</td>\n",
       "      <td>Art. 201, Code Pénal Social (Livre 2, Chapitre...</td>\n",
       "      <td>.</td>\n",
       "      <td>1</td>\n",
       "    </tr>\n",
       "    <tr>\n",
       "      <th>29339</th>\n",
       "      <td>16182</td>\n",
       "      <td>Code de l'Eau intégré au Code Wallon de l'Envi...</td>\n",
       "      <td>Art. R42sexies(ancien R42bis), Code de l'Eau i...</td>\n",
       "      <td>.</td>\n",
       "      <td>1</td>\n",
       "    </tr>\n",
       "  </tbody>\n",
       "</table>\n",
       "</div>"
      ],
      "text/plain": [
       "       article_id                                               code  \\\n",
       "0            5141                                    Code Judiciaire   \n",
       "29540        8899  Code Réglementaire Wallon de l'Action sociale ...   \n",
       "29523        9844     Code Wallon de l'Action sociale et de la Santé   \n",
       "29513        9254  Code Réglementaire Wallon de l'Action sociale ...   \n",
       "29490       14266                           Code de Droit Economique   \n",
       "29454       18849                              Code de la Navigation   \n",
       "29444       16404  Code de l'Eau intégré au Code Wallon de l'Envi...   \n",
       "29371       21926                       Code du Bien-être au Travail   \n",
       "29346        7095                                  Code Pénal Social   \n",
       "29339       16182  Code de l'Eau intégré au Code Wallon de l'Envi...   \n",
       "\n",
       "                                               reference chunk  len_chunk  \n",
       "0      Art. 1039, Code Judiciaire (Livre II, Titre ré...     1          1  \n",
       "29540  Art. 1314/99, Code Réglementaire Wallon de l'A...     .          1  \n",
       "29523  Art. 2/2, Code Wallon de l'Action sociale et d...     .          1  \n",
       "29513  Art. 1439, Code Réglementaire Wallon de l'Acti...   .11          1  \n",
       "29490  Art. VI.97, Code de Droit Economique (Livre VI...     .          1  \n",
       "29454  Art. 2.2.3.9, Code de la Navigation (Livre 2, ...     .          1  \n",
       "29444  Art. D161, Code de l'Eau intégré au Code Wallo...     .          1  \n",
       "29371  Art. VI.2-5, Code du Bien-être au Travail (Liv...     .          1  \n",
       "29346  Art. 201, Code Pénal Social (Livre 2, Chapitre...     .          1  \n",
       "29339  Art. R42sexies(ancien R42bis), Code de l'Eau i...     .          1  "
      ]
     },
     "execution_count": 46,
     "metadata": {},
     "output_type": "execute_result"
    }
   ],
   "source": [
    "df_Recursivechunked_articles = df_Recursivechunked_articles.sort_values(by='len_chunk', ascending=True)\n",
    "df_Recursivechunked_articles.head(10)"
   ]
  },
  {
   "cell_type": "code",
   "execution_count": 53,
   "metadata": {},
   "outputs": [
    {
     "data": {
      "image/png": "[encoded data removed]",
      "text/plain": [
       "<Figure size 800x400 with 1 Axes>"
      ]
     },
     "metadata": {},
     "output_type": "display_data"
    }
   ],
   "source": [
    "plt.figure(figsize=(8, 4))\n",
    "plt.hist(df_Recursivechunked_articles['len_chunk'], bins=100, color='blue')\n",
    "plt.title('Histogram of Chunk Lengths')\n",
    "plt.xlabel('Length of Chunk')\n",
    "plt.ylabel('Frequency')\n",
    "plt.grid(True)\n",
    "plt.show()"
   ]
  },
  {
   "cell_type": "code",
   "execution_count": 60,
   "metadata": {},
   "outputs": [
    {
     "data": {
      "image/png": "[encoded data removed]",
      "text/plain": [
       "<Figure size 800x400 with 1 Axes>"
      ]
     },
     "metadata": {},
     "output_type": "display_data"
    }
   ],
   "source": [
    "# remove the chunk that length is less than 10\n",
    "df_Recursivechunked_articles = df_Recursivechunked_articles[df_Recursivechunked_articles['len_chunk'] > 10]\n",
    "\n",
    "plt.figure(figsize=(8, 4))\n",
    "plt.hist(df_Recursivechunked_articles['len_chunk'], bins=50,  edgecolor='black')\n",
    "plt.title('Histogram of Chunk Lengths')\n",
    "plt.xlabel('Length of Chunk')\n",
    "plt.ylabel('Frequency')\n",
    "plt.grid(True)\n",
    "plt.show()"
   ]
  }
 ],
 "metadata": {
  "kernelspec": {
   "display_name": "AI_App",
   "language": "python",
   "name": "python3"
  },
  "language_info": {
   "codemirror_mode": {
    "name": "ipython",
    "version": 3
   },
   "file_extension": ".py",
   "mimetype": "text/x-python",
   "name": "python",
   "nbconvert_exporter": "python",
   "pygments_lexer": "ipython3",
   "version": "3.12.7"
  }
 },
 "nbformat": 4,
 "nbformat_minor": 2
}
