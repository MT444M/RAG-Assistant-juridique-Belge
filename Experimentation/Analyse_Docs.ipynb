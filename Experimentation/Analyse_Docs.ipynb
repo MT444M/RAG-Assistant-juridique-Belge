{
 "cells": [
  {
   "cell_type": "markdown",
   "metadata": {},
   "source": [
    "### Analyse des Articles"
   ]
  },
  {
   "cell_type": "markdown",
   "metadata": {},
   "source": [
    "[BSARD Dataset] (https://huggingface.co/datasets/maastrichtlawtech/bsard) (Open Source).\n",
    "\n",
    "Dataset d'articles juridiques de la loi Belge"
   ]
  },
  {
   "cell_type": "code",
   "execution_count": 2,
   "metadata": {},
   "outputs": [],
   "source": [
    "import pandas as pd\n",
    "import matplotlib.pyplot as plt\n",
    "import numpy as np\n"
   ]
  },
  {
   "cell_type": "code",
   "execution_count": 3,
   "metadata": {},
   "outputs": [
    {
     "data": {
      "text/html": [
       "<div>\n",
       "<style scoped>\n",
       "    .dataframe tbody tr th:only-of-type {\n",
       "        vertical-align: middle;\n",
       "    }\n",
       "\n",
       "    .dataframe tbody tr th {\n",
       "        vertical-align: top;\n",
       "    }\n",
       "\n",
       "    .dataframe thead th {\n",
       "        text-align: right;\n",
       "    }\n",
       "</style>\n",
       "<table border=\"1\" class=\"dataframe\">\n",
       "  <thead>\n",
       "    <tr style=\"text-align: right;\">\n",
       "      <th></th>\n",
       "      <th>id</th>\n",
       "      <th>reference</th>\n",
       "      <th>article</th>\n",
       "      <th>law_type</th>\n",
       "      <th>code</th>\n",
       "      <th>book</th>\n",
       "      <th>part</th>\n",
       "      <th>act</th>\n",
       "      <th>chapter</th>\n",
       "      <th>section</th>\n",
       "      <th>subsection</th>\n",
       "      <th>description</th>\n",
       "    </tr>\n",
       "  </thead>\n",
       "  <tbody>\n",
       "    <tr>\n",
       "      <th>0</th>\n",
       "      <td>1</td>\n",
       "      <td>Art. 1.1.1, Code Bruxellois de l'Air, du Clima...</td>\n",
       "      <td>Le présent Code règle une matière visée à l'ar...</td>\n",
       "      <td>regional</td>\n",
       "      <td>Code Bruxellois de l'Air, du Climat et de la M...</td>\n",
       "      <td>Dispositions communes</td>\n",
       "      <td>NaN</td>\n",
       "      <td>Généralités</td>\n",
       "      <td>NaN</td>\n",
       "      <td>NaN</td>\n",
       "      <td>NaN</td>\n",
       "      <td>Dispositions communes, Généralités</td>\n",
       "    </tr>\n",
       "    <tr>\n",
       "      <th>1</th>\n",
       "      <td>2</td>\n",
       "      <td>Art. 1.1.2, Code Bruxellois de l'Air, du Clima...</td>\n",
       "      <td>Le présent Code transpose en Région de Bruxell...</td>\n",
       "      <td>regional</td>\n",
       "      <td>Code Bruxellois de l'Air, du Climat et de la M...</td>\n",
       "      <td>Dispositions communes</td>\n",
       "      <td>NaN</td>\n",
       "      <td>Généralités</td>\n",
       "      <td>NaN</td>\n",
       "      <td>NaN</td>\n",
       "      <td>NaN</td>\n",
       "      <td>Dispositions communes, Généralités</td>\n",
       "    </tr>\n",
       "    <tr>\n",
       "      <th>2</th>\n",
       "      <td>3</td>\n",
       "      <td>Art. 1.2.1, Code Bruxellois de l'Air, du Clima...</td>\n",
       "      <td>Le présent Code poursuit les objectifs suivant...</td>\n",
       "      <td>regional</td>\n",
       "      <td>Code Bruxellois de l'Air, du Climat et de la M...</td>\n",
       "      <td>Dispositions communes</td>\n",
       "      <td>NaN</td>\n",
       "      <td>Objectifs</td>\n",
       "      <td>NaN</td>\n",
       "      <td>NaN</td>\n",
       "      <td>NaN</td>\n",
       "      <td>Dispositions communes, Objectifs</td>\n",
       "    </tr>\n",
       "    <tr>\n",
       "      <th>3</th>\n",
       "      <td>4</td>\n",
       "      <td>Art. 1.3.1, Code Bruxellois de l'Air, du Clima...</td>\n",
       "      <td>Au sens du présent Code, il faut entendre par ...</td>\n",
       "      <td>regional</td>\n",
       "      <td>Code Bruxellois de l'Air, du Climat et de la M...</td>\n",
       "      <td>Dispositions communes</td>\n",
       "      <td>NaN</td>\n",
       "      <td>Définitions</td>\n",
       "      <td>NaN</td>\n",
       "      <td>NaN</td>\n",
       "      <td>NaN</td>\n",
       "      <td>Dispositions communes, Définitions</td>\n",
       "    </tr>\n",
       "    <tr>\n",
       "      <th>4</th>\n",
       "      <td>5</td>\n",
       "      <td>Art. 1.4.1, Code Bruxellois de l'Air, du Clima...</td>\n",
       "      <td>Le plan régional Air-Climat-énergie, ci-après ...</td>\n",
       "      <td>regional</td>\n",
       "      <td>Code Bruxellois de l'Air, du Climat et de la M...</td>\n",
       "      <td>Dispositions communes</td>\n",
       "      <td>NaN</td>\n",
       "      <td>Plan régional air-climat-énergie</td>\n",
       "      <td>Contenu et portée du plan</td>\n",
       "      <td>NaN</td>\n",
       "      <td>NaN</td>\n",
       "      <td>Dispositions communes, Plan régional air-clima...</td>\n",
       "    </tr>\n",
       "  </tbody>\n",
       "</table>\n",
       "</div>"
      ],
      "text/plain": [
       "   id                                          reference  \\\n",
       "0   1  Art. 1.1.1, Code Bruxellois de l'Air, du Clima...   \n",
       "1   2  Art. 1.1.2, Code Bruxellois de l'Air, du Clima...   \n",
       "2   3  Art. 1.2.1, Code Bruxellois de l'Air, du Clima...   \n",
       "3   4  Art. 1.3.1, Code Bruxellois de l'Air, du Clima...   \n",
       "4   5  Art. 1.4.1, Code Bruxellois de l'Air, du Clima...   \n",
       "\n",
       "                                             article  law_type  \\\n",
       "0  Le présent Code règle une matière visée à l'ar...  regional   \n",
       "1  Le présent Code transpose en Région de Bruxell...  regional   \n",
       "2  Le présent Code poursuit les objectifs suivant...  regional   \n",
       "3  Au sens du présent Code, il faut entendre par ...  regional   \n",
       "4  Le plan régional Air-Climat-énergie, ci-après ...  regional   \n",
       "\n",
       "                                                code                   book  \\\n",
       "0  Code Bruxellois de l'Air, du Climat et de la M...  Dispositions communes   \n",
       "1  Code Bruxellois de l'Air, du Climat et de la M...  Dispositions communes   \n",
       "2  Code Bruxellois de l'Air, du Climat et de la M...  Dispositions communes   \n",
       "3  Code Bruxellois de l'Air, du Climat et de la M...  Dispositions communes   \n",
       "4  Code Bruxellois de l'Air, du Climat et de la M...  Dispositions communes   \n",
       "\n",
       "  part                               act                    chapter section  \\\n",
       "0  NaN                       Généralités                        NaN     NaN   \n",
       "1  NaN                       Généralités                        NaN     NaN   \n",
       "2  NaN                         Objectifs                        NaN     NaN   \n",
       "3  NaN                       Définitions                        NaN     NaN   \n",
       "4  NaN  Plan régional air-climat-énergie  Contenu et portée du plan     NaN   \n",
       "\n",
       "  subsection                                        description  \n",
       "0        NaN                 Dispositions communes, Généralités  \n",
       "1        NaN                 Dispositions communes, Généralités  \n",
       "2        NaN                   Dispositions communes, Objectifs  \n",
       "3        NaN                 Dispositions communes, Définitions  \n",
       "4        NaN  Dispositions communes, Plan régional air-clima...  "
      ]
     },
     "execution_count": 3,
     "metadata": {},
     "output_type": "execute_result"
    }
   ],
   "source": [
    "df_articles = pd.read_csv(\"articles.csv\")\n",
    "df_articles.head()"
   ]
  },
  {
   "cell_type": "code",
   "execution_count": 7,
   "metadata": {},
   "outputs": [
    {
     "data": {
      "text/plain": [
       "'Art. X.5-2, Code du Bien-être au Travail (Livre X, Titre 5)'"
      ]
     },
     "execution_count": 7,
     "metadata": {},
     "output_type": "execute_result"
    }
   ],
   "source": [
    "df_articles['reference'][22225] "
   ]
  },
  {
   "cell_type": "code",
   "execution_count": 5,
   "metadata": {},
   "outputs": [
    {
     "name": "stdout",
     "output_type": "stream",
     "text": [
      "<class 'pandas.core.frame.DataFrame'>\n",
      "RangeIndex: 22633 entries, 0 to 22632\n",
      "Data columns (total 12 columns):\n",
      " #   Column       Non-Null Count  Dtype \n",
      "---  ------       --------------  ----- \n",
      " 0   id           22633 non-null  int64 \n",
      " 1   reference    22633 non-null  object\n",
      " 2   article      22633 non-null  object\n",
      " 3   law_type     22633 non-null  object\n",
      " 4   code         22633 non-null  object\n",
      " 5   book         16993 non-null  object\n",
      " 6   part         1360 non-null   object\n",
      " 7   act          20273 non-null  object\n",
      " 8   chapter      20272 non-null  object\n",
      " 9   section      13151 non-null  object\n",
      " 10  subsection   5005 non-null   object\n",
      " 11  description  22618 non-null  object\n",
      "dtypes: int64(1), object(11)\n",
      "memory usage: 2.1+ MB\n"
     ]
    }
   ],
   "source": [
    "df_articles.info()"
   ]
  },
  {
   "cell_type": "code",
   "execution_count": 3,
   "metadata": {},
   "outputs": [
    {
     "data": {
      "text/plain": [
       "code\n",
       "Code Réglementaire Wallon de l'Action sociale et de la Santé                 2618\n",
       "Code Judiciaire                                                              2285\n",
       "Code de Droit Economique                                                     2032\n",
       "Code Civil                                                                   1961\n",
       "Code du Bien-être au Travail                                                 1287\n",
       "Code des Sociétés et des Associations                                        1194\n",
       "Code de la Démocratie Locale et de la Décentralisation                       1159\n",
       "Code Wallon de l'Action sociale et de la Santé                               1032\n",
       "Code de la Navigation                                                         977\n",
       "Code de l'Eau intégré au Code Wallon de l'Environnement                       902\n",
       "Code Wallon du Développement Territorial                                      796\n",
       "Code d'Instruction Criminelle                                                 719\n",
       "Code Pénal                                                                    689\n",
       "Code de la Fonction Publique Wallonne                                         597\n",
       "Code Wallon de l'Agriculture                                                  461\n",
       "Code Bruxellois de l'Aménagement du Territoire                                401\n",
       "Code Wallon de l'Environnement                                                368\n",
       "Code Wallon de l'Enseignement Fondamental et de l'Enseignement Secondaire     310\n",
       "Code Pénal Social                                                             307\n",
       "Code Wallon de l'Habitation Durable                                           286\n",
       "Code Bruxellois du Logement                                                   279\n",
       "Code Forestier                                                                261\n",
       "Code Ferroviaire                                                              260\n",
       "Code Electoral                                                                218\n",
       "Code Bruxellois de l'Air, du Climat et de la Maîtrise de l'Energie            208\n",
       "La Constitution                                                               208\n",
       "Codes des Droits et Taxes Divers                                              191\n",
       "Code de Droit International Privé                                             135\n",
       "Code Wallon du Bien-être des animaux                                          108\n",
       "Code Electoral Communal Bruxellois                                            100\n",
       "Code Consulaire                                                               100\n",
       "Code Rural                                                                     87\n",
       "Code Pénal Militaire                                                           66\n",
       "Code de la Nationalité Belge                                                   31\n",
       "Name: count, dtype: int64"
      ]
     },
     "execution_count": 3,
     "metadata": {},
     "output_type": "execute_result"
    }
   ],
   "source": [
    "df_articles['code'].value_counts()"
   ]
  },
  {
   "cell_type": "code",
   "execution_count": 5,
   "metadata": {},
   "outputs": [
    {
     "data": {
      "text/plain": [
       "34"
      ]
     },
     "execution_count": 5,
     "metadata": {},
     "output_type": "execute_result"
    }
   ],
   "source": [
    "# count the number of unique code: \n",
    "df_articles['code'].nunique()"
   ]
  },
  {
   "cell_type": "code",
   "execution_count": 17,
   "metadata": {},
   "outputs": [
    {
     "data": {
      "image/png": "[encoded data removed]",
      "text/plain": [
       "<Figure size 640x480 with 1 Axes>"
      ]
     },
     "metadata": {},
     "output_type": "display_data"
    },
    {
     "name": "stdout",
     "output_type": "stream",
     "text": [
      "5790\n",
      "1\n"
     ]
    }
   ],
   "source": [
    "# display the histogram of length in the column 'article'\n",
    "len_articles = [len(article.split()) for article in df_articles['article']]\n",
    "\n",
    "plt.hist(len_articles, bins=50)\n",
    "\n",
    "# display max and min length in dash lines\n",
    "max_len = max(len_articles)\n",
    "min_len = min(len_articles)\n",
    "\n",
    "plt.axvline(max_len, color='red', linestyle='--', label=f'max length [{max_len}]')\n",
    "plt.axvline(min_len, color='green', linestyle='--', label=f'min length [{min_len}]')\n",
    "\n",
    "plt.legend()\n",
    "plt.show()\n"
   ]
  },
  {
   "cell_type": "code",
   "execution_count": 7,
   "metadata": {},
   "outputs": [],
   "source": [
    "from transformers import AutoTokenizer\n",
    "\n",
    "tokenizer = AutoTokenizer.from_pretrained(\"almanach/camembert-base\")"
   ]
  },
  {
   "cell_type": "code",
   "execution_count": 34,
   "metadata": {},
   "outputs": [],
   "source": [
    "len_articles_tokens_ = [len(tokenizer(article)['input_ids']) for article in df_articles['article']]\n"
   ]
  },
  {
   "cell_type": "code",
   "execution_count": 36,
   "metadata": {},
   "outputs": [
    {
     "data": {
      "text/plain": [
       "22633"
      ]
     },
     "execution_count": 36,
     "metadata": {},
     "output_type": "execute_result"
    }
   ],
   "source": [
    "len(len_articles_tokens_)"
   ]
  },
  {
   "cell_type": "code",
   "execution_count": 40,
   "metadata": {},
   "outputs": [],
   "source": [
    "# remove the max and min length\n",
    "sorted_len_articles_tokens = sorted(len_articles_tokens_)\n",
    "len_articles_tokens = sorted_len_articles_tokens[22600:]"
   ]
  },
  {
   "cell_type": "code",
   "execution_count": 42,
   "metadata": {},
   "outputs": [
    {
     "data": {
      "image/png": "[encoded data removed]",
      "text/plain": [
       "<Figure size 640x480 with 1 Axes>"
      ]
     },
     "metadata": {},
     "output_type": "display_data"
    }
   ],
   "source": [
    "plt.hist(len_articles_tokens, bins=50)\n",
    "\n",
    "# display max and min length in dash lines\n",
    "max_len = max(len_articles_tokens)\n",
    "min_len = min(len_articles_tokens)\n",
    "\n",
    "# plt.axvline(max_len, color='red', linestyle='--', label=f'max length [{max_len}]')\n",
    "plt.axvline(min_len, color='green', linestyle='--', label=f'min length [{min_len}]')\n",
    "\n",
    "plt.legend()\n",
    "plt.show()"
   ]
  },
  {
   "cell_type": "code",
   "execution_count": 48,
   "metadata": {},
   "outputs": [
    {
     "name": "stdout",
     "output_type": "stream",
     "text": [
      "§ 1er. Les unités PEB neuves et rénovées peuvent faire l'objet d'une dérogation préalable totale ou partielle aux exigences PEB lorsque le respect partiel ou total de ces exigences est techniquement, fonctionnellement ou économiquement irréalisable.§ 2. Les requêtes de dérogation visées au § 1er sont introduites auprès de l'autorité à qui est adressée la notification du début des travaux visée à l'article 2.2.8, préalablement à l'introduction de la notification du début des travaux.Le Gouvernement fixe la procédure d'instruction des requêtes de dérogation et détermine les critères et les seuils d'octroi de ces dérogations.Les dérogations sont accordées par Bruxelles Environnementou l'autorité délivrante du permis. Elles peuvent faire l'objet d'un recours auprès du Collège d'environnement sauf si l'autorité délivrante est le Gouvernement. Les modalités de ce recours sont déterminées par le Gouvernement.§ 3. L'octroi d'une dérogation à une exigence PEB ne dispense pas des autres obligations imposées par le présent Code.§ 4. Pour les biens classés ou inscrits sur la liste de sauvegarde en vertu du CoBAT qui font l'objet d'une rénovation, l'autorité délivrante peut déroger de fac,on totale ou partielle aux exigences prévues à l'article 2.2.3 dans le cadre de l'octroi du permis, lorsque le respect total de ces exigences porte atteinte à la conservation de ce patrimoine. L'octroi de la dérogation est communiqué par voie électronique à Bruxelles Environnement.\n",
      "219\n"
     ]
    },
    {
     "ename": "",
     "evalue": "",
     "output_type": "error",
     "traceback": [
      "\u001b[1;31mThe Kernel crashed while executing code in the current cell or a previous cell. \n",
      "\u001b[1;31mPlease review the code in the cell(s) to identify a possible cause of the failure. \n",
      "\u001b[1;31mClick <a href='https://aka.ms/vscodeJupyterKernelCrash'>here</a> for more info. \n",
      "\u001b[1;31mView Jupyter <a href='command:jupyter.viewOutput'>log</a> for further details."
     ]
    }
   ],
   "source": [
    "print(df_articles['article'].iloc[25])\n",
    "\n",
    "print(len(df_articles['article'].iloc[25].split()))"
   ]
  },
  {
   "cell_type": "markdown",
   "metadata": {},
   "source": [
    "---------------"
   ]
  },
  {
   "cell_type": "markdown",
   "metadata": {},
   "source": [
    "### Questions Dataset"
   ]
  },
  {
   "cell_type": "code",
   "execution_count": 6,
   "metadata": {},
   "outputs": [
    {
     "data": {
      "text/html": [
       "<div>\n",
       "<style scoped>\n",
       "    .dataframe tbody tr th:only-of-type {\n",
       "        vertical-align: middle;\n",
       "    }\n",
       "\n",
       "    .dataframe tbody tr th {\n",
       "        vertical-align: top;\n",
       "    }\n",
       "\n",
       "    .dataframe thead th {\n",
       "        text-align: right;\n",
       "    }\n",
       "</style>\n",
       "<table border=\"1\" class=\"dataframe\">\n",
       "  <thead>\n",
       "    <tr style=\"text-align: right;\">\n",
       "      <th></th>\n",
       "      <th>id</th>\n",
       "      <th>category</th>\n",
       "      <th>subcategory</th>\n",
       "      <th>question</th>\n",
       "      <th>extra_description</th>\n",
       "      <th>article_ids</th>\n",
       "    </tr>\n",
       "  </thead>\n",
       "  <tbody>\n",
       "    <tr>\n",
       "      <th>0</th>\n",
       "      <td>1102</td>\n",
       "      <td>Travail</td>\n",
       "      <td>Travail et parentalité</td>\n",
       "      <td>Je suis travailleur salarié(e). Puis-je refuse...</td>\n",
       "      <td>Pendant la grossesse</td>\n",
       "      <td>22225,22226,22227,22228,22229,22230,22231,2223...</td>\n",
       "    </tr>\n",
       "    <tr>\n",
       "      <th>1</th>\n",
       "      <td>91</td>\n",
       "      <td>Argent</td>\n",
       "      <td>Dettes</td>\n",
       "      <td>Peut-on saisir tous mes revenus ?</td>\n",
       "      <td>Procédures de récupération des dettes, Récupér...</td>\n",
       "      <td>5853,5854,5855</td>\n",
       "    </tr>\n",
       "    <tr>\n",
       "      <th>2</th>\n",
       "      <td>474</td>\n",
       "      <td>Famille</td>\n",
       "      <td>Situation de couples</td>\n",
       "      <td>Je suis marié(e). Nous sommes mariés. Dois-je ...</td>\n",
       "      <td>Mariage</td>\n",
       "      <td>1096,1097,1098,1108,1109,1110</td>\n",
       "    </tr>\n",
       "    <tr>\n",
       "      <th>3</th>\n",
       "      <td>836</td>\n",
       "      <td>Logement</td>\n",
       "      <td>Location en Wallonie</td>\n",
       "      <td>Je mets un kot en location (bail de droit comm...</td>\n",
       "      <td>Mettre un logement en location (Wallonie), Doi...</td>\n",
       "      <td>12012,12030,12031,12032,12033,12034,12035</td>\n",
       "    </tr>\n",
       "    <tr>\n",
       "      <th>4</th>\n",
       "      <td>1079</td>\n",
       "      <td>Travail</td>\n",
       "      <td>Maladie - incapacité de travail</td>\n",
       "      <td>Suis-je payé pendant la procédure du trajet de...</td>\n",
       "      <td>Rupture du contrat de travail pour force majeu...</td>\n",
       "      <td>21114,21115,21116,21117,21118,21119,21120,2112...</td>\n",
       "    </tr>\n",
       "  </tbody>\n",
       "</table>\n",
       "</div>"
      ],
      "text/plain": [
       "     id  category                      subcategory  \\\n",
       "0  1102   Travail           Travail et parentalité   \n",
       "1    91    Argent                           Dettes   \n",
       "2   474   Famille             Situation de couples   \n",
       "3   836  Logement             Location en Wallonie   \n",
       "4  1079   Travail  Maladie - incapacité de travail   \n",
       "\n",
       "                                            question  \\\n",
       "0  Je suis travailleur salarié(e). Puis-je refuse...   \n",
       "1                  Peut-on saisir tous mes revenus ?   \n",
       "2  Je suis marié(e). Nous sommes mariés. Dois-je ...   \n",
       "3  Je mets un kot en location (bail de droit comm...   \n",
       "4  Suis-je payé pendant la procédure du trajet de...   \n",
       "\n",
       "                                   extra_description  \\\n",
       "0                               Pendant la grossesse   \n",
       "1  Procédures de récupération des dettes, Récupér...   \n",
       "2                                            Mariage   \n",
       "3  Mettre un logement en location (Wallonie), Doi...   \n",
       "4  Rupture du contrat de travail pour force majeu...   \n",
       "\n",
       "                                         article_ids  \n",
       "0  22225,22226,22227,22228,22229,22230,22231,2223...  \n",
       "1                                     5853,5854,5855  \n",
       "2                      1096,1097,1098,1108,1109,1110  \n",
       "3          12012,12030,12031,12032,12033,12034,12035  \n",
       "4  21114,21115,21116,21117,21118,21119,21120,2112...  "
      ]
     },
     "execution_count": 6,
     "metadata": {},
     "output_type": "execute_result"
    }
   ],
   "source": [
    "df_questions = pd.read_csv(\"questions_train.csv\")\n",
    "\n",
    "df_questions.head()"
   ]
  },
  {
   "cell_type": "code",
   "execution_count": 9,
   "metadata": {},
   "outputs": [
    {
     "name": "stdout",
     "output_type": "stream",
     "text": [
      "<class 'pandas.core.frame.DataFrame'>\n",
      "RangeIndex: 886 entries, 0 to 885\n",
      "Data columns (total 6 columns):\n",
      " #   Column             Non-Null Count  Dtype \n",
      "---  ------             --------------  ----- \n",
      " 0   id                 886 non-null    int64 \n",
      " 1   category           886 non-null    object\n",
      " 2   subcategory        886 non-null    object\n",
      " 3   question           886 non-null    object\n",
      " 4   extra_description  791 non-null    object\n",
      " 5   article_ids        886 non-null    object\n",
      "dtypes: int64(1), object(5)\n",
      "memory usage: 41.7+ KB\n"
     ]
    }
   ],
   "source": [
    "df_questions.info()"
   ]
  },
  {
   "cell_type": "code",
   "execution_count": 7,
   "metadata": {},
   "outputs": [
    {
     "data": {
      "text/plain": [
       "category\n",
       "Famille               272\n",
       "Logement              238\n",
       "Argent                141\n",
       "Justice               121\n",
       "Etrangers              50\n",
       "Protection sociale     35\n",
       "Travail                29\n",
       "Name: count, dtype: int64"
      ]
     },
     "execution_count": 7,
     "metadata": {},
     "output_type": "execute_result"
    }
   ],
   "source": [
    "df_questions['category'].value_counts()"
   ]
  },
  {
   "cell_type": "code",
   "execution_count": 8,
   "metadata": {},
   "outputs": [
    {
     "name": "stdout",
     "output_type": "stream",
     "text": [
      "Je suis travailleur salarié(e). Puis-je refuser de faire des heures supplémentaires ou de travailler de nuit ?\n",
      "22225,22226,22227,22228,22229,22230,22231,22232,22233,22234\n"
     ]
    }
   ],
   "source": [
    "print(df_questions[\"question\"][0])\n",
    "print(df_questions['article_ids'][0])"
   ]
  }
 ],
 "metadata": {
  "kernelspec": {
   "display_name": "AI_App",
   "language": "python",
   "name": "python3"
  },
  "language_info": {
   "codemirror_mode": {
    "name": "ipython",
    "version": 3
   },
   "file_extension": ".py",
   "mimetype": "text/x-python",
   "name": "python",
   "nbconvert_exporter": "python",
   "pygments_lexer": "ipython3",
   "version": "3.12.7"
  }
 },
 "nbformat": 4,
 "nbformat_minor": 2
}
