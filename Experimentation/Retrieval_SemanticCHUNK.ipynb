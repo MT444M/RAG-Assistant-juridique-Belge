{
 "cells": [
  {
   "cell_type": "code",
   "execution_count": 1,
   "metadata": {},
   "outputs": [],
   "source": [
    "from pymilvus import MilvusClient\n",
    "from pymilvus import CollectionSchema, FieldSchema, DataType\n",
    "\n",
    "\n",
    "import pandas as pd\n",
    "from tqdm import tqdm\n",
    "import numpy as np\n",
    "from typing import Dict , List, Any\n",
    "import time\n",
    "import json\n",
    "\n",
    "\n",
    "\n",
    "from FlagEmbedding import BGEM3FlagModel\n",
    "embeddings_dim = 1024\n"
   ]
  },
  {
   "cell_type": "markdown",
   "metadata": {},
   "source": [
    "### Create Collection"
   ]
  },
  {
   "cell_type": "code",
   "execution_count": 92,
   "metadata": {},
   "outputs": [
    {
     "data": {
      "text/plain": [
       "['articles_collection_L2',\n",
       " 'articles_collection_IP',\n",
       " 'articles_collection_COSINE',\n",
       " 'articles_collectionPartition_L2',\n",
       " 'articles_collectionPartition_IP',\n",
       " 'articles_collectionPartition_COSINE',\n",
       " 'Schunk_articles_collection',\n",
       " 'articles_collection']"
      ]
     },
     "execution_count": 92,
     "metadata": {},
     "output_type": "execute_result"
    }
   ],
   "source": [
    "client.list_collections()"
   ]
  },
  {
   "cell_type": "code",
   "execution_count": 3,
   "metadata": {},
   "outputs": [],
   "source": [
    "# client.drop_collection(\"RSchunk_articles_collection\")"
   ]
  },
  {
   "cell_type": "code",
   "execution_count": 2,
   "metadata": {},
   "outputs": [],
   "source": [
    "client = MilvusClient(uri=\"http://localhost:19530\")"
   ]
  },
  {
   "cell_type": "code",
   "execution_count": 4,
   "metadata": {},
   "outputs": [],
   "source": [
    "\n",
    "collection_name = 'RSchunk_articles_collection'\n",
    "\n",
    "id_field = FieldSchema(name=\"id\", dtype=DataType.INT64, is_primary=True)\n",
    "id_article_field = FieldSchema(name=\"article_id\", dtype=DataType.INT64)\n",
    "text_field = FieldSchema(name=\"chunk_article\", dtype=DataType.VARCHAR, max_length=65535)\n",
    "reference_field = FieldSchema(name=\"reference\", dtype=DataType.VARCHAR, max_length=1000)\n",
    "embedding_field = FieldSchema(name=\"embedding_articles\", dtype=DataType.FLOAT16_VECTOR, dim=embeddings_dim)\n",
    "\n",
    "schema = CollectionSchema(fields=[id_field, id_article_field, text_field, reference_field, embedding_field], description=\"collection d'articles de loi\")\n",
    "\n",
    "client.create_collection(collection_name = collection_name, schema=schema)"
   ]
  },
  {
   "cell_type": "markdown",
   "metadata": {},
   "source": [
    "##### Prep Indexing"
   ]
  },
  {
   "cell_type": "code",
   "execution_count": 5,
   "metadata": {},
   "outputs": [],
   "source": [
    "#  set the indexing\n",
    "index_params = MilvusClient.prepare_index_params()\n",
    "\n",
    "# Add an index on the vector field.\n",
    "index_params.add_index(\n",
    "    field_name=\"embedding_articles\",\n",
    "    metric_type=\"COSINE\",\n",
    "    index_type=\"FLAT\",\n",
    "    index_name=\"vector_index\",\n",
    "    params={}   #128 clusters units, 8 cluster search\n",
    ")\n",
    "\n",
    "client.create_index(\n",
    "    collection_name=collection_name,\n",
    "    index_params=index_params,\n",
    "    sync=False # Whether to wait for index creation to complete before returning. Defaults to True.\n",
    ")\n"
   ]
  },
  {
   "cell_type": "markdown",
   "metadata": {},
   "source": [
    "### Create Partition and Insert entities"
   ]
  },
  {
   "cell_type": "markdown",
   "metadata": {},
   "source": [
    "##### Create Partitions"
   ]
  },
  {
   "cell_type": "code",
   "execution_count": 6,
   "metadata": {},
   "outputs": [],
   "source": [
    "# load data\n",
    "# df_chunk_articles = pd.read_csv('chunked_articles.csv')\n",
    "df_Recursivechunked_articles = pd.read_csv('Recursivechunked_articles.csv')"
   ]
  },
  {
   "cell_type": "code",
   "execution_count": 7,
   "metadata": {},
   "outputs": [],
   "source": [
    "# length of the chunk\n",
    "def len_chunk(chunk):\n",
    "    return len(chunk.split())\n",
    "\n",
    "df_Recursivechunked_articles['chunk'] = df_Recursivechunked_articles['chunk'].astype(str)\n",
    "df_Recursivechunked_articles['len_chunk'] = df_Recursivechunked_articles['chunk'].apply(len_chunk)"
   ]
  },
  {
   "cell_type": "code",
   "execution_count": 8,
   "metadata": {},
   "outputs": [
    {
     "data": {
      "text/html": [
       "<div>\n",
       "<style scoped>\n",
       "    .dataframe tbody tr th:only-of-type {\n",
       "        vertical-align: middle;\n",
       "    }\n",
       "\n",
       "    .dataframe tbody tr th {\n",
       "        vertical-align: top;\n",
       "    }\n",
       "\n",
       "    .dataframe thead th {\n",
       "        text-align: right;\n",
       "    }\n",
       "</style>\n",
       "<table border=\"1\" class=\"dataframe\">\n",
       "  <thead>\n",
       "    <tr style=\"text-align: right;\">\n",
       "      <th></th>\n",
       "      <th>id_chunk</th>\n",
       "      <th>article_id</th>\n",
       "      <th>code</th>\n",
       "      <th>reference</th>\n",
       "      <th>chunk</th>\n",
       "      <th>len_chunk</th>\n",
       "    </tr>\n",
       "  </thead>\n",
       "  <tbody>\n",
       "    <tr>\n",
       "      <th>740</th>\n",
       "      <td>740</td>\n",
       "      <td>5311</td>\n",
       "      <td>Code Judiciaire</td>\n",
       "      <td>Art. 1202, Code Judiciaire (Livre IV, Chapitre...</td>\n",
       "      <td>Il ne peut faire l'avance au vendeur du prix n...</td>\n",
       "      <td>11</td>\n",
       "    </tr>\n",
       "    <tr>\n",
       "      <th>741</th>\n",
       "      <td>741</td>\n",
       "      <td>17480</td>\n",
       "      <td>Code de la Démocratie Locale et de la Décentra...</td>\n",
       "      <td>Art. L2212-19, Code de la Démocratie Locale et...</td>\n",
       "      <td>§ 1er La séance est ouverte et close par le pr...</td>\n",
       "      <td>11</td>\n",
       "    </tr>\n",
       "    <tr>\n",
       "      <th>742</th>\n",
       "      <td>742</td>\n",
       "      <td>15350</td>\n",
       "      <td>Code de Droit Economique</td>\n",
       "      <td>Art. XII.24, Code de Droit Economique (Livre X...</td>\n",
       "      <td>§ 1er Le présent titre met en oeuvre le règlem...</td>\n",
       "      <td>11</td>\n",
       "    </tr>\n",
       "    <tr>\n",
       "      <th>743</th>\n",
       "      <td>743</td>\n",
       "      <td>4834</td>\n",
       "      <td>Code Judiciaire</td>\n",
       "      <td>Art. 745, Code Judiciaire (Livre II, Titre II,...</td>\n",
       "      <td>20), abrogé lui-même par l'art 176, 10° de L20...</td>\n",
       "      <td>11</td>\n",
       "    </tr>\n",
       "    <tr>\n",
       "      <th>744</th>\n",
       "      <td>744</td>\n",
       "      <td>17474</td>\n",
       "      <td>Code de la Démocratie Locale et de la Décentra...</td>\n",
       "      <td>Art. L2212-13, Code de la Démocratie Locale et...</td>\n",
       "      <td>Chaque groupe politique désigne en son sein un...</td>\n",
       "      <td>11</td>\n",
       "    </tr>\n",
       "  </tbody>\n",
       "</table>\n",
       "</div>"
      ],
      "text/plain": [
       "     id_chunk  article_id                                               code  \\\n",
       "740       740        5311                                    Code Judiciaire   \n",
       "741       741       17480  Code de la Démocratie Locale et de la Décentra...   \n",
       "742       742       15350                           Code de Droit Economique   \n",
       "743       743        4834                                    Code Judiciaire   \n",
       "744       744       17474  Code de la Démocratie Locale et de la Décentra...   \n",
       "\n",
       "                                             reference  \\\n",
       "740  Art. 1202, Code Judiciaire (Livre IV, Chapitre...   \n",
       "741  Art. L2212-19, Code de la Démocratie Locale et...   \n",
       "742  Art. XII.24, Code de Droit Economique (Livre X...   \n",
       "743  Art. 745, Code Judiciaire (Livre II, Titre II,...   \n",
       "744  Art. L2212-13, Code de la Démocratie Locale et...   \n",
       "\n",
       "                                                 chunk  len_chunk  \n",
       "740  Il ne peut faire l'avance au vendeur du prix n...         11  \n",
       "741  § 1er La séance est ouverte et close par le pr...         11  \n",
       "742  § 1er Le présent titre met en oeuvre le règlem...         11  \n",
       "743  20), abrogé lui-même par l'art 176, 10° de L20...         11  \n",
       "744  Chaque groupe politique désigne en son sein un...         11  "
      ]
     },
     "execution_count": 8,
     "metadata": {},
     "output_type": "execute_result"
    }
   ],
   "source": [
    "\n",
    "df_Recursivechunked_articles = df_Recursivechunked_articles[df_Recursivechunked_articles['len_chunk'] > 10]\n",
    "# rename the column \"Unnamed: 0\" to id_chunk\n",
    "df_Recursivechunked_articles.rename(columns={'Unnamed: 0': 'id_chunk'}, inplace=True)\n",
    "df_Recursivechunked_articles.head(5)"
   ]
  },
  {
   "cell_type": "code",
   "execution_count": 9,
   "metadata": {},
   "outputs": [],
   "source": [
    "df_chunk_articles =  df_Recursivechunked_articles.copy()"
   ]
  },
  {
   "cell_type": "code",
   "execution_count": 10,
   "metadata": {},
   "outputs": [],
   "source": [
    "import re\n",
    "\n",
    "def normalize_partition_name(name):\n",
    "    # Replace the spaces and dashes with underscores\n",
    "    name = re.sub(r'\\s+|-', '_', name)\n",
    "    # remove non-alphanumeric characters\n",
    "    name = re.sub(r'[^a-zA-Z0-9_]', '', name)\n",
    "    return name\n",
    "\n",
    "# Appliquer cette fonction aux noms des codes\n",
    "df_chunk_articles['normalized_cat'] = df_chunk_articles['code'].apply(normalize_partition_name)\n"
   ]
  },
  {
   "cell_type": "code",
   "execution_count": 11,
   "metadata": {},
   "outputs": [
    {
     "data": {
      "text/plain": [
       "array(['Code_Bruxellois_de_lAir_du_Climat_et_de_la_Matrise_de_lEnergie',\n",
       "       'Code_Bruxellois_de_lAmnagement_du_Territoire',\n",
       "       'Code_Bruxellois_du_Logement', 'Code_Civil', 'Code_Consulaire',\n",
       "       'Code_Electoral', 'Code_Electoral_Communal_Bruxellois',\n",
       "       'Code_Ferroviaire', 'Code_Forestier', 'Code_Judiciaire',\n",
       "       'Code_Pnal', 'Code_Pnal_Militaire', 'Code_Pnal_Social',\n",
       "       'Code_Rural',\n",
       "       'Code_Rglementaire_Wallon_de_lAction_sociale_et_de_la_Sant',\n",
       "       'Code_Wallon_de_lAction_sociale_et_de_la_Sant',\n",
       "       'Code_Wallon_de_lAgriculture',\n",
       "       'Code_Wallon_de_lEnseignement_Fondamental_et_de_lEnseignement_Secondaire',\n",
       "       'Code_Wallon_de_lEnvironnement',\n",
       "       'Code_Wallon_de_lHabitation_Durable',\n",
       "       'Code_Wallon_du_Bien_tre_des_animaux',\n",
       "       'Code_Wallon_du_Dveloppement_Territorial',\n",
       "       'Code_dInstruction_Criminelle', 'Code_de_Droit_Economique',\n",
       "       'Code_de_Droit_International_Priv',\n",
       "       'Code_de_lEau_intgr_au_Code_Wallon_de_lEnvironnement',\n",
       "       'Code_de_la_Dmocratie_Locale_et_de_la_Dcentralisation',\n",
       "       'Code_de_la_Fonction_Publique_Wallonne',\n",
       "       'Code_de_la_Nationalit_Belge', 'Code_de_la_Navigation',\n",
       "       'Code_des_Socits_et_des_Associations',\n",
       "       'Code_du_Bien_tre_au_Travail', 'Codes_des_Droits_et_Taxes_Divers',\n",
       "       'La_Constitution'], dtype=object)"
      ]
     },
     "execution_count": 11,
     "metadata": {},
     "output_type": "execute_result"
    }
   ],
   "source": [
    "codes"
   ]
  },
  {
   "cell_type": "code",
   "execution_count": 11,
   "metadata": {},
   "outputs": [],
   "source": [
    "# create the partitions\n",
    "codes = df_chunk_articles['normalized_cat'].unique()\n",
    "\n",
    "for code in codes:\n",
    "    client.create_partition(collection_name = collection_name,\n",
    "                            partition_name=code)"
   ]
  },
  {
   "cell_type": "markdown",
   "metadata": {},
   "source": [
    "### Encode chunked articles "
   ]
  },
  {
   "cell_type": "code",
   "execution_count": 125,
   "metadata": {},
   "outputs": [],
   "source": [
    "def encode_chunks(model, articles_list, batch_size=12, max_length=8192):\n",
    "    encoded_vectors = []\n",
    "    \n",
    "    for i in tqdm(range(0, len(articles_list), batch_size), desc=\"Encoding chunks\"):\n",
    "        batch_articles = articles_list[i:i + batch_size]\n",
    "        \n",
    "        # Ensure all articles in the batch are strings\n",
    "        # batch_articles = [str(article) for article in batch_articles]\n",
    "        \n",
    "        # Encode the batch\n",
    "        try:\n",
    "            batch_encoded = model.encode(\n",
    "                batch_articles,\n",
    "                batch_size=batch_size,\n",
    "                max_length=max_length\n",
    "            )[\"dense_vecs\"]\n",
    "            \n",
    "            # Append the batch result to the list of encoded vectors\n",
    "            encoded_vectors.append(batch_encoded)\n",
    "        except Exception as e:\n",
    "            print(f\"Error encoding batch {i // batch_size + 1}: {e}\")\n",
    "    \n",
    "    # Convert the list of encoded vectors to a single numpy array\n",
    "    encoded_vectors = np.vstack(encoded_vectors)\n",
    "    \n",
    "    return encoded_vectors"
   ]
  },
  {
   "cell_type": "code",
   "execution_count": 135,
   "metadata": {},
   "outputs": [
    {
     "name": "stderr",
     "output_type": "stream",
     "text": [
      "Encoding chunks: 100%|██████████| 2772/2772 [07:21<00:00,  6.28it/s]\n"
     ]
    }
   ],
   "source": [
    "# Example usage:\n",
    "\n",
    "# List of articles\n",
    "articles_list = df_chunk_articles['chunk'].tolist()\n",
    "\n",
    "# Encode the list of articles\n",
    "encoded_vectors = encode_chunks(bge_m3, articles_list)\n"
   ]
  },
  {
   "cell_type": "code",
   "execution_count": 21,
   "metadata": {},
   "outputs": [],
   "source": [
    "# Adjusted function to save embeddings\n",
    "def save_embeddings(embeddings: np.ndarray, filepath: str):\n",
    "    \"\"\"Save embeddings to disk using numpy's compressed format\"\"\"\n",
    "    np.savez_compressed(filepath, embeddings=embeddings)"
   ]
  },
  {
   "cell_type": "code",
   "execution_count": 136,
   "metadata": {},
   "outputs": [],
   "source": [
    "# Optionally save to disk\n",
    "save_embeddings(encoded_vectors, 'embeddings_RSchunks_bgem3.npz')"
   ]
  },
  {
   "cell_type": "markdown",
   "metadata": {},
   "source": [
    "##### Insert the entities"
   ]
  },
  {
   "cell_type": "code",
   "execution_count": 12,
   "metadata": {},
   "outputs": [],
   "source": [
    "def load_embeddings_as_dict(filepath: str, df_chunk_articles) -> Dict[int, np.ndarray]:\n",
    "    \"\"\"Load embeddings from disk and return as a dictionary of id:embedding pairs\"\"\"\n",
    "    data = np.load(filepath)\n",
    "    ids = df_chunk_articles['id_chunk'].tolist()\n",
    "    embeddings = data['embeddings']\n",
    "    \n",
    "    embeddings_dict = {int(id_): emb for id_, emb in zip(ids, embeddings)}\n",
    "    \n",
    "    return embeddings_dict\n",
    "\n"
   ]
  },
  {
   "cell_type": "code",
   "execution_count": 13,
   "metadata": {},
   "outputs": [],
   "source": [
    "embeddings_dict = load_embeddings_as_dict('embeddings_RSchunks_bgem3.npz', df_chunk_articles)"
   ]
  },
  {
   "cell_type": "code",
   "execution_count": 14,
   "metadata": {},
   "outputs": [],
   "source": [
    "# Create the entities\n",
    "def process_embeddings_in_chunks_and_partitions(\n",
    "    df_chunk_articles: pd.DataFrame,\n",
    "    loaded_embeddings: Dict[int, np.ndarray],\n",
    "    chunk_size: int = 1000\n",
    ") -> Dict[str, List[Dict[str, Any]]]:\n",
    "\n",
    "    # Initialize dictionary for partitioned entities\n",
    "    partitioned_entities = {}\n",
    "\n",
    "    # Process data in chunks with progress bar\n",
    "    with tqdm(total=len(df_chunk_articles), desc=\"Processing entities\") as pbar:\n",
    "        for chunk_start in range(0, len(df_chunk_articles), chunk_size):\n",
    "            # Get chunk of dataframe\n",
    "            chunk_end = min(chunk_start + chunk_size, len(df_chunk_articles))\n",
    "            df_chunk = df_chunk_articles.iloc[chunk_start:chunk_end]\n",
    "\n",
    "            # Process chunk\n",
    "            for _, row in df_chunk.iterrows():\n",
    "                partition = row['normalized_cat']\n",
    "                embedding = loaded_embeddings.get(row['id_chunk'])\n",
    "                if embedding is not None:\n",
    "                    entity = {\n",
    "                        \"id\": row['id_chunk'],\n",
    "                        \"article_id\": row['article_id'],\n",
    "                        \"chunk_article\": str(row['chunk']),\n",
    "                        \"reference\": row['reference'],\n",
    "                        \"embedding_articles\": np.array(embedding, dtype=np.float16)  # np.array of float16 to meet Milvus requirements\n",
    "                    }\n",
    "                    if partition not in partitioned_entities:\n",
    "                        partitioned_entities[partition] = []\n",
    "                    partitioned_entities[partition].append(entity)\n",
    "\n",
    "            # Update progress bar\n",
    "            pbar.update(len(df_chunk))\n",
    "\n",
    "    print(f\"Processed entities into {len(partitioned_entities)} partitions.\")\n",
    "    return partitioned_entities\n"
   ]
  },
  {
   "cell_type": "code",
   "execution_count": 15,
   "metadata": {},
   "outputs": [
    {
     "name": "stderr",
     "output_type": "stream",
     "text": [
      "Processing entities: 100%|██████████| 33259/33259 [00:02<00:00, 12929.26it/s]"
     ]
    },
    {
     "name": "stdout",
     "output_type": "stream",
     "text": [
      "Processed entities into 34 partitions.\n"
     ]
    },
    {
     "name": "stderr",
     "output_type": "stream",
     "text": [
      "\n"
     ]
    }
   ],
   "source": [
    "partition_entities = process_embeddings_in_chunks_and_partitions(df_chunk_articles, embeddings_dict)"
   ]
  },
  {
   "cell_type": "code",
   "execution_count": 16,
   "metadata": {},
   "outputs": [],
   "source": [
    "def insert_entities_in_chunks(client, collection_name, partition_entities, batch_size=1000):\n",
    "    for partition, entities in partition_entities.items():\n",
    "        print(f\"Inserting entities into partition: {partition}\")\n",
    "        for i in range(0, len(entities), batch_size):\n",
    "            batch = entities[i:i + batch_size]\n",
    "            try:\n",
    "                client.insert(data=batch, collection_name=collection_name, partition_name=partition)\n",
    "            except Exception as e:\n",
    "                print(f\"Error during insertion for batch {i // batch_size + 1} in partition {partition}: {e}\")\n",
    "\n"
   ]
  },
  {
   "cell_type": "code",
   "execution_count": 17,
   "metadata": {},
   "outputs": [
    {
     "name": "stdout",
     "output_type": "stream",
     "text": [
      "Inserting entities into partition: Code_Judiciaire\n",
      "Inserting entities into partition: Code_de_la_Dmocratie_Locale_et_de_la_Dcentralisation\n",
      "Inserting entities into partition: Code_de_Droit_Economique\n",
      "Inserting entities into partition: La_Constitution\n",
      "Inserting entities into partition: Code_Civil\n",
      "Inserting entities into partition: Code_de_la_Navigation\n",
      "Inserting entities into partition: Code_Pnal_Militaire\n",
      "Inserting entities into partition: Code_dInstruction_Criminelle\n",
      "Inserting entities into partition: Code_Wallon_de_lAgriculture\n",
      "Inserting entities into partition: Code_du_Bien_tre_au_Travail\n",
      "Inserting entities into partition: Code_Rglementaire_Wallon_de_lAction_sociale_et_de_la_Sant\n",
      "Inserting entities into partition: Code_Bruxellois_de_lAmnagement_du_Territoire\n",
      "Inserting entities into partition: Code_Wallon_de_lAction_sociale_et_de_la_Sant\n",
      "Inserting entities into partition: Code_de_la_Fonction_Publique_Wallonne\n",
      "Inserting entities into partition: Code_Wallon_de_lEnseignement_Fondamental_et_de_lEnseignement_Secondaire\n",
      "Inserting entities into partition: Code_des_Socits_et_des_Associations\n",
      "Inserting entities into partition: Code_Wallon_du_Dveloppement_Territorial\n",
      "Inserting entities into partition: Code_Pnal\n",
      "Inserting entities into partition: Code_de_lEau_intgr_au_Code_Wallon_de_lEnvironnement\n",
      "Inserting entities into partition: Code_Wallon_de_lEnvironnement\n",
      "Inserting entities into partition: Code_Wallon_de_lHabitation_Durable\n",
      "Inserting entities into partition: Code_Electoral\n",
      "Inserting entities into partition: Code_Electoral_Communal_Bruxellois\n",
      "Inserting entities into partition: Code_Consulaire\n",
      "Inserting entities into partition: Code_Forestier\n",
      "Inserting entities into partition: Code_Bruxellois_du_Logement\n",
      "Inserting entities into partition: Code_Rural\n",
      "Inserting entities into partition: Code_Ferroviaire\n",
      "Inserting entities into partition: Codes_des_Droits_et_Taxes_Divers\n",
      "Inserting entities into partition: Code_de_Droit_International_Priv\n",
      "Inserting entities into partition: Code_Bruxellois_de_lAir_du_Climat_et_de_la_Matrise_de_lEnergie\n",
      "Inserting entities into partition: Code_Wallon_du_Bien_tre_des_animaux\n",
      "Inserting entities into partition: Code_Pnal_Social\n",
      "Inserting entities into partition: Code_de_la_Nationalit_Belge\n"
     ]
    }
   ],
   "source": [
    "# Example usage\n",
    "insert_entities_in_chunks(client, collection_name, partition_entities, batch_size=100)"
   ]
  },
  {
   "cell_type": "markdown",
   "metadata": {},
   "source": [
    "-------------"
   ]
  },
  {
   "cell_type": "markdown",
   "metadata": {},
   "source": [
    "### Test search: Retrieve"
   ]
  },
  {
   "cell_type": "code",
   "execution_count": 23,
   "metadata": {},
   "outputs": [
    {
     "name": "stdout",
     "output_type": "stream",
     "text": [
      "['_default', 'Code_Judiciaire', 'Code_de_la_Dmocratie_Locale_et_de_la_Dcentralisation', 'Code_de_Droit_Economique', 'La_Constitution', 'Code_Civil', 'Code_de_la_Navigation', 'Code_Pnal_Militaire', 'Code_dInstruction_Criminelle', 'Code_Wallon_de_lAgriculture', 'Code_du_Bien_tre_au_Travail', 'Code_Rglementaire_Wallon_de_lAction_sociale_et_de_la_Sant', 'Code_Bruxellois_de_lAmnagement_du_Territoire', 'Code_Wallon_de_lAction_sociale_et_de_la_Sant', 'Code_de_la_Fonction_Publique_Wallonne', 'Code_Wallon_de_lEnseignement_Fondamental_et_de_lEnseignement_Secondaire', 'Code_des_Socits_et_des_Associations', 'Code_Wallon_du_Dveloppement_Territorial', 'Code_Pnal', 'Code_de_lEau_intgr_au_Code_Wallon_de_lEnvironnement', 'Code_Wallon_de_lEnvironnement', 'Code_Wallon_de_lHabitation_Durable', 'Code_Electoral', 'Code_Electoral_Communal_Bruxellois', 'Code_Consulaire', 'Code_Forestier', 'Code_Bruxellois_du_Logement', 'Code_Rural', 'Code_Ferroviaire', 'Codes_des_Droits_et_Taxes_Divers', 'Code_de_Droit_International_Priv', 'Code_Bruxellois_de_lAir_du_Climat_et_de_la_Matrise_de_lEnergie', 'Code_Wallon_du_Bien_tre_des_animaux', 'Code_Pnal_Social', 'Code_de_la_Nationalit_Belge']\n"
     ]
    }
   ],
   "source": [
    "res = client.list_partitions(collection_name=collection_name)\n",
    "print(res)"
   ]
  },
  {
   "cell_type": "markdown",
   "metadata": {},
   "source": [
    "##### Embedding Model"
   ]
  },
  {
   "cell_type": "code",
   "execution_count": 18,
   "metadata": {},
   "outputs": [
    {
     "data": {
      "application/vnd.jupyter.widget-view+json": {
       "model_id": "8269550334d2486c83b67baca1205968",
       "version_major": 2,
       "version_minor": 0
      },
      "text/plain": [
       "Fetching 30 files:   0%|          | 0/30 [00:00<?, ?it/s]"
      ]
     },
     "metadata": {},
     "output_type": "display_data"
    },
    {
     "name": "stderr",
     "output_type": "stream",
     "text": [
      "c:\\Users\\mthia\\anaconda3\\envs\\AI_App\\Lib\\site-packages\\FlagEmbedding\\BGE_M3\\modeling.py:335: FutureWarning: You are using `torch.load` with `weights_only=False` (the current default value), which uses the default pickle module implicitly. It is possible to construct malicious pickle data which will execute arbitrary code during unpickling (See https://github.com/pytorch/pytorch/blob/main/SECURITY.md#untrusted-models for more details). In a future release, the default value for `weights_only` will be flipped to `True`. This limits the functions that could be executed during unpickling. Arbitrary objects will no longer be allowed to be loaded via this mode unless they are explicitly allowlisted by the user via `torch.serialization.add_safe_globals`. We recommend you start setting `weights_only=True` for any use case where you don't have full control of the loaded file. Please open an issue on GitHub for any issues related to this experimental feature.\n",
      "  colbert_state_dict = torch.load(os.path.join(model_dir, 'colbert_linear.pt'), map_location='cpu')\n",
      "c:\\Users\\mthia\\anaconda3\\envs\\AI_App\\Lib\\site-packages\\FlagEmbedding\\BGE_M3\\modeling.py:336: FutureWarning: You are using `torch.load` with `weights_only=False` (the current default value), which uses the default pickle module implicitly. It is possible to construct malicious pickle data which will execute arbitrary code during unpickling (See https://github.com/pytorch/pytorch/blob/main/SECURITY.md#untrusted-models for more details). In a future release, the default value for `weights_only` will be flipped to `True`. This limits the functions that could be executed during unpickling. Arbitrary objects will no longer be allowed to be loaded via this mode unless they are explicitly allowlisted by the user via `torch.serialization.add_safe_globals`. We recommend you start setting `weights_only=True` for any use case where you don't have full control of the loaded file. Please open an issue on GitHub for any issues related to this experimental feature.\n",
      "  sparse_state_dict = torch.load(os.path.join(model_dir, 'sparse_linear.pt'), map_location='cpu')\n"
     ]
    }
   ],
   "source": [
    "bge_m3 = BGEM3FlagModel('BAAI/bge-m3',  \n",
    "                       use_fp16=True, \n",
    "                       device='cuda')\n"
   ]
  },
  {
   "cell_type": "code",
   "execution_count": 19,
   "metadata": {},
   "outputs": [],
   "source": [
    "def generate_embedding(article):\n",
    "    embedding = bge_m3.encode([article], batch_size=12, max_length=1024)[\"dense_vecs\"]\n",
    "    return embedding[0]"
   ]
  },
  {
   "cell_type": "code",
   "execution_count": 20,
   "metadata": {},
   "outputs": [],
   "source": [
    "df_questions = pd.read_csv('questions_train.csv')\n",
    "\n",
    "\n",
    "df_questions['complet_quesiton'] = df_questions.apply(lambda row: row['question'] if pd.isna(row['extra_description']) else row['question'] + \" \" + row['extra_description'], axis=1)"
   ]
  },
  {
   "cell_type": "code",
   "execution_count": 21,
   "metadata": {},
   "outputs": [],
   "source": [
    "m = 3\n",
    "query_vectors = generate_embedding(df_questions['complet_quesiton'].iloc[m])"
   ]
  },
  {
   "cell_type": "code",
   "execution_count": 24,
   "metadata": {},
   "outputs": [],
   "source": [
    "selected_partitions = res[1:]\n",
    "client.load_partitions(collection_name = collection_name,\n",
    "                                    partition_names= selected_partitions)\n",
    "\n",
    "search_results = client.search(\n",
    "    collection_name= collection_name,\n",
    "    data = [query_vectors],  \n",
    "    partition_names= selected_partitions,\n",
    "    limit=20,  \n",
    "    search_params={\"metric_type\": \"COSINE\", \"params\":{}},\n",
    "    output_fields= ['id', 'article_id', 'chunk_article']\n",
    ")"
   ]
  },
  {
   "cell_type": "code",
   "execution_count": 26,
   "metadata": {},
   "outputs": [
    {
     "name": "stdout",
     "output_type": "stream",
     "text": [
      "12012,12030,12031,12032,12033,12034,12035\n",
      "[12155, 12062, 12031, 12025, 12025, 11258, 12043, 12042, 12041, 12153, 12108, 12054, 12124, 12050, 12156, 12092, 12153, 12032, 12153, 12050]\n"
     ]
    }
   ],
   "source": [
    "print(df_questions['article_ids'].iloc[m])\n",
    "# formatted_result = json.dumps(search_results[0], indent=3, ensure_ascii=False)\n",
    "# print(formatted_result)\n",
    "\n",
    "predicted_ids = [result[\"entity\"][\"article_id\"] for result in search_results[0]]\n",
    "print(predicted_ids)"
   ]
  },
  {
   "cell_type": "code",
   "execution_count": 106,
   "metadata": {},
   "outputs": [
    {
     "name": "stdout",
     "output_type": "stream",
     "text": [
      "12012,12030,12031,12032,12033,12034,12035\n",
      "[12155, 12062, 12031, 12025, 12108, 12153, 12054, 12124, 12050, 12156, 12153, 12032, 12050, 12056, 12081, 10410, 10829, 883, 12303, 12033]\n"
     ]
    }
   ],
   "source": [
    "print(df_questions['article_ids'].iloc[m])\n",
    "# formatted_result = json.dumps(search_results[0], indent=3, ensure_ascii=False)\n",
    "# print(formatted_result)\n",
    "\n",
    "predicted_ids = [result[\"entity\"][\"article_id\"] for result in search_results[0]]\n",
    "print(predicted_ids)"
   ]
  },
  {
   "cell_type": "code",
   "execution_count": 80,
   "metadata": {},
   "outputs": [
    {
     "name": "stdout",
     "output_type": "stream",
     "text": [
      "12012,12030,12031,12032,12033,12034,12035\n",
      "[\n",
      "   {\n",
      "      \"id\": 15526,\n",
      "      \"distance\": 0.66339510679245,\n",
      "      \"entity\": {\n",
      "         \"id\": 15526,\n",
      "         \"article_id\": 12155,\n",
      "         \"chunk_article\": \"Tout pouvoir public relevant du champ d'activité de la société, tout centre d'insertion socioprofessionnelle agréé en vertu du décret du 10 juillet 2013 relatif aux centres d'insertion socioprofessionnelle ou tout organisme à finalité sociale, peut prendre en location un logement d'utilité publique, géré par une société de logement de service public afin de le mettre à disposition, sous sa seule responsabilité, d'un ménage de catégorie 1 et 2.Le nombre de logements pouvant être pris ainsi en location est limité à 5% du patrimoine de la société de logement de service public, parmi les logements déterminés par celle-ci, sur la base de critères objectifs dument motivés.Ce pourcentage ne tient pas compte des logements conventionnés dans le cadre d'un projet spécifique autorisés par la Société wallonne du Logement.Sur la proposition de la Société wallonne du Logement, le Gouvernement fixe les conditions de mise en location de ces logements.\"\n",
      "      }\n",
      "   },\n",
      "   {\n",
      "      \"id\": 15399,\n",
      "      \"distance\": 0.6532588601112366,\n",
      "      \"entity\": {\n",
      "         \"id\": 15399,\n",
      "         \"article_id\": 12062,\n",
      "         \"chunk_article\": \"La Société wallonne du Logement peut accorder une aide à toute société de logement de service public qui prend en gestion ou en location un bien immobilier pour le donner, aux conditions fixées par le Gouvernement, en location à un ménage de catégorie 3, 2 ou 1.\"\n",
      "      }\n",
      "   },\n",
      "   {\n",
      "      \"id\": 15351,\n",
      "      \"distance\": 0.6514257192611694,\n",
      "      \"entity\": {\n",
      "         \"id\": 15351,\n",
      "         \"article_id\": 12031,\n",
      "         \"chunk_article\": \"Avant toute mise en location d'un logement visé à la présente section, le bailleur doit être titulaire d'un permis de location.Le logement doit :1° respecter les critères de salubrité et les critères relatifs à la structure du logement et à sa dimension fixés par le Gouvernement sur la base du présent Code;1°bis respecter l'obligation d'équipement en matière de détecteurs d'incendie;2° respecter les règlements communaux en matière de salubrité ainsi que les règlements en matière de sécurité incendie Ceux-ci peuvent être, préalablement à leur adoption, soumis pour avis à l'administration\"\n",
      "      }\n",
      "   },\n",
      "   {\n",
      "      \"id\": 15343,\n",
      "      \"distance\": 0.650840163230896,\n",
      "      \"entity\": {\n",
      "         \"id\": 15343,\n",
      "         \"article_id\": 12025,\n",
      "         \"chunk_article\": \"logements donnés en location à un C.P.A.S ou à un organisme à finalité sociale en application de l'article 132;3 logements pris en gestion par une agence immobilière sociale en application de l'article 193;4 logements issus du secteur locatif privé;5 structures d'hébergement assurées par des organismes agréés en vertu du décret du 12 février 2004 relatif à l'accueil, l'hébergement et l'accompagnement des personnes en difficultés sociales, ou du décret du 9 mai 1994 de la Communauté germanophone portant agréation d'institutions accueillant et encadrant provisoirement des personnes en détresse et portant octroi de subsides en vue de l'achat, la construction, la location, la remise en état et l'équipement d'habitations destinées à l'accueil d'urgence.Si la Société wallonne du Logement ne trouve aucun logement sur le territoire de la province ou si le ménage expulsé n'accepte pas la proposition effectuée par le bourgmestre ou par la Société wallonne du Logement, plus aucune obligation de relogement n'incombe au bourgmestre et à la Société wallonne du Logement.Tout propriétaire privé peut manifester sa volonté de louer ou de mettre à disposition un bien dans le cadre d'une procédure de relogement auprès de la commune, sur le territoire de laquelle se situe le logement, ou de la Société wallonne du Logement.La commune et la Société wallonne du Logement tiennent un inventaire à jour de ces logements.Le recours à un logement du secteur locatif privé n'est permis que si le Fonds régional pour le relogement visé à la section 4 permet d'en financer partiellement la location.Le Gouvernement détermine la durée ainsi que le financement du relogement en fonction des ressources et des besoins de l'occupant expulsé.L'obligation de relogement visé au présent article ne s'applique pas lorsque l'habitation doit être évacuéepour cause de surpeuplement.\"\n",
      "      }\n",
      "   },\n",
      "   {\n",
      "      \"id\": 15459,\n",
      "      \"distance\": 0.6360910534858704,\n",
      "      \"entity\": {\n",
      "         \"id\": 15459,\n",
      "         \"article_id\": 12108,\n",
      "         \"chunk_article\": \"§ 1er Lorsqu'un opérateur immobilier prend en location ou en gestion un logement conformément au présent chapitre, la Région peut lui accorder une aide, sous la forme d'une subvention oud'une avance remboursable, lui permettant d'effectuer des travaux de réhabilitation ou de restructuration dont la nature est fixée par le Gouvernement § 2 Les demandes d'aide sont adressées à l'administration, à la Société wallonne du logement s'il s'agit d'une société de logement de service public ou au Fonds du Logement des Familles nombreuses de Wallonie, s'il s'agit d'un organisme à finalité sociale L'aide est accordée par l'administration, par la Société wallonne du logement s'il s'agit d'une société de logement de service public ou par le Fonds du Logement des Familles nombreuses de Wallonie, s'il s'agit d'un organisme à finalité sociale 3\"\n",
      "      }\n",
      "   },\n",
      "   {\n",
      "      \"id\": 15524,\n",
      "      \"distance\": 0.6340896487236023,\n",
      "      \"entity\": {\n",
      "         \"id\": 15524,\n",
      "         \"article_id\": 12153,\n",
      "         \"chunk_article\": \"L'autorisation délivrée est valable pour une durée d'un an;2° soit la durée d'occupation par le locataire est inférieure à six ans;3° soit le taux de logement public de la commune sur laquelle se trouve le bien est inférieur à cinq pour cent;4° soit, après accord du Gouvernement ou de son délégué, aucune aide de la Région n'a été accordée à la société ayant procédé à la vente du logement en vue de lui permettre la reconstitution de son patrimoine.La société conditionne la vente à l'apurement préalable des éventuelles dettes du locataire candidat-acheteur envers la société ou à la compensation de ces dettes dans le prix de la vente.Le Gouvernement wallon fixe des conditions particulières à la vente des logements lorsque la vente conduit à la création d'une copropriété En l'absence de ces conditions, la société peut refuser la vente.Le produit de la vente des logements est affecté prioritairement au remboursement des emprunts contractés pour le financement du logement concerné.4°  5° l'instruction des demandes des ménages qui souhaitent acheter un logement et le suivi des contrats;6° la prise en location ou en gestion de bâtiments pour les affecter au logement, ou de logements, 2;7° la participation à la création, à la gestion et au fonctionnement de personnes morales, publiques ou privées, impliquées dans la mise en oeuvre des objectifs de la politique régionale du logement;8° l'assistance aux pouvoirs locaux dans la mise en oeuvre de la politique locale du logement;8°bis 29° l'équipement en voirie, égouts, éclairage public, réseau de distribution d'eau, abords communs et installations d'intérêt culturel ou social faisant partie intégrante d'un ensemble de bâtiments, et l'aménagement de cet équipement;10° la constitution de réserves de terrains nécessaires au développement harmonieux de l'habitat, pour les céder à des particuliers ou accorder à ceux-ci des droits réels, en leur imposant le maintien de l'aspect et de l'agencement fonctionnel des ensembles;10°bis la mise en oeuvre et la tenue du cadastre des logements gérés par les sociétés de logement de service public, tel que défini à l'article 1er, 37°, selon les modalités fixées par le Gouvernement \\\";10°ter l'information des membres du comité consultatif des locataires et des propriétaires, nécessaires à l'exercice de ses compétences.11° toute mission nouvelle ayant un rapport direct avec celles visées aux points précédents, fixée par le Gouvernement sur avis de la Société wallonne du logement.Le Gouvernement peut fixer les conditions et modalités de mise en oeuvre du présent article, après avis de la Société wallonne du Logement.\"\n",
      "      }\n",
      "   },\n",
      "   {\n",
      "      \"id\": 15387,\n",
      "      \"distance\": 0.6325711011886597,\n",
      "      \"entity\": {\n",
      "         \"id\": 15387,\n",
      "         \"article_id\": 12054,\n",
      "         \"chunk_article\": \"§ 1er La Société wallonne du Logement peut accorder une aide à toute société de logement de service public qui crée un logement de transit.Le bâtiment créé avec l'aide de la Société wallonne du Logement est affecté au logement de transit pendant une période d'au moins neuf années 2\"\n",
      "      }\n",
      "   },\n",
      "   {\n",
      "      \"id\": 15484,\n",
      "      \"distance\": 0.6301159858703613,\n",
      "      \"entity\": {\n",
      "         \"id\": 15484,\n",
      "         \"article_id\": 12124,\n",
      "         \"chunk_article\": \"à la nature et au mode de calcul des charges;c au mode de constitution, de versement et de libération de la garantie;d à la procédure d'entrée et de sortie des lieux;e aux obligations respectives des parties;f aux sanctions;g au mode de calcul des loyers ou des indemnités, en tenant compte des ressources des ménages locataires, du nombre d'enfants à charge ainsi que du degré de confort et d'équipement du logement;4° la procédure de recours 1erbis Le Gouvernement établit, sur la proposition de la Société wallonne du Logement, une Charte des sociétés et des locataires rappelant les droits et obligations de ceux-ci 2 Sur la proposition ou après avis de la Société, le Gouvernement fixe les conditions d'acquisition ou de vente d'un logement géré, construit ou vendu par la Société ou par une société de logement de service public.Ces conditions concernent notamment :1° les revenus du ménage;2° le patrimoine immobilier du ménage 3 Le présent article n'est pas applicable aux logements d'utilité publique gérés par la Société wallonne du Logement ou par les sociétés, sur lesquels elles ont un droit réel et n'ayant pas fait l'objet :1° d'une aide publique accordée en vertu du présent Code sauf autorisation du Gouvernement ou de son délégué s'agissant d'aide à l'équipement, au rééquipement, à l'aménagement et au réaménagement des équipements;2° pour l'acquisition ou la construction d'un financement public indirect via des recettes locatives perçues pour des logements ayant fait l'objet d'une aide publique.\"\n",
      "      }\n",
      "   },\n",
      "   {\n",
      "      \"id\": 15381,\n",
      "      \"distance\": 0.6272357702255249,\n",
      "      \"entity\": {\n",
      "         \"id\": 15381,\n",
      "         \"article_id\": 12050,\n",
      "         \"chunk_article\": \"§ 1er La Société wallonne du Logement peut accorder une aide à toute société de logement de service public qui construit un ou plusieurs logements d'utilité publique ou qui acquiert la propriété d'un ou plusieurs logements pour les affecter au logement d'utilité publique.La Société wallonne du Logement intervient dans le coût de la construction ou de l'acquisition\"\n",
      "      }\n",
      "   },\n",
      "   {\n",
      "      \"id\": 15528,\n",
      "      \"distance\": 0.626291811466217,\n",
      "      \"entity\": {\n",
      "         \"id\": 15528,\n",
      "         \"article_id\": 12156,\n",
      "         \"chunk_article\": \"2 Après autorisation de la Société wallonne du Logement, la société peut conclure, avec une ou plusieurs sociétés, un pouvoir public, un organisme à finalité sociale, un organisme d'insertion socio-professionnel, un centre d'insertion professionnelle, des conventions relatives à la réalisation de son objet social, à l'exclusion de conventions visant à mettre à disposition des immeubles ayant pour destination le logement.Le Gouvernement fixe, sur la proposition de la Société wallonne du Logement, les conditions de la mise à disposition de ces logements..\"\n",
      "      }\n",
      "   },\n",
      "   {\n",
      "      \"id\": 15523,\n",
      "      \"distance\": 0.622195839881897,\n",
      "      \"entity\": {\n",
      "         \"id\": 15523,\n",
      "         \"article_id\": 12153,\n",
      "         \"chunk_article\": \"La société a pour missions :1° la gestion et la mise en location de logements d'utilité publique2;1°bis l'accueil des locataires lors de leur entrée dans un logements d'utilité publique, 2;2° l'achat, la construction, la réhabilitation, la conservation, l'amélioration, l'adaptation,de logements et la restructuration de bâtiments dont elle est propriétaire, ou sur lesquels elle dispose de droits réels, en vue de les affecter principalement au logement °bis Toute opération immobilière en ce compris la conception, le montage et le suivi de projets immobilierset toute opération de gestion ou de mise en location de bâtiments en vue de les affecter en partie au logement, 2.3° la vente :a) d'immeubles dont elle est propriétaire;b) de logements mis en location ou ayant fait l'objet d'une mise en location, dont elle est propriétaire et ayant fait l'objet d`une aide publique accordée en vertu du présent Code et situés sur un terrain dont la société est propriétaire.Cette vente est réalisée conformément aux conditions fixées par le Gouvernement, sur la proposition de la Société wallonne du Logement.Ces conditions visent :- la durée minimale d'affectation publique;- les modalités de fixation du prix de vente;- les obligations faites aux candidats-acquéreurs;- la situation financière de la société;- la durée d'occupation minimale par le locataire candidat-acquéreur;- le pourcentage de logements publics dans la commune sur laquelle se trouve le bien;- les aides octroyées par la Région pour la reconstitution du patrimoine de la société;- l'apurement préalable des éventuelles dettes du locataire candidat-acquéreur envers la société;- la création d'une éventuelle copropriété.Lorsque le logement est occupé et que le locataire occupant le logement, non titulaire d'un droit réel sur un autre logement, a manifesté son intérêt d'acheter le logement, la société ne peut refuser de vendre que si :1° soit, après autorisation du Gouvernement ou de son délégué, la vente de logements met gravement en péril la situation financière de la société\"\n",
      "      }\n",
      "   },\n",
      "   {\n",
      "      \"id\": 15353,\n",
      "      \"distance\": 0.6213684678077698,\n",
      "      \"entity\": {\n",
      "         \"id\": 15353,\n",
      "         \"article_id\": 12032,\n",
      "         \"chunk_article\": \"Avant toute mise en location d'une habitation légère, le bailleur doit être titulaire d'un permis de location.L'habitation légère doit :1° respecter les critères de sécurité, de salubrité et de surpeuplement relatifs aux habitations légères fixés par le Gouvernement sur la base du présent Code;2° respecter l'obligation d'équipement en matière de détecteurs d'incendie;3° respecter les réglementations communales en matière de salubrité et de sécurité incendie relatives à l'habitation légère;4° avoir été construite, aménagée ou créée dans le respect des dispositions applicables en matière d'aménagement du territoire et d'urbanisme.Les réglementations communales visées à l'alinéa 2, 3°, peuvent être, préalablement à leur adoption, soumises pour avis à l'administration.\"\n",
      "      }\n",
      "   },\n",
      "   {\n",
      "      \"id\": 15382,\n",
      "      \"distance\": 0.6204617619514465,\n",
      "      \"entity\": {\n",
      "         \"id\": 15382,\n",
      "         \"article_id\": 12050,\n",
      "         \"chunk_article\": \"2 La Société wallonne du Logement peut accorder une aide à toute société de logement de service public qui acquiert, exproprie ou devient titulaire de droits réels sur un bâtiment améliorable en vue de le réhabiliter, de le restructurer ou de l'adapter pour y créer un ou plusieurs logements d'utilité publique.La Société wallonne intervient dans :1° le coût d'acquisition des droits réels du bâtiment;2° le coût de la réhabilitation, de la restructuration ou de l'adaptation.\"\n",
      "      }\n",
      "   },\n",
      "   {\n",
      "      \"id\": 15391,\n",
      "      \"distance\": 0.6184237003326416,\n",
      "      \"entity\": {\n",
      "         \"id\": 15391,\n",
      "         \"article_id\": 12056,\n",
      "         \"chunk_article\": \"§ 1er La Société wallonne du Logement peut accorder une aide à toute société de logement de service public qui crée un logement d'insertion.Le bâtiment créé avec l'aide de la Société wallonne du Logement est affecté au logement d'insertion pendant une période d'au moins neuf années 2\"\n",
      "      }\n",
      "   },\n",
      "   {\n",
      "      \"id\": 15421,\n",
      "      \"distance\": 0.6172621250152588,\n",
      "      \"entity\": {\n",
      "         \"id\": 15421,\n",
      "         \"article_id\": 12081,\n",
      "         \"chunk_article\": \"La Société wallonne du Logement, à la demande des sociétés de logement de service public, peut exécuter, pour leur compte, les travaux d'équipement, de rééquipement ou d'aménagement.Le Gouvernement fixe les conditions de l'intervention de la Société wallonne du Logement.\"\n",
      "      }\n",
      "   },\n",
      "   {\n",
      "      \"id\": 13157,\n",
      "      \"distance\": 0.615899920463562,\n",
      "      \"entity\": {\n",
      "         \"id\": 13157,\n",
      "         \"article_id\": 10410,\n",
      "         \"chunk_article\": \"Sans préjudice de l'application de l'article 43/7, alinéa 1er, 4°, les établissements d'accueil et d'hébergement sont autorisés à facturer un prix de location de la chambre aux résidents.Ce prix est à charge des organismes assureurs wallons, selon les conditions et les modalités définies par et en vertu du présent Titre.\"\n",
      "      }\n",
      "   },\n",
      "   {\n",
      "      \"id\": 13680,\n",
      "      \"distance\": 0.609048068523407,\n",
      "      \"entity\": {\n",
      "         \"id\": 13680,\n",
      "         \"article_id\": 10829,\n",
      "         \"chunk_article\": \"Une maison d'hébergement collectif doit :1° être située dans une commune francophone de la Région wallonne;2° disposer d'une capacité d'hébergement de jour comme de nuit d'au moins huit personnes en difficultés prolongées;3° disposer de chambres, c'est-à-dire d'espaces privatifs destinés aux résidents, répondant toutes aux caractéristiques suivantes :a) être destinée à deux résidents au maximum;b) être d'une superficie d'au moins 10 m2 pour une personne seule et de 15 m2 si elles sont occupées par deux personnes;c) être équipée de mobiliers par les résidents qui les occupent ou, à défaut, par la maison d'hébergement collectif Le mobilier doit comprendre au minimum un lit (ou un lit double pour un couple), une chaise, une table et un placard ou une armoire pour entreposer des vêtements;d) être équipée d'un point d'eau potable;e) être équipée d'une fenêtre avec une ouverture vers l'extérieur;f) être équipée d'une prise électrique 220 V sécurisée;4° disposer d'un équipement collectif comprenant au minimum :a) une salle commune d'une superficie d'au moins 12 m2 augmentée d'1 m2 par résident, constituant un lieu de rencontre et de convivialité pour les résidents qui le souhaitent;b) un réfectoire d'une superficie d'au moins 10 m2 augmentée d'1 m2 par résident;c) une cuisine contenant au minimum un évier avec eau chaude et froide, des revêtements de sol et murs lavables, une table de cuisson et un frigo;d) de sanitaires séparés selon le genre et comprenant au moins une douche et/ou baignoire pour 4 résidents.\"\n",
      "      }\n",
      "   },\n",
      "   {\n",
      "      \"id\": 1294,\n",
      "      \"distance\": 0.6084746718406677,\n",
      "      \"entity\": {\n",
      "         \"id\": 1294,\n",
      "         \"article_id\": 883,\n",
      "         \"chunk_article\": \"De l'habitat intergénérationnel et solidaireLes biens d'habitation destinés à la location des logements visés à l'article 2, 25° et 26°, peuvent se voir attribuer un label spécifique Le Gouvernement définit les exigences auxquelles ces biens doivent répondre afin de se voir attribuer ce label.Le Gouvernement peut, pour les logements bénéficiant de ce label, prévoir des dérogations portant notamment sur le régime applicable au bail, à sa durée, aux conditions de sa résiliation et sur les conditions d'occupation du bien.\"\n",
      "      }\n",
      "   },\n",
      "   {\n",
      "      \"id\": 15760,\n",
      "      \"distance\": 0.6077367663383484,\n",
      "      \"entity\": {\n",
      "         \"id\": 15760,\n",
      "         \"article_id\": 12303,\n",
      "         \"chunk_article\": \"§ 1er Un permis est nécessaire pour détenir un animal.Toute personne détient de plein droit et de manière immatérielle le permis visé à l'alinéa 1er, pour autant que le permis n'ait pas été retiré, de manière permanente ou temporaire, en vertu d'une décision, judiciaire ou administrative, coulée en force de chose jugée, aux motifs d'une infraction au présent Code ou à ses arrêtés d'exécution Lorsque la personne qui détient l'animal est une personne physique, elle doit avoir atteint la majorité 2 Sans préjudice du paragraphe 1er, toute personne qui détient un animal doit avoir la compétence et la capacité pour le détenir.Sur avis du Conseil wallon du Bien-être des animaux, le Gouvernement peut arrêter des règles relatives aux compétences et capacités nécessaires des personnes qui détiennent un animal Il peut, notamment, soumettre la détention d'un animal à un régime d'autorisation\"\n",
      "      }\n",
      "   },\n",
      "   {\n",
      "      \"id\": 15354,\n",
      "      \"distance\": 0.6068902015686035,\n",
      "      \"entity\": {\n",
      "         \"id\": 15354,\n",
      "         \"article_id\": 12033,\n",
      "         \"chunk_article\": \"Le permis de location est délivré au bailleur dans les quinze jours du dépôt de sa déclaration de mise en location, à condition que cette déclaration soit accompagnée d'une attestation établissant qu'après enquête l'habitationfaisant l'objet de la demande de permis de location réponde aux conditions fixées par l'article 10 ou l'article 10bis.Cette attestation émane :1° d'une personne agréée à cet effet par le Gouvernement pour les conditions visées aux articles 10, 1°, 1°bis et 3°, et 10bis, 1° et 2°;2° de la commune pour les conditions visées à l'article 10bis, 3° et 4° Le bailleur et le locataire ne peuvent s'opposer à l'enquête susvisée et aux visites de contrôle\"\n",
      "      }\n",
      "   }\n",
      "]\n"
     ]
    }
   ],
   "source": [
    "print(df_questions['article_ids'].iloc[m])\n",
    "formatted_result = json.dumps(search_results[0], indent=3, ensure_ascii=False)\n",
    "print(formatted_result)"
   ]
  },
  {
   "cell_type": "markdown",
   "metadata": {},
   "source": [
    "-----------"
   ]
  },
  {
   "cell_type": "code",
   "execution_count": 124,
   "metadata": {},
   "outputs": [
    {
     "name": "stdout",
     "output_type": "stream",
     "text": [
      "[\"La société doit procéder au recrutement d'un référent social chargé d'assurer le lien avec les acteurs sociaux locaux pour offrir un accompagnement social aux locataires de logements d'utilité publique gérés par la société, en veillant particulièrement à ce que l'accompagnement des personnes en transition entre les modes d'hébergement et le logement social accompagné soit assuré.Le Gouvernement détermine les conditions de recrutement du référent social ainsi que les modalités de mise en réseau de l'accompagnement social.Le Gouvernement subventionne la rémunération du référent social dans les conditions qu'il détermine.\", \"Le Gouvernementpeut accorder une aide à toute société de logement de service public qui acquiert un bâtiment non améliorable en vue de le démolir et d'affecter le terrain ainsi libéré à la construction de logements, et accessoirement, dans les limites fixées par le Gouvernement, à des équipements d'intérêt collectif en ce compris les éléments constitutifs d'un réseau de chaleur faisant partie intégrante d'un ensemble de logements.Le Gouvernementintervient dans le coût d'acquisition et de démolition du bâtiment.\", \"Le Gouvernement peut déterminer d'autres opérations pour lesquelles une aide peut être accordée par le Gouvernementaux sociétés de logement de service public, en raison d'événements exceptionnels ou en vue d'assurer la conservation ou l'amélioration des logements.\", \"§ 1er. Le Gouvernementpeut accorder une aide à toute société de logement de service public qui crée un logement de transit.Le bâtiment créé avec l'aide du Gouvernementest affecté au logement de transit pendant une période d'au moins neuf années.§ 2. La mise à disposition d'un logement de transit est complétée par un accompagnement des occupants, visant à favoriser le transfert vers un logement stable.\", \"S'il échet, par dérogation aux dispositions du Décret relatif au bail d'habitation, le Gouvernement fixe les conditions de mise en gestion du logement.Ces conditions concernent :1° les normes auxquelles doivent répondre les logements;2° l'admission des candidats locataires;3° le mode de calcul du loyer des logements donnés en location, en tenant compte notamment des ressources et des charges de famille des locataires, ainsi que du degré de confort et de l'ancienneté de ces logements;4° les dispositions relatives au contrat de bail, notamment à la durée du bail, à la durée des congés, aux redevances et charges, à la garantie locative et aux sanctions en cas de non-respect des dispositions régissant le régime locatif;5° les dispositions relatives aux modalités de contrôle de la gestion de l'opérateur immobilier.\", \"Lorsqu'une aide est octroyée à une personne morale en exécution du programme visé à l'article 188, l'octroi de l'aide, pour les opérations visées à l'article 29, § 1er, 1°, est subordonnée au respect des conditions suivantes :1° La personne morale soumet, pour approbation, l'avant-projet urbanistique et architectural relatif à la conception des logements, bâtiments et équipements à créer, réhabiliter, restructurer, améliorer ou conserver selon les conditions et modalités arrêtées par le Gouvernement;2° Les décisions arrêtant les conditions des marchés publics de travaux, fournitures et services dont le montant est supérieur à celui fixé en application de l'article 42, § 1er, 1°, a), de la loi du 17 juin 2016 relative aux marchés publics sont soumises pour approbation selon les conditions et modalités déterminées par le Gouvernement.Toute décision portant sur l'attribution des marchés susvisés peut être suspendue ou annulée selon les conditions et modalités déterminées par le Gouvernement;3° Toute décision portant sur l'attribution des marchés publics de travaux, fournitures et services dont le montant est égal ou inférieur à celui fixé en application de l'article 42, § 1er, 1°, a), de la loi du 17 juin 2016 relative aux marchés publics peut être suspendue ou annulée selon les conditions et modalités déterminées par le Gouvernement;4° Par décision motivée, en fonction de l'ampleur de l'objet du marché et du résultat de l'audit réalisé auprès de la personne morale, les décisions portant sur le choix du mode de passation, l'arrêt des conditions et l'attribution des marchés peuvent être soumis à des avis supplémentaires selon les conditions et modalités déterminées par le Gouvernement.\", \"Tout pouvoir public relevant du champ d'activité de la société, tout centre d'insertion socioprofessionnelle agréé en vertu du décret du 10 juillet 2013 relatif aux centres d'insertion socioprofessionnelle ou tout organisme à finalité sociale, peut prendre en location un logement d'utilité publique, géré par une société de logement de service public afin de le mettre à disposition, sous sa seule responsabilité, d'un ménage de catégorie 1 et 2.Le nombre de logements pouvant être pris ainsi en location est limité à 5% du patrimoine de la société de logement de service public, parmi les logements déterminés par celle-ci, sur la base de critères objectifs dument motivés.Ce pourcentage ne tient pas compte des logements conventionnés dans le cadre d'un projet spécifique autorisés par la Société wallonne du Logement.Sur la proposition de la Société wallonne du Logement, le Gouvernement fixe les conditions de mise en location de ces logements.\", \"La présente section s'applique aux logements collectifs , aux petits logements individuels et aux habitations légèresloués ou mis en location à titre de résidence principale ou avec la vocation principale d'hébergement d'étudiants.Toutefois, les dispositions de la présente section ne s'appliquent pas :1° aux logements situés dans le bâtiment où le bailleur a établi sa résidence principale et qui sont loués ou mis en location à deux ménages au plus, pour autant que le nombre total d'occupants des biens loués ne dépasse par quatre personnes;2° aux logements de type unifamilial occupés par moins de 5 personnes majeures ne constituant pas un seul et même ménage au sens de l'article 1er, 28° du présent Code, liées par un contrat de colocation.\", \"§ 1er. La société de logement de service public, ci-après dénommée la société, est une personne morale de droit public.Pour bénéficier des dispositions du présent chapitre et du chapitre IV du titre II, la société doit être agréée par la Société wallonne du logement et être constituée sous forme de société coopérative à responsabilité limitée, soumise au Code des sociétés, à l'exception des matières réglées par le présent Code. La Région, les provinces, les intercommunales, les communes, les centres publics d'action sociale, les personnes morales de droit privé, les organisations du monde du travail et les personnes physiques sont admis à souscrire au capital d'une société. § 2. Le Gouvernement fixe les conditions d'agrément concernant :1° l'objet social;2° les statuts;3° au besoin, le plan de gestion.\", \"Avant toute mise en location d'un logement visé à la présente section, le bailleur doit être titulaire d'un permis de location.Le logement doit :1° respecter les critères de salubrité et les critères relatifs à la structure du logement et à sa dimension fixés par le Gouvernement sur la base du présent Code;1°bis respecter l'obligation d'équipement en matière de détecteurs d'incendie;2° respecter les règlements communaux en matière de salubrité ainsi que les règlements en matière de sécurité incendie; Ceux-ci peuvent être, préalablement à leur adoption, soumis pour avis à l'administration. 3° garantir l'inviolabilité du domicile et le respect de la vie privée, notamment :a) par un système de fermeture à clé des locaux à usage individuel;b) par des boîtes aux lettres fermant à clé, à l'exception des logements dont la vocation principale est l'hébergement d'étudiants.° avoir été construit, aménagé ou créé dans le respect des dispositions applicables en matière d'aménagement du territoire et d'urbanisme.5° disposer du certificat de performance énergétique du bâtiment lorsque ce certificat est exigé par la législation en la matière, ainsi que de la preuve du contrôle des installations de chauffage exigé par la législation en la matière.\", \"On entend par réalisation d'un ensemble visé à l'article 69, une ou plusieurs des opérations suivantes :1° la restructuration d'un bâtiment;2° l'adaptation ou la réhabilitation d'un logement améliorable;3° la démolition d'un logement non améliorable et la reconstruction d'un logement sur le terrain ainsi libéré;4° la construction d'un logement;5° l'acquisition d'un bâtiment destiné au logement qui n'a jamais été occupé ou dont la construction n'est pas achevée6° le lotissement de parcelles de terrain en vue de permettre à des particuliers d'acquérir un droit réel sur l'une de ces parcelles pour y construire ou faire construire pour leur compte un logement, ou pour en acquérir la propriété en vertu d'une convention conclue avec une entreprise privée, quelle que soit la nature ou la qualification de cette convention;7° la remise en état d'un terrain bâti en vue, principalement, d'y rénover ou créer des logements.\", 'Le Gouvernementpeut accorder la subvention, dans le respect de la sous-section 2 de la présente section.Le Gouvernement fixe les conditions et les modalités de mise en oeuvre de la présente sous-section.', '§ 1er. Dans le but de servir la politique foncière agricole conformément aux objectifs prévus à l\\'article D.1er, le Gouvernement peut acquérir, au moyen du fonds budgétaire institué en vertu de la section 5 du présent chapitre, des biens immobiliers agricoles dans le cadre :1° d\\'une vente de gré à gré;2° d\\'une vente publique;3° de l\\'exercice du droit de préemption dont la Région wallonne est titulaire en vertu de la section 3 du présent chapitre;4° de l\\'exercice du droit d\\'expropriation dont la Région wallonne est titulaire en vertu de la section 4 du présent chapitre.§ 2. Le prix d\\'acquisition correspond, dans le cadre :1° d\\'une vente de gré à gré : au maximum au prix estimé;2° d\\'une vente publique : au maximum au prix estimé, sauf s\\'il est nécessaire de mettre un prix supérieur pour lutter contre la spéculation;3° de l\\'exercice du droit de préemption : au prix proposé par l\\'acheteur et si nécessaire, à un prix supérieur à celui estimé.En cas d\\'exercice du droit d\\'expropriation dont la Région wallonne est titulaire en vertu de la section 4 du présent chapitre, l\\'indemnité est fixée conformément au décret du 22 novembre 2018 relatif à la procédure d\\'expropriation.§ 3. Pour l\\'application du paragraphe 2, on entend par \" prix estimé \", la valeur estimée à la demande de l\\'Administration, par le Comité d\\'acquisition, par le receveur de l\\'enregistrement, par un notaire, par un expert géomètre immobilier inscrit au tableau du conseil fédéral des géomètres-experts, ou par un architecte inscrit à l\\'Ordre des Architectes.', \"Les membres du personnel de la Société ne peuvent cumuler leurs fonctions avec celles  d'administrateur, de directeur-gérant ou de membre du personnel d'une société de logement de service public, d'administrateur de la Société, de commissaire visées à l'article 115 et de réviseur visées à l'article 116.public.\", \"Pacte de colocation§ 1er. Les colocataires établissent un pacte de colocation afin de formaliser les aspects de la vie en communauté et les modalités pratiques de ce mode d'habitat.§ 2. Le pacte peut prévoir l'obligation de procéder à un état des lieux intermédiaire lors du départ anticipé d'un colocataire afin de déterminer les responsabilités de chacun et de ventiler les frais de réparation locative.§ 3. En cas de départ anticipé d'un colocataire, une adaptation formelle du pacte est signée par les colocataires.\", \"La Société peut ester en justice à la poursuite et à la diligence de son organe d'administration statutairement désigné.\", \"§ 1er. Sur la proposition de la Société wallonne du Logement, le Gouvernement fixe les conditions d'élaboration, d'exécution et d'évaluation des contrats d'objectifs, à passer entre la Société wallonne du Logement et la société.Le contrat d'objectifs fait référence aux matières suivantes : administrative, financière, immobilière, locative, sociale, ressources humaines, gouvernance, communication et information. Le contrat d'objectifs est arrêté par le Conseil d'administration de la société, qui le soumet ensuite pour approbation à la Société wallonne du Logement.§ 2. Les contrats d'objectifs sont établis pour une période de cinq ans et sont évalués annuellement.\", 'Les opérateurs immobiliers communiquent au collège communal concerné au moins une fois par an, à la date fixée par celui-ci ou, à défaut, le 30 décembre :1° la liste des logements pour lesquels il a été fait application des dispositions des sections 1/1 et 2;2° pour chaque logement, le résultat des procédures initiées en application des dispositions des sections 1/1 et 2.', \"§ 1er. La perte de l'agrément intervient :1° soit à la demande du conseil d'administration du Guichet, moyennant un préavis de six mois notifié à la Société par pli recommandé à la poste;2° soit à son expiration;3° soit par la liquidation de la personne morale;4° soit en raison de la faillite de la personne morale;5° soit par le retrait de l'agrément visé à l'article 178.1 ou son non renouvellement.§ 2. En cas de perte de l'agrément, la personne morale est tenue de se conformer aux mesures conservatoires et aux modalités de fins d'agrément arrêtées par le Gouvernement.\", \"§ 1er. Le Gouvernementpeut accorder une aide à toute société de logement de service public qui crée un logement d'insertion.Le bâtiment créé avec l'aide du Gouvernementest affecté au logement d'insertion pendant une période d'au moins neuf années.§ 2. La mise à disposition d'un logement d'insertion est complétée par un accompagnement social des occupants.\"]\n"
     ]
    }
   ],
   "source": [
    "entity_ids = [result[\"entity\"][\"article\"] for result in search_results[0]]\n",
    "print(entity_ids)"
   ]
  },
  {
   "cell_type": "markdown",
   "metadata": {},
   "source": [
    "#### ALL Predictions"
   ]
  },
  {
   "cell_type": "code",
   "execution_count": 28,
   "metadata": {},
   "outputs": [],
   "source": [
    "def retrieve_all_predictions(df_questions, client, collection_name):\n",
    "    predictions_dict = {}\n",
    "\n",
    "    # all partitions\n",
    "    all_partitions = client.list_partitions(collection_name=collection_name)\n",
    "\n",
    "    for m in tqdm(range(len(df_questions))):\n",
    "        # Generate the query vectors\n",
    "        query_vectors = generate_embedding(df_questions['complet_quesiton'].iloc[m])\n",
    "        \n",
    "        # # Select and normalize partitions\n",
    "        # selected_partitions = df_questions['big_category'].iloc[m]\n",
    "        # normalized_selected_partitions = [re.sub(r'\\s+|-', '_', partition) for partition in selected_partitions]\n",
    "        # normalized_selected_partitions = [re.sub(r'[^a-zA-Z0-9_]', '', partition) for partition in normalized_selected_partitions]\n",
    "\n",
    "        # Load partitions into the client\n",
    "        client.load_partitions(collection_name=collection_name, partition_names= all_partitions[1:]) # remove the default partition\n",
    "        \n",
    "        # Search for results in the collection\n",
    "        search_results = client.search(\n",
    "            collection_name=collection_name,\n",
    "            data=[query_vectors],\n",
    "            partition_names= all_partitions[1:],\n",
    "            limit=40,\n",
    "            search_params={\"metric_type\": \"COSINE\", \"params\": {}},\n",
    "            output_fields=['id', 'article_id', 'chunk_article']\n",
    "        )\n",
    "        \n",
    "        # Collect predicted_ids and predictions_articles\n",
    "        predicted_ids = [result[\"entity\"][\"article_id\"] for result in search_results[0]]\n",
    "        predictions_articles = [result[\"entity\"][\"chunk_article\"] for result in search_results[0]]\n",
    "        \n",
    "        # Populate the dictionary\n",
    "        predictions_dict[m] = {\n",
    "            'predicted_ids': predicted_ids,\n",
    "            'predictions_articles': predictions_articles\n",
    "        }\n",
    "    \n",
    "    return predictions_dict\n"
   ]
  },
  {
   "cell_type": "code",
   "execution_count": 29,
   "metadata": {},
   "outputs": [
    {
     "name": "stderr",
     "output_type": "stream",
     "text": [
      "100%|██████████| 886/886 [01:39<00:00,  8.91it/s]\n"
     ]
    }
   ],
   "source": [
    "all_predicted_dict = retrieve_all_predictions(df_questions, client, collection_name)"
   ]
  },
  {
   "cell_type": "code",
   "execution_count": 85,
   "metadata": {},
   "outputs": [
    {
     "data": {
      "text/plain": [
       "{'predicted_ids': [2260,\n",
       "  18873,\n",
       "  19500,\n",
       "  14583,\n",
       "  2029,\n",
       "  15821,\n",
       "  1726,\n",
       "  14411,\n",
       "  2189,\n",
       "  2160,\n",
       "  2415,\n",
       "  14503,\n",
       "  2453,\n",
       "  1443,\n",
       "  1449,\n",
       "  14502,\n",
       "  2183,\n",
       "  14598,\n",
       "  2254,\n",
       "  2434],\n",
       " 'predictions_articles': [\"a) céder ou donner en gage des créances hypothécaires;b) percevoir le prix de l'aliénation d'immeubles ou le remboursement de créances hypothécaires, donner mainlevée des inscriptions;c) accepter ou refuser un legs ou une donation lorsqu'il est stipulé que les biens légués ou donnés seront communs;d) contracter un emprunt;e) conclure un contrat de crédit, visé par la loi du 12 juin 1991 relative au crédit a la consommation, sauf si ces actes sont nécessaires aux besoins du ménage ou à l'éducation des enfants.\",\n",
       "  '2 Faute par le tiers détenteur de payer les dettes privilégiées et hypothécaires dans les termes et délais accordés au débiteur, ou de remplir les formalités qui seront établies ci-après pour purger sa propriété, chaque créancier a le droit de faire vendre le navire de mer grevé.',\n",
       "  '2 Faute par le tiers détenteur de payer les dettes privilégiées et hypothécaires dans les termes et délais accordés au débiteur, ou de remplir les formalités qui seront établies ci-après pour purger sa propriété, chaque créancier a le droit de faire vendre le bateau de navigation intérieure grevé.',\n",
       "  \"§ 1er Lorsque le prêteur n'a pas respecté les obligations ou les interdictions visées aux articles VII.126, VII.127, VII.129, VII.130, VII.133 et VII.147, les formalités visées à l'article VII.132 ou les mentions visées à l'article VII.134, le juge peut :1° sans préjudice des sanctions de droit commun, pour un prêt hypothécaire avec une destination mobilière, déclarer nul le contrat ou réduire les obligations du consommateur au montant du crédit prélevé et relever le consommateur de tout ou partie des intérêts de retard Dans ce dernier cas, le consommateur conserve le bénéfice de l'échelonnement des paiements;2° pour un crédit hypothécaire avec une destination immobilière, condamner le prêteur au paiement unique de dommages et intérêts de 40 p.c maximum de tous les intérêts du crédit lorsque le montant du crédit prélevé est inférieur ou égal à 20 000 euros, de 30 p.c\",\n",
       "  \"Les effets de l'obligation de donner ou de livrer un immeuble sont réglés au titre de la Vente et au titre des Privilèges et Hypothèques.\",\n",
       "  \"Sont inopposables à la masse, lorsqu'ils ont été faits par le débiteur depuis l'époque déterminée par le tribunal comme étant celle de la cessation de ses paiements, sans préjudice des articles XX.37, XX.53, XX.65 et XX.82:1° tous actes de disposition à titre gratuit portant sur des meubles ou immeubles, ainsi que les actes, opérations ou contrats commutatifs ou à titre onéreux, si la valeur de ce qui a été donné par le failli dépasse notablement celle de ce qu'il a reçu en retour;2° tous paiements, soit en espèces, soit par transport, vente, ou autrement, pour dettes non échues, tous paiements faits autrement qu'en espèces ou effets de commerce;3° toutes hypothèques conventionnelles et tous droits d'antichrèse ou de gage constitués sur les biens du débiteur pour dettes antérieurement contractées.\",\n",
       "  \"Il est tenu, si les créanciers ou autres personnes intéressées l'exigent, de donner caution bonne et solvable de la valeur du mobilier compris dans l'inventaire et de la portion du prix des immeubles non délégués aux créanciers hypothécaires, sans préjudice de l'application de l'article 804.Faute par lui de fournir cette caution, les meubles sont vendus et leur prix est déposé, ainsi que la portion non déléguée du prix des immeubles, pour être employés à l'acquit des charges de la succession.\",\n",
       "  \"2 Le prêteur ne peut conclure de contrat de crédit que si, compte tenu des informations dont il dispose ou devrait disposer, il doit raisonnablement estimer que le consommateur sera à même de respecter les obligations découlant du contrat.Lorsque, dans le chef du consommateur, un (des) impayé(s) est (sont) enregistré(s) dans la Centrale d'un montant total impayé de plus de 1.000 euros dans le cadre d'un crédit à la consommation et/ou un crédit hypothécaire avec une destination mobilièrequi n'a(ont) pas été remboursé(s), un prêteur ne peut conclure un nouveau contrat de crédit Dans les autres cas d'impayé(s) non remboursé(s), un prêteur ne peut conclure un nouveau contrat de crédit que moyennant une motivation complémentaire dans le dossier de crédit.\",\n",
       "  \"Celui qui a payé une dette qui était, de droit, éteinte par la compensation, ne peut plus, en exerçant la créance dont il n'a point opposé la compensation, se prévaloir, au préjudice des tiers, des privilèges ou hypothèques qui y étaient attachés, à moins qu'il n'ait eu une juste cause d'ignorer la créance qui devait compenser sa dette.\",\n",
       "  \"Les créanciers ne peuvent refuser la cession judiciaire, si ce n'est dans les cas exceptés par la loi.Elle opère la décharge de la contrainte par corps.Au surplus, elle ne libère le débiteur que jusqu'à concurrence de la valeur des biens abandonnés et dans le cas où ils auraient été insuffisants, s'il lui en survient d'autres, il est obligé de les abandonner jusqu'au parfait payement.\",\n",
       "  \"Si l'acheteur ne paye pas le prix, le vendeur peut demander la résolution de la vente.\",\n",
       "  \"§ 1er Sans préjudice de l'application de l'article VII.147/13, § 1er, toute clause qui prévoit une déchéance du terme ou une condition résolutoire expresse est interdite et réputée non écrite, à moins d'être stipulée :1° pour le cas où le consommateur serait en défaut de paiement d'au moins deux montants d'un terme, d'une somme équivalente à 20 p.c du montant total dû par le consommateur ou des montants correspondants pour la reconstitution du capital, et ne se serait pas exécuté un mois après l'envoi recommandé d'une lettre contenant mise en demeure Ces modalités doivent être rappelées par le prêteur au consommateur lors de la mise en demeure;2° pour le cas d'un crédit hypothécaire avec une destination mobilière où le consommateur aliénerait le bien mobilier financé avant le paiement du prix ou en ferait un usage contraire aux stipulations du contrat, alors que le prêteur s'en serait réservé la propriété;3° pour le cas d'un crédit hypothécaire avec une destination mobilière où le consommateur dépasserait le montant du crédit visé aux articles VII.147/15 et VII.147/16 et ne se serait pas exécuté un mois après l'envoi recommandé d'une lettre contenant mise en demeure;4° pour le cas où le consommateur est déclaré en faillite;5° lorsque par son fait le consommateur a diminué la sûreté hypothécaire qu'il avait donnée par le contrat de crédit dans les cas suivants :a) si le bien immobilier qui fait l'objet de la sûreté hypothécaire est partiellement ou totalement aliéné, vendu, échangé ou donné entre vifs;b) si le bien immobilier qui fait l'objet d'un mandat hypothécaire ou d'une promesse hypothécaire est grevé d'une hypothèque 2 Le juge peut, sans préjudice des sanctions de droit commun et de l'application de l'article VII.134, § 4, ordonner la résolution du contrat aux torts du consommateur dans les cas suivants :1° si le bien immobilier, qui est grevé d'une sûreté hypothécaire, fait l'objet d'une saisie par un autre créancier;2° si l'inscription hypothécaire n'occupe pas le rang convenu avec le consommateur;3° en cas de diminution de la sûreté hypothécaire suite à une diminution substantielle de la valeur du bien immobilier imputable au consommateur : par une modification de la nature ou de la destination, par une altération grave, par une pollution grave, par la mise en location en dessous du prix normal de location ou par la mise en location pour une durée supérieure à neuf ans, sauf accord du prêteur;4° en cas de copropriété : de modification de l'acte de base approuvé par le consommateur avec pour conséquence une diminution de la valeur;5° au cas où le contrat d'assurance incendie, d'assurance solde restant dû ou d'assurance décès temporaire à capital constat convenu n'est pas annexé dans un délai de trois mois après le passage de l'acte authentique de crédit;6° si le consommateur a sciemment dissimulé de l'information au sens de l'article VII.126 ou a donné une information contraire à la vérité suite à quoi sa solvabilité a été mal évaluée;7° si un entrepreneur, un architecte, un maçon ou tout autre ouvrier a rédigé le procès-verbal visé à l'article 27, 5°, de la loi hypothécaire du 16 décembre 1851;8° si le bien immobilier financé par le contrat de crédit n'est pas totalement achevé et approprié pour une location dans les 24 mois de la signature de l'acte authentique de crédit ou si les travaux ne sont pas exécutés conformément aux plans et aux cahiers de charges ou aux permis délivrés;9° si le crédit est utilisé dans un autre but que celui indiqué par le consommateur 3\",\n",
       "  \"La vente ou cession d'une créance comprend les accessoires de la créance, tels que caution, privilège et hypothèque.\",\n",
       "  \"Toute rente établie à perpétuité pour le prix de la vente d'un immeuble, ou comme condition de la cession à titre onéreux ou gratuit d'un fonds immobilier, est essentiellement rachetable.Il est néanmoins permis au créancier de régler les clauses et conditions du rachat.Il lui est aussi permis de stipuler que la rente ne pourra lui être remboursée qu'après un certain terme, lequel ne peut jamais excéder trente ans : toute stipulation contraire est nulle.\",\n",
       "  \"La vente ou le don d'une maison, avec tout ce qui s'y trouve, ne comprend pas l'argent comptant, ni les dettes actives et autres droits dont les titres peuvent être déposés dans la maison tous les autres effets mobiliers y sont compris.\",\n",
       "  \"En cas de cession ou de subrogation pour la créance résultant d'un crédit hypothécaire avec une destination mobilière, le consommateur conserve à l'égard du cessionnaire ou du créancier subrogé les moyens de défense, en ce compris le recours à la compensation, qu'il peut opposer au cédant ou au subrogeant Toute clause contraire est réputée non écrite.\",\n",
       "  \"La compensation a lieu, quelles que soient les causes de l'une ou l'autre des dettes, excepté dans le cas :1° De la demande en restitution d'une chose dont le propriétaire a été injustement dépouillé;2° De la demande en restitution d'un dépôt et du prêt a usage;3° D'une dette qui a pour cause des aliments déclarés insaisissables.\",\n",
       "  \"§ .1er Sans préjudice de l'application des dispositions précédentes du présent chapitre, si le prêteur ou l'intermédiaire de crédit ne respecte pas les obligations ou interdictions contenues dans le titre 4, chapitre 2, ou dans ses arrêtés d'exécution, le consommateur peut rembourser le crédit à tout moment et sans indemnité quelconque à sa charge Si le consommateur fait usage de ce droit et qu'il n'est pas possible de déterminer le taux débiteur ou le taux périodique parce que l'acte constitutif n'indique pas les éléments nécessaires, les intérêts courus sont calculés au taux légal 2\",\n",
       "  \"Les mêmes règles valent pour les dettes résultant d'une condamnation pénale prononcée contre un seul des époux ou d'un délit ou quasi-délit commis par lui.En outre, en cas d'insuffisance du patrimoine propre de l'époux débiteur, le payement de ces dettes pourra être poursuivi sur le patrimoine commun à concurrence de la moitié de son actif net.\",\n",
       "  \"Le vendeur qui use du pacte de rachat, doit rembourser non seulement le prix principal, mais encore les frais et loyaux coûts de la vente, les réparations nécessaires, et celles qui ont augmenté la valeur du fonds, jusqu'à concurrence de cette augmentation Il ne peut entrer en possession qu'après avoir satisfait à toutes ces obligations.Lorsque le vendeur rentre dans son héritage par l'effet du pacte de rachat il le reprend exempt de toutes les charges et hypothèques dont l'acquéreur l'aurait grevé\"]}"
      ]
     },
     "execution_count": 85,
     "metadata": {},
     "output_type": "execute_result"
    }
   ],
   "source": [
    "all_predicted_dict[885]"
   ]
  },
  {
   "cell_type": "code",
   "execution_count": 30,
   "metadata": {},
   "outputs": [
    {
     "name": "stdout",
     "output_type": "stream",
     "text": [
      "Predictions saved in compressed format!\n"
     ]
    }
   ],
   "source": [
    "import gzip\n",
    "\n",
    "# Store the result in a compressed JSON file\n",
    "with gzip.open('all_predictions_RSChunk.json.gz', 'wt', encoding='utf-8') as f:\n",
    "    json.dump(all_predicted_dict, f)\n",
    "\n",
    "print('Predictions saved in compressed format!')\n"
   ]
  }
 ],
 "metadata": {
  "kernelspec": {
   "display_name": "AI_App",
   "language": "python",
   "name": "python3"
  },
  "language_info": {
   "codemirror_mode": {
    "name": "ipython",
    "version": 3
   },
   "file_extension": ".py",
   "mimetype": "text/x-python",
   "name": "python",
   "nbconvert_exporter": "python",
   "pygments_lexer": "ipython3",
   "version": "3.12.7"
  }
 },
 "nbformat": 4,
 "nbformat_minor": 2
}
